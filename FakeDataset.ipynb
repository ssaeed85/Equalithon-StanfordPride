{
 "cells": [
  {
   "cell_type": "code",
   "execution_count": 1,
   "id": "a7417997",
   "metadata": {
    "ExecuteTime": {
     "end_time": "2022-06-20T18:48:08.421704Z",
     "start_time": "2022-06-20T18:48:08.409701Z"
    }
   },
   "outputs": [],
   "source": [
    "top_10_male_Fnames = [\n",
    "    'Liam',\n",
    "    'Noah',\n",
    "    'Oliver',\n",
    "    'Elijah',\n",
    "    'James',\n",
    "    'William',\n",
    "    'Benjamin',\n",
    "    'Lucas',\n",
    "    'Henry',\n",
    "    'Theodore',\n",
    "    'Jack',\n",
    "    'Levi',\n",
    "    'Alexander',\n",
    "    'Jackson',\n",
    "    'Mateo',\n",
    "    'Daniel',\n",
    "    'Michael',\n",
    "    'Mason',\n",
    "    'Sebastian',\n",
    "    'Ethan',\n",
    "]"
   ]
  },
  {
   "cell_type": "code",
   "execution_count": 3,
   "id": "f54e8cb8",
   "metadata": {
    "ExecuteTime": {
     "end_time": "2022-06-20T18:53:06.472844Z",
     "start_time": "2022-06-20T18:53:06.464852Z"
    }
   },
   "outputs": [],
   "source": [
    "top_10_female_Fnames = [\n",
    "    'Mary',\n",
    "    'Patricia',\n",
    "    'Jennifer',\n",
    "    'Linda',\n",
    "    'Elizabeth',\n",
    "    'Barbara',\n",
    "    'Susan',\n",
    "    'Jessica',\n",
    "    'Sarah',\n",
    "    'Karen',\n",
    "    'Lisa',\n",
    "    'Nancy',\n",
    "    'Betty',\n",
    "    'Margaret',\n",
    "    'Sandra',\n",
    "    'Ashley',\n",
    "    'Kimberly',\n",
    "    'Emily',\n",
    "    'Donna',\n",
    "    'Michelle',\n",
    "]"
   ]
  },
  {
   "cell_type": "code",
   "execution_count": 5,
   "id": "4bef816f",
   "metadata": {
    "ExecuteTime": {
     "end_time": "2022-06-20T19:17:09.003594Z",
     "start_time": "2022-06-20T19:17:08.988591Z"
    }
   },
   "outputs": [],
   "source": [
    "top_10_LNames = ['Smith',\n",
    "'Johnson',\n",
    "'Williams',\n",
    "'Brown',\n",
    "'Jones',\n",
    "'Garcia',\n",
    "'Miller',\n",
    "'Davis',\n",
    "'Rodriguez',\n",
    "'Martinez',\n",
    "'Hernandez',\n",
    "'Lopez',\n",
    "'Gonzalez',\n",
    "'Wilson',\n",
    "'Anderson',\n",
    "'Thomas',\n",
    "'Taylor',\n",
    "'Moore',\n",
    "'Jackson',\n",
    "'Martin',]"
   ]
  },
  {
   "cell_type": "code",
   "execution_count": 40,
   "id": "d8f7afc8",
   "metadata": {
    "ExecuteTime": {
     "end_time": "2022-06-20T19:41:25.297611Z",
     "start_time": "2022-06-20T19:41:25.291600Z"
    }
   },
   "outputs": [],
   "source": [
    "import pandas as pd\n",
    "import numpy as np\n",
    "import random \n",
    "\n",
    "num_ofDesiredRecords = 10"
   ]
  },
  {
   "cell_type": "code",
   "execution_count": 13,
   "id": "474cf822",
   "metadata": {
    "ExecuteTime": {
     "end_time": "2022-06-20T19:31:38.705877Z",
     "start_time": "2022-06-20T19:31:38.688369Z"
    }
   },
   "outputs": [],
   "source": [
    "df_SAA = pd.read_excel(\"./data/SAA Pride member reports headings.xlsx\")"
   ]
  },
  {
   "cell_type": "code",
   "execution_count": 14,
   "id": "5c11e629",
   "metadata": {
    "ExecuteTime": {
     "end_time": "2022-06-20T19:31:41.922202Z",
     "start_time": "2022-06-20T19:31:41.909196Z"
    },
    "scrolled": true
   },
   "outputs": [
    {
     "data": {
      "text/html": [
       "<div>\n",
       "<style scoped>\n",
       "    .dataframe tbody tr th:only-of-type {\n",
       "        vertical-align: middle;\n",
       "    }\n",
       "\n",
       "    .dataframe tbody tr th {\n",
       "        vertical-align: top;\n",
       "    }\n",
       "\n",
       "    .dataframe thead th {\n",
       "        text-align: right;\n",
       "    }\n",
       "</style>\n",
       "<table border=\"1\" class=\"dataframe\">\n",
       "  <thead>\n",
       "    <tr style=\"text-align: right;\">\n",
       "      <th></th>\n",
       "      <th>pref_mail_name</th>\n",
       "      <th>pref_class_year</th>\n",
       "      <th>home_city</th>\n",
       "      <th>home_state_code</th>\n",
       "      <th>home_country</th>\n",
       "      <th>home_phone_area_code</th>\n",
       "      <th>home_phone_number</th>\n",
       "      <th>home_email_address</th>\n",
       "      <th>bus_city</th>\n",
       "      <th>bus_state_code</th>\n",
       "      <th>...</th>\n",
       "      <th>pref_phone_number</th>\n",
       "      <th>pref_phone_addr_type</th>\n",
       "      <th>memb_status_desc</th>\n",
       "      <th>short_degree_string</th>\n",
       "      <th>parent_degree_string</th>\n",
       "      <th>short_degree_string_spouse</th>\n",
       "      <th>parent_degree_string_spouse</th>\n",
       "      <th>primary_sort_name</th>\n",
       "      <th>plan_name</th>\n",
       "      <th>primary_ind</th>\n",
       "    </tr>\n",
       "  </thead>\n",
       "  <tbody>\n",
       "  </tbody>\n",
       "</table>\n",
       "<p>0 rows × 32 columns</p>\n",
       "</div>"
      ],
      "text/plain": [
       "Empty DataFrame\n",
       "Columns: [pref_mail_name, pref_class_year, home_city, home_state_code, home_country, home_phone_area_code, home_phone_number, home_email_address, bus_city, bus_state_code, bus_country, bus_phone_area_code, bus_phone_number, bus_email_address, first_name, last_name, pref_name_sort, email_switch, saa_email_address, gsb_email_address, other_email_address, pref_phone_area_code, pref_phone_number, pref_phone_addr_type, memb_status_desc, short_degree_string, parent_degree_string, short_degree_string_spouse, parent_degree_string_spouse, primary_sort_name, plan_name, primary_ind]\n",
       "Index: []\n",
       "\n",
       "[0 rows x 32 columns]"
      ]
     },
     "execution_count": 14,
     "metadata": {},
     "output_type": "execute_result"
    }
   ],
   "source": [
    "df_SAA"
   ]
  },
  {
   "cell_type": "code",
   "execution_count": 18,
   "id": "1c9ca500",
   "metadata": {
    "ExecuteTime": {
     "end_time": "2022-06-20T19:33:28.580096Z",
     "start_time": "2022-06-20T19:33:28.572094Z"
    }
   },
   "outputs": [
    {
     "data": {
      "text/plain": [
       "(0, 32)"
      ]
     },
     "execution_count": 18,
     "metadata": {},
     "output_type": "execute_result"
    }
   ],
   "source": [
    "df_SAA.shape"
   ]
  },
  {
   "cell_type": "code",
   "execution_count": 21,
   "id": "c4d837cc",
   "metadata": {
    "ExecuteTime": {
     "end_time": "2022-06-20T19:34:28.292317Z",
     "start_time": "2022-06-20T19:34:28.266302Z"
    }
   },
   "outputs": [
    {
     "name": "stdout",
     "output_type": "stream",
     "text": [
      "<class 'pandas.core.frame.DataFrame'>\n",
      "Index: 0 entries\n",
      "Data columns (total 32 columns):\n",
      " #   Column                       Non-Null Count  Dtype \n",
      "---  ------                       --------------  ----- \n",
      " 0   pref_mail_name               0 non-null      object\n",
      " 1   pref_class_year              0 non-null      object\n",
      " 2   home_city                    0 non-null      object\n",
      " 3   home_state_code              0 non-null      object\n",
      " 4   home_country                 0 non-null      object\n",
      " 5   home_phone_area_code         0 non-null      object\n",
      " 6   home_phone_number            0 non-null      object\n",
      " 7   home_email_address           0 non-null      object\n",
      " 8   bus_city                     0 non-null      object\n",
      " 9   bus_state_code               0 non-null      object\n",
      " 10  bus_country                  0 non-null      object\n",
      " 11  bus_phone_area_code          0 non-null      object\n",
      " 12  bus_phone_number             0 non-null      object\n",
      " 13  bus_email_address            0 non-null      object\n",
      " 14  first_name                   0 non-null      object\n",
      " 15  last_name                    0 non-null      object\n",
      " 16  pref_name_sort               0 non-null      object\n",
      " 17  email_switch                 0 non-null      object\n",
      " 18  saa_email_address            0 non-null      object\n",
      " 19  gsb_email_address            0 non-null      object\n",
      " 20  other_email_address          0 non-null      object\n",
      " 21  pref_phone_area_code         0 non-null      object\n",
      " 22  pref_phone_number            0 non-null      object\n",
      " 23  pref_phone_addr_type         0 non-null      object\n",
      " 24  memb_status_desc             0 non-null      object\n",
      " 25  short_degree_string          0 non-null      object\n",
      " 26  parent_degree_string         0 non-null      object\n",
      " 27  short_degree_string_spouse   0 non-null      object\n",
      " 28  parent_degree_string_spouse  0 non-null      object\n",
      " 29  primary_sort_name            0 non-null      object\n",
      " 30  plan_name                    0 non-null      object\n",
      " 31  primary_ind                  0 non-null      object\n",
      "dtypes: object(32)\n",
      "memory usage: 0.0+ bytes\n"
     ]
    }
   ],
   "source": [
    "df_SAA.info()"
   ]
  },
  {
   "cell_type": "code",
   "execution_count": 25,
   "id": "db67b5a3",
   "metadata": {
    "ExecuteTime": {
     "end_time": "2022-06-20T19:35:20.300094Z",
     "start_time": "2022-06-20T19:35:20.281077Z"
    }
   },
   "outputs": [],
   "source": []
  },
  {
   "cell_type": "code",
   "execution_count": 39,
   "id": "4078159d",
   "metadata": {
    "ExecuteTime": {
     "end_time": "2022-06-20T19:39:20.870103Z",
     "start_time": "2022-06-20T19:39:20.825077Z"
    }
   },
   "outputs": [
    {
     "name": "stderr",
     "output_type": "stream",
     "text": [
      "C:\\Users\\saads\\AppData\\Local\\Temp\\ipykernel_19972\\1549327529.py:1: FutureWarning: The frame.append method is deprecated and will be removed from pandas in a future version. Use pandas.concat instead.\n",
      "  df_SAA.append([None]*num_ofDesiredRecords)\n"
     ]
    },
    {
     "data": {
      "text/html": [
       "<div>\n",
       "<style scoped>\n",
       "    .dataframe tbody tr th:only-of-type {\n",
       "        vertical-align: middle;\n",
       "    }\n",
       "\n",
       "    .dataframe tbody tr th {\n",
       "        vertical-align: top;\n",
       "    }\n",
       "\n",
       "    .dataframe thead th {\n",
       "        text-align: right;\n",
       "    }\n",
       "</style>\n",
       "<table border=\"1\" class=\"dataframe\">\n",
       "  <thead>\n",
       "    <tr style=\"text-align: right;\">\n",
       "      <th></th>\n",
       "      <th>pref_mail_name</th>\n",
       "      <th>pref_class_year</th>\n",
       "      <th>home_city</th>\n",
       "      <th>home_state_code</th>\n",
       "      <th>home_country</th>\n",
       "      <th>home_phone_area_code</th>\n",
       "      <th>home_phone_number</th>\n",
       "      <th>home_email_address</th>\n",
       "      <th>bus_city</th>\n",
       "      <th>bus_state_code</th>\n",
       "      <th>...</th>\n",
       "      <th>pref_phone_addr_type</th>\n",
       "      <th>memb_status_desc</th>\n",
       "      <th>short_degree_string</th>\n",
       "      <th>parent_degree_string</th>\n",
       "      <th>short_degree_string_spouse</th>\n",
       "      <th>parent_degree_string_spouse</th>\n",
       "      <th>primary_sort_name</th>\n",
       "      <th>plan_name</th>\n",
       "      <th>primary_ind</th>\n",
       "      <th>0</th>\n",
       "    </tr>\n",
       "  </thead>\n",
       "  <tbody>\n",
       "    <tr>\n",
       "      <th>0</th>\n",
       "      <td>NaN</td>\n",
       "      <td>NaN</td>\n",
       "      <td>NaN</td>\n",
       "      <td>NaN</td>\n",
       "      <td>NaN</td>\n",
       "      <td>NaN</td>\n",
       "      <td>NaN</td>\n",
       "      <td>NaN</td>\n",
       "      <td>NaN</td>\n",
       "      <td>NaN</td>\n",
       "      <td>...</td>\n",
       "      <td>NaN</td>\n",
       "      <td>NaN</td>\n",
       "      <td>NaN</td>\n",
       "      <td>NaN</td>\n",
       "      <td>NaN</td>\n",
       "      <td>NaN</td>\n",
       "      <td>NaN</td>\n",
       "      <td>NaN</td>\n",
       "      <td>NaN</td>\n",
       "      <td>None</td>\n",
       "    </tr>\n",
       "    <tr>\n",
       "      <th>1</th>\n",
       "      <td>NaN</td>\n",
       "      <td>NaN</td>\n",
       "      <td>NaN</td>\n",
       "      <td>NaN</td>\n",
       "      <td>NaN</td>\n",
       "      <td>NaN</td>\n",
       "      <td>NaN</td>\n",
       "      <td>NaN</td>\n",
       "      <td>NaN</td>\n",
       "      <td>NaN</td>\n",
       "      <td>...</td>\n",
       "      <td>NaN</td>\n",
       "      <td>NaN</td>\n",
       "      <td>NaN</td>\n",
       "      <td>NaN</td>\n",
       "      <td>NaN</td>\n",
       "      <td>NaN</td>\n",
       "      <td>NaN</td>\n",
       "      <td>NaN</td>\n",
       "      <td>NaN</td>\n",
       "      <td>None</td>\n",
       "    </tr>\n",
       "    <tr>\n",
       "      <th>2</th>\n",
       "      <td>NaN</td>\n",
       "      <td>NaN</td>\n",
       "      <td>NaN</td>\n",
       "      <td>NaN</td>\n",
       "      <td>NaN</td>\n",
       "      <td>NaN</td>\n",
       "      <td>NaN</td>\n",
       "      <td>NaN</td>\n",
       "      <td>NaN</td>\n",
       "      <td>NaN</td>\n",
       "      <td>...</td>\n",
       "      <td>NaN</td>\n",
       "      <td>NaN</td>\n",
       "      <td>NaN</td>\n",
       "      <td>NaN</td>\n",
       "      <td>NaN</td>\n",
       "      <td>NaN</td>\n",
       "      <td>NaN</td>\n",
       "      <td>NaN</td>\n",
       "      <td>NaN</td>\n",
       "      <td>None</td>\n",
       "    </tr>\n",
       "    <tr>\n",
       "      <th>3</th>\n",
       "      <td>NaN</td>\n",
       "      <td>NaN</td>\n",
       "      <td>NaN</td>\n",
       "      <td>NaN</td>\n",
       "      <td>NaN</td>\n",
       "      <td>NaN</td>\n",
       "      <td>NaN</td>\n",
       "      <td>NaN</td>\n",
       "      <td>NaN</td>\n",
       "      <td>NaN</td>\n",
       "      <td>...</td>\n",
       "      <td>NaN</td>\n",
       "      <td>NaN</td>\n",
       "      <td>NaN</td>\n",
       "      <td>NaN</td>\n",
       "      <td>NaN</td>\n",
       "      <td>NaN</td>\n",
       "      <td>NaN</td>\n",
       "      <td>NaN</td>\n",
       "      <td>NaN</td>\n",
       "      <td>None</td>\n",
       "    </tr>\n",
       "    <tr>\n",
       "      <th>4</th>\n",
       "      <td>NaN</td>\n",
       "      <td>NaN</td>\n",
       "      <td>NaN</td>\n",
       "      <td>NaN</td>\n",
       "      <td>NaN</td>\n",
       "      <td>NaN</td>\n",
       "      <td>NaN</td>\n",
       "      <td>NaN</td>\n",
       "      <td>NaN</td>\n",
       "      <td>NaN</td>\n",
       "      <td>...</td>\n",
       "      <td>NaN</td>\n",
       "      <td>NaN</td>\n",
       "      <td>NaN</td>\n",
       "      <td>NaN</td>\n",
       "      <td>NaN</td>\n",
       "      <td>NaN</td>\n",
       "      <td>NaN</td>\n",
       "      <td>NaN</td>\n",
       "      <td>NaN</td>\n",
       "      <td>None</td>\n",
       "    </tr>\n",
       "    <tr>\n",
       "      <th>5</th>\n",
       "      <td>NaN</td>\n",
       "      <td>NaN</td>\n",
       "      <td>NaN</td>\n",
       "      <td>NaN</td>\n",
       "      <td>NaN</td>\n",
       "      <td>NaN</td>\n",
       "      <td>NaN</td>\n",
       "      <td>NaN</td>\n",
       "      <td>NaN</td>\n",
       "      <td>NaN</td>\n",
       "      <td>...</td>\n",
       "      <td>NaN</td>\n",
       "      <td>NaN</td>\n",
       "      <td>NaN</td>\n",
       "      <td>NaN</td>\n",
       "      <td>NaN</td>\n",
       "      <td>NaN</td>\n",
       "      <td>NaN</td>\n",
       "      <td>NaN</td>\n",
       "      <td>NaN</td>\n",
       "      <td>None</td>\n",
       "    </tr>\n",
       "    <tr>\n",
       "      <th>6</th>\n",
       "      <td>NaN</td>\n",
       "      <td>NaN</td>\n",
       "      <td>NaN</td>\n",
       "      <td>NaN</td>\n",
       "      <td>NaN</td>\n",
       "      <td>NaN</td>\n",
       "      <td>NaN</td>\n",
       "      <td>NaN</td>\n",
       "      <td>NaN</td>\n",
       "      <td>NaN</td>\n",
       "      <td>...</td>\n",
       "      <td>NaN</td>\n",
       "      <td>NaN</td>\n",
       "      <td>NaN</td>\n",
       "      <td>NaN</td>\n",
       "      <td>NaN</td>\n",
       "      <td>NaN</td>\n",
       "      <td>NaN</td>\n",
       "      <td>NaN</td>\n",
       "      <td>NaN</td>\n",
       "      <td>None</td>\n",
       "    </tr>\n",
       "    <tr>\n",
       "      <th>7</th>\n",
       "      <td>NaN</td>\n",
       "      <td>NaN</td>\n",
       "      <td>NaN</td>\n",
       "      <td>NaN</td>\n",
       "      <td>NaN</td>\n",
       "      <td>NaN</td>\n",
       "      <td>NaN</td>\n",
       "      <td>NaN</td>\n",
       "      <td>NaN</td>\n",
       "      <td>NaN</td>\n",
       "      <td>...</td>\n",
       "      <td>NaN</td>\n",
       "      <td>NaN</td>\n",
       "      <td>NaN</td>\n",
       "      <td>NaN</td>\n",
       "      <td>NaN</td>\n",
       "      <td>NaN</td>\n",
       "      <td>NaN</td>\n",
       "      <td>NaN</td>\n",
       "      <td>NaN</td>\n",
       "      <td>None</td>\n",
       "    </tr>\n",
       "    <tr>\n",
       "      <th>8</th>\n",
       "      <td>NaN</td>\n",
       "      <td>NaN</td>\n",
       "      <td>NaN</td>\n",
       "      <td>NaN</td>\n",
       "      <td>NaN</td>\n",
       "      <td>NaN</td>\n",
       "      <td>NaN</td>\n",
       "      <td>NaN</td>\n",
       "      <td>NaN</td>\n",
       "      <td>NaN</td>\n",
       "      <td>...</td>\n",
       "      <td>NaN</td>\n",
       "      <td>NaN</td>\n",
       "      <td>NaN</td>\n",
       "      <td>NaN</td>\n",
       "      <td>NaN</td>\n",
       "      <td>NaN</td>\n",
       "      <td>NaN</td>\n",
       "      <td>NaN</td>\n",
       "      <td>NaN</td>\n",
       "      <td>None</td>\n",
       "    </tr>\n",
       "    <tr>\n",
       "      <th>9</th>\n",
       "      <td>NaN</td>\n",
       "      <td>NaN</td>\n",
       "      <td>NaN</td>\n",
       "      <td>NaN</td>\n",
       "      <td>NaN</td>\n",
       "      <td>NaN</td>\n",
       "      <td>NaN</td>\n",
       "      <td>NaN</td>\n",
       "      <td>NaN</td>\n",
       "      <td>NaN</td>\n",
       "      <td>...</td>\n",
       "      <td>NaN</td>\n",
       "      <td>NaN</td>\n",
       "      <td>NaN</td>\n",
       "      <td>NaN</td>\n",
       "      <td>NaN</td>\n",
       "      <td>NaN</td>\n",
       "      <td>NaN</td>\n",
       "      <td>NaN</td>\n",
       "      <td>NaN</td>\n",
       "      <td>None</td>\n",
       "    </tr>\n",
       "  </tbody>\n",
       "</table>\n",
       "<p>10 rows × 33 columns</p>\n",
       "</div>"
      ],
      "text/plain": [
       "  pref_mail_name pref_class_year home_city home_state_code home_country  \\\n",
       "0            NaN             NaN       NaN             NaN          NaN   \n",
       "1            NaN             NaN       NaN             NaN          NaN   \n",
       "2            NaN             NaN       NaN             NaN          NaN   \n",
       "3            NaN             NaN       NaN             NaN          NaN   \n",
       "4            NaN             NaN       NaN             NaN          NaN   \n",
       "5            NaN             NaN       NaN             NaN          NaN   \n",
       "6            NaN             NaN       NaN             NaN          NaN   \n",
       "7            NaN             NaN       NaN             NaN          NaN   \n",
       "8            NaN             NaN       NaN             NaN          NaN   \n",
       "9            NaN             NaN       NaN             NaN          NaN   \n",
       "\n",
       "  home_phone_area_code home_phone_number home_email_address bus_city  \\\n",
       "0                  NaN               NaN                NaN      NaN   \n",
       "1                  NaN               NaN                NaN      NaN   \n",
       "2                  NaN               NaN                NaN      NaN   \n",
       "3                  NaN               NaN                NaN      NaN   \n",
       "4                  NaN               NaN                NaN      NaN   \n",
       "5                  NaN               NaN                NaN      NaN   \n",
       "6                  NaN               NaN                NaN      NaN   \n",
       "7                  NaN               NaN                NaN      NaN   \n",
       "8                  NaN               NaN                NaN      NaN   \n",
       "9                  NaN               NaN                NaN      NaN   \n",
       "\n",
       "  bus_state_code  ... pref_phone_addr_type memb_status_desc  \\\n",
       "0            NaN  ...                  NaN              NaN   \n",
       "1            NaN  ...                  NaN              NaN   \n",
       "2            NaN  ...                  NaN              NaN   \n",
       "3            NaN  ...                  NaN              NaN   \n",
       "4            NaN  ...                  NaN              NaN   \n",
       "5            NaN  ...                  NaN              NaN   \n",
       "6            NaN  ...                  NaN              NaN   \n",
       "7            NaN  ...                  NaN              NaN   \n",
       "8            NaN  ...                  NaN              NaN   \n",
       "9            NaN  ...                  NaN              NaN   \n",
       "\n",
       "  short_degree_string parent_degree_string short_degree_string_spouse  \\\n",
       "0                 NaN                  NaN                        NaN   \n",
       "1                 NaN                  NaN                        NaN   \n",
       "2                 NaN                  NaN                        NaN   \n",
       "3                 NaN                  NaN                        NaN   \n",
       "4                 NaN                  NaN                        NaN   \n",
       "5                 NaN                  NaN                        NaN   \n",
       "6                 NaN                  NaN                        NaN   \n",
       "7                 NaN                  NaN                        NaN   \n",
       "8                 NaN                  NaN                        NaN   \n",
       "9                 NaN                  NaN                        NaN   \n",
       "\n",
       "  parent_degree_string_spouse primary_sort_name plan_name primary_ind     0  \n",
       "0                         NaN               NaN       NaN         NaN  None  \n",
       "1                         NaN               NaN       NaN         NaN  None  \n",
       "2                         NaN               NaN       NaN         NaN  None  \n",
       "3                         NaN               NaN       NaN         NaN  None  \n",
       "4                         NaN               NaN       NaN         NaN  None  \n",
       "5                         NaN               NaN       NaN         NaN  None  \n",
       "6                         NaN               NaN       NaN         NaN  None  \n",
       "7                         NaN               NaN       NaN         NaN  None  \n",
       "8                         NaN               NaN       NaN         NaN  None  \n",
       "9                         NaN               NaN       NaN         NaN  None  \n",
       "\n",
       "[10 rows x 33 columns]"
      ]
     },
     "execution_count": 39,
     "metadata": {},
     "output_type": "execute_result"
    }
   ],
   "source": [
    "df_SAA.append([None]*num_ofDesiredRecords)"
   ]
  },
  {
   "cell_type": "code",
   "execution_count": 50,
   "id": "9002105e",
   "metadata": {
    "ExecuteTime": {
     "end_time": "2022-06-20T19:44:18.410785Z",
     "start_time": "2022-06-20T19:44:18.400794Z"
    }
   },
   "outputs": [],
   "source": [
    "def createRandomPhoneNumber():\n",
    "    range_start = 10**9\n",
    "    range_end = 10**10 -1\n",
    "    print(range_start)\n",
    "    num = random.randint(range_start,range_end)    \n",
    "    \n",
    "    return num"
   ]
  },
  {
   "cell_type": "code",
   "execution_count": 51,
   "id": "b729b354",
   "metadata": {
    "ExecuteTime": {
     "end_time": "2022-06-20T19:44:18.879484Z",
     "start_time": "2022-06-20T19:44:18.860468Z"
    }
   },
   "outputs": [
    {
     "name": "stdout",
     "output_type": "stream",
     "text": [
      "1000000000\n"
     ]
    },
    {
     "data": {
      "text/plain": [
       "5116469881"
      ]
     },
     "execution_count": 51,
     "metadata": {},
     "output_type": "execute_result"
    }
   ],
   "source": [
    "createRandomPhoneNumber()"
   ]
  },
  {
   "cell_type": "code",
   "execution_count": null,
   "id": "4b0829e9",
   "metadata": {},
   "outputs": [],
   "source": []
  }
 ],
 "metadata": {
  "kernelspec": {
   "display_name": "tfGPU",
   "language": "python",
   "name": "tfgpu"
  },
  "language_info": {
   "codemirror_mode": {
    "name": "ipython",
    "version": 3
   },
   "file_extension": ".py",
   "mimetype": "text/x-python",
   "name": "python",
   "nbconvert_exporter": "python",
   "pygments_lexer": "ipython3",
   "version": "3.9.12"
  },
  "toc": {
   "base_numbering": 1,
   "nav_menu": {},
   "number_sections": true,
   "sideBar": true,
   "skip_h1_title": false,
   "title_cell": "Table of Contents",
   "title_sidebar": "Contents",
   "toc_cell": false,
   "toc_position": {},
   "toc_section_display": true,
   "toc_window_display": false
  },
  "varInspector": {
   "cols": {
    "lenName": 16,
    "lenType": 16,
    "lenVar": 40
   },
   "kernels_config": {
    "python": {
     "delete_cmd_postfix": "",
     "delete_cmd_prefix": "del ",
     "library": "var_list.py",
     "varRefreshCmd": "print(var_dic_list())"
    },
    "r": {
     "delete_cmd_postfix": ") ",
     "delete_cmd_prefix": "rm(",
     "library": "var_list.r",
     "varRefreshCmd": "cat(var_dic_list()) "
    }
   },
   "types_to_exclude": [
    "module",
    "function",
    "builtin_function_or_method",
    "instance",
    "_Feature"
   ],
   "window_display": false
  }
 },
 "nbformat": 4,
 "nbformat_minor": 5
}
