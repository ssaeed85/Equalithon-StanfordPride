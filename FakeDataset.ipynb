{
 "cells": [
  {
   "cell_type": "code",
   "execution_count": 1,
   "id": "5bd9561d",
   "metadata": {
    "ExecuteTime": {
     "end_time": "2022-06-20T18:48:08.421704Z",
     "start_time": "2022-06-20T18:48:08.409701Z"
    }
   },
   "outputs": [],
   "source": [
    "top_10_male_Fnames = [\n",
    "    'Liam',\n",
    "    'Noah',\n",
    "    'Oliver',\n",
    "    'Elijah',\n",
    "    'James',\n",
    "    'William',\n",
    "    'Benjamin',\n",
    "    'Lucas',\n",
    "    'Henry',\n",
    "    'Theodore',\n",
    "    'Jack',\n",
    "    'Levi',\n",
    "    'Alexander',\n",
    "    'Jackson',\n",
    "    'Mateo',\n",
    "    'Daniel',\n",
    "    'Michael',\n",
    "    'Mason',\n",
    "    'Sebastian',\n",
    "    'Ethan',\n",
    "]"
   ]
  },
  {
   "cell_type": "code",
   "execution_count": 3,
   "id": "4ff74700",
   "metadata": {
    "ExecuteTime": {
     "end_time": "2022-06-20T18:53:06.472844Z",
     "start_time": "2022-06-20T18:53:06.464852Z"
    }
   },
   "outputs": [],
   "source": [
    "top_10_female_Fnames = [\n",
    "    'Mary',\n",
    "    'Patricia',\n",
    "    'Jennifer',\n",
    "    'Linda',\n",
    "    'Elizabeth',\n",
    "    'Barbara',\n",
    "    'Susan',\n",
    "    'Jessica',\n",
    "    'Sarah',\n",
    "    'Karen',\n",
    "    'Lisa',\n",
    "    'Nancy',\n",
    "    'Betty',\n",
    "    'Margaret',\n",
    "    'Sandra',\n",
    "    'Ashley',\n",
    "    'Kimberly',\n",
    "    'Emily',\n",
    "    'Donna',\n",
    "    'Michelle',\n",
    "]"
   ]
  },
  {
   "cell_type": "code",
   "execution_count": null,
   "id": "20ad38bc",
   "metadata": {},
   "outputs": [],
   "source": [
    "top_10_LNames = "
   ]
  }
 ],
 "metadata": {
  "kernelspec": {
   "display_name": "tfGPU",
   "language": "python",
   "name": "tfgpu"
  },
  "language_info": {
   "codemirror_mode": {
    "name": "ipython",
    "version": 3
   },
   "file_extension": ".py",
   "mimetype": "text/x-python",
   "name": "python",
   "nbconvert_exporter": "python",
   "pygments_lexer": "ipython3",
   "version": "3.9.12"
  },
  "toc": {
   "base_numbering": 1,
   "nav_menu": {},
   "number_sections": true,
   "sideBar": true,
   "skip_h1_title": false,
   "title_cell": "Table of Contents",
   "title_sidebar": "Contents",
   "toc_cell": false,
   "toc_position": {},
   "toc_section_display": true,
   "toc_window_display": false
  },
  "varInspector": {
   "cols": {
    "lenName": 16,
    "lenType": 16,
    "lenVar": 40
   },
   "kernels_config": {
    "python": {
     "delete_cmd_postfix": "",
     "delete_cmd_prefix": "del ",
     "library": "var_list.py",
     "varRefreshCmd": "print(var_dic_list())"
    },
    "r": {
     "delete_cmd_postfix": ") ",
     "delete_cmd_prefix": "rm(",
     "library": "var_list.r",
     "varRefreshCmd": "cat(var_dic_list()) "
    }
   },
   "types_to_exclude": [
    "module",
    "function",
    "builtin_function_or_method",
    "instance",
    "_Feature"
   ],
   "window_display": false
  }
 },
 "nbformat": 4,
 "nbformat_minor": 5
}
