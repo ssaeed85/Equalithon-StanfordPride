{
 "cells": [
  {
   "cell_type": "code",
   "execution_count": 1,
   "id": "34abb846",
   "metadata": {
    "ExecuteTime": {
     "end_time": "2022-06-21T03:31:33.932177Z",
     "start_time": "2022-06-21T03:31:33.584095Z"
    }
   },
   "outputs": [],
   "source": [
    "import pandas as pd\n",
    "import numpy as np\n",
    "import random \n",
    "np.random.seed = 42\n",
    "random.seed(42)\n",
    "\n",
    "pd.set_option('display.max_columns', None)\n",
    "pd.set_option('display.min_rows', 100)\n",
    "num_ofDesiredRecords = 100"
   ]
  },
  {
   "cell_type": "code",
   "execution_count": 2,
   "id": "66da75c7",
   "metadata": {
    "ExecuteTime": {
     "end_time": "2022-06-21T03:31:33.947736Z",
     "start_time": "2022-06-21T03:31:33.933177Z"
    }
   },
   "outputs": [],
   "source": [
    "def createRandomPhoneNumber_SAA():\n",
    "    range_start = 10**9\n",
    "    range_end = 10**10 -1\n",
    "    num = str(random.randint(range_start,range_end))\n",
    "    num_str = \"{0} {1}-{2}\".format(num[:3], num[3:7],num[7:])\n",
    "    return num_str"
   ]
  },
  {
   "cell_type": "code",
   "execution_count": 3,
   "id": "58a6bb09",
   "metadata": {
    "ExecuteTime": {
     "end_time": "2022-06-21T03:31:33.963497Z",
     "start_time": "2022-06-21T03:31:33.948738Z"
    }
   },
   "outputs": [],
   "source": [
    "def createRandomEmail(record,domainList=['@gmail.com','@stanfordalumni.org','@alumni.stanford.edu']):\n",
    "    domain = random.choice(domainList)\n",
    "    fName = record['first_name'].strip().lower()\n",
    "    LName = record['last_name'].strip().lower()\n",
    "    formats = []\n",
    "    \n",
    "    #Example: John Doe 123\n",
    "    formats.append(fName[0]+LName+str(random.randint(10,9999))) #jdoe123\n",
    "    formats.append(fName+LName+str(random.randint(10,9999))) #johndoe123\n",
    "    formats.append(fName+LName[0]+str(random.randint(10,9999))) #johnd123\n",
    "    formats.append(fName[0]+'.'+LName+str(random.randint(10,9999))) #j.doe123\n",
    "    formats.append(fName+'.'+LName+str(random.randint(10,9999))) #john.doe123\n",
    "    \n",
    "    return random.choice(formats)+domain"
   ]
  },
  {
   "cell_type": "code",
   "execution_count": 4,
   "id": "25d4c5ac",
   "metadata": {
    "ExecuteTime": {
     "end_time": "2022-06-21T03:31:33.979501Z",
     "start_time": "2022-06-21T03:31:33.964498Z"
    }
   },
   "outputs": [],
   "source": [
    "def createDegreeString_SAA():\n",
    "    degree_list = ['MS','MA','MBA','MD','PhD','BA','BS','JD','']\n",
    "    degree_years = \"'\" + str(random.randint(80,99))\n",
    "    degree = random.choice(degree_list) + ' ' + degree_years\n",
    "    return degree.strip()"
   ]
  },
  {
   "cell_type": "code",
   "execution_count": 5,
   "id": "9cd614d2",
   "metadata": {
    "ExecuteTime": {
     "end_time": "2022-06-21T03:31:33.995505Z",
     "start_time": "2022-06-21T03:31:33.980501Z"
    }
   },
   "outputs": [],
   "source": [
    "common_male_Fnames = [\n",
    "    'Liam',\n",
    "    'Noah',\n",
    "    'Oliver',\n",
    "    'Elijah',\n",
    "    'James',\n",
    "    'William',\n",
    "    'Benjamin',\n",
    "    'Lucas',\n",
    "    'Henry',\n",
    "    'Theodore',\n",
    "]"
   ]
  },
  {
   "cell_type": "code",
   "execution_count": 6,
   "id": "43ce0930",
   "metadata": {
    "ExecuteTime": {
     "end_time": "2022-06-21T03:31:34.011511Z",
     "start_time": "2022-06-21T03:31:33.996505Z"
    }
   },
   "outputs": [],
   "source": [
    "common_female_Fnames = [\n",
    "    'Mary',\n",
    "    'Patricia',\n",
    "    'Jennifer',\n",
    "    'Linda',\n",
    "    'Elizabeth',\n",
    "    'Barbara',\n",
    "    'Susan',\n",
    "    'Jessica',\n",
    "    'Sarah',\n",
    "    'Karen',\n",
    "]"
   ]
  },
  {
   "cell_type": "code",
   "execution_count": 7,
   "id": "fc60d775",
   "metadata": {
    "ExecuteTime": {
     "end_time": "2022-06-21T03:31:34.027516Z",
     "start_time": "2022-06-21T03:31:34.012512Z"
    }
   },
   "outputs": [],
   "source": [
    "city = ['Chicago', 'Boston',  'Madrid', 'Tokyo', 'Seoul', 'London','Beijing','Shanghai','Dubai','*',np.nan,'']\n",
    "state = ['NY', 'WA', 'TX','CA','NM','*',np.nan,'']\n",
    "country = ['Japan', 'United States', 'USA', 'China', 'UAE', 'Kuwait','*',np.nan,'']"
   ]
  },
  {
   "cell_type": "code",
   "execution_count": 8,
   "id": "8fa97ae2",
   "metadata": {
    "ExecuteTime": {
     "end_time": "2022-06-21T03:31:34.043525Z",
     "start_time": "2022-06-21T03:31:34.028517Z"
    }
   },
   "outputs": [],
   "source": [
    "common_FNames = []\n",
    "common_FNames.extend(common_female_Fnames)\n",
    "common_FNames.extend(common_male_Fnames)"
   ]
  },
  {
   "cell_type": "code",
   "execution_count": 9,
   "id": "9f14239e",
   "metadata": {
    "ExecuteTime": {
     "end_time": "2022-06-21T03:31:34.059528Z",
     "start_time": "2022-06-21T03:31:34.045525Z"
    }
   },
   "outputs": [],
   "source": [
    "common_LNames = ['Smith',\n",
    "'Johnson',\n",
    "'Williams',\n",
    "'Brown',\n",
    "'Jones',\n",
    "'Garcia',\n",
    "'Miller',\n",
    "'Davis',\n",
    "'Rodriguez',\n",
    "'Martinez',]"
   ]
  },
  {
   "cell_type": "code",
   "execution_count": 10,
   "id": "4ee7dde0",
   "metadata": {
    "ExecuteTime": {
     "end_time": "2022-06-21T03:31:34.567738Z",
     "start_time": "2022-06-21T03:31:34.060529Z"
    }
   },
   "outputs": [
    {
     "name": "stderr",
     "output_type": "stream",
     "text": [
      "C:\\Users\\saads\\AppData\\Local\\Temp\\ipykernel_10524\\2961325751.py:1: FutureWarning: The frame.append method is deprecated and will be removed from pandas in a future version. Use pandas.concat instead.\n",
      "  df_SAA = pd.read_excel(\"./data/SAA Pride member reports headings.xlsx\").append([np.nan]*num_ofDesiredRecords)\n"
     ]
    }
   ],
   "source": [
    "df_SAA = pd.read_excel(\"./data/SAA Pride member reports headings.xlsx\").append([np.nan]*num_ofDesiredRecords)"
   ]
  },
  {
   "cell_type": "code",
   "execution_count": 11,
   "id": "6f580c65",
   "metadata": {
    "ExecuteTime": {
     "end_time": "2022-06-21T03:31:34.583742Z",
     "start_time": "2022-06-21T03:31:34.568739Z"
    }
   },
   "outputs": [],
   "source": [
    "__  = []\n",
    "for _ in range(0,num_ofDesiredRecords):\n",
    "    __.append(random.choice(common_FNames))\n",
    "    \n",
    "df_SAA.first_name = __"
   ]
  },
  {
   "cell_type": "code",
   "execution_count": 12,
   "id": "be177768",
   "metadata": {
    "ExecuteTime": {
     "end_time": "2022-06-21T03:31:34.599746Z",
     "start_time": "2022-06-21T03:31:34.584742Z"
    }
   },
   "outputs": [],
   "source": [
    "__  = []\n",
    "for _ in range(0,num_ofDesiredRecords):\n",
    "    __.append(random.choice(common_LNames))\n",
    "    \n",
    "df_SAA.last_name = __"
   ]
  },
  {
   "cell_type": "code",
   "execution_count": 13,
   "id": "99451cf9",
   "metadata": {
    "ExecuteTime": {
     "end_time": "2022-06-21T03:31:34.615770Z",
     "start_time": "2022-06-21T03:31:34.600746Z"
    }
   },
   "outputs": [],
   "source": [
    "__  = []\n",
    "for _ in range(0,num_ofDesiredRecords):\n",
    "    __.append(random.choices([createRandomPhoneNumber_SAA(),'*',np.nan],weights=(1,5,5))[0])\n",
    "    \n",
    "df_SAA.home_phone_number = __"
   ]
  },
  {
   "cell_type": "code",
   "execution_count": 14,
   "id": "219c716f",
   "metadata": {
    "ExecuteTime": {
     "end_time": "2022-06-21T03:31:34.631774Z",
     "start_time": "2022-06-21T03:31:34.616771Z"
    }
   },
   "outputs": [],
   "source": [
    "__  = []\n",
    "for _ in range(0,num_ofDesiredRecords):\n",
    "    __.append(random.choice(['*',np.nan,createRandomEmail(df_SAA.iloc[_])]))\n",
    "    \n",
    "df_SAA.home_email_address = __"
   ]
  },
  {
   "cell_type": "code",
   "execution_count": 15,
   "id": "579c412d",
   "metadata": {
    "ExecuteTime": {
     "end_time": "2022-06-21T03:31:34.647778Z",
     "start_time": "2022-06-21T03:31:34.632775Z"
    }
   },
   "outputs": [],
   "source": [
    "__  = []\n",
    "for _ in range(0,num_ofDesiredRecords):\n",
    "    __.append(random.choice(['*',np.nan,createRandomEmail(df_SAA.iloc[_],['@stanfordalumni.org','@alumni.stanford.edu'])]))\n",
    "    \n",
    "df_SAA.saa_email_address = __"
   ]
  },
  {
   "cell_type": "code",
   "execution_count": 16,
   "id": "f791eba4",
   "metadata": {
    "ExecuteTime": {
     "end_time": "2022-06-21T03:31:34.663806Z",
     "start_time": "2022-06-21T03:31:34.648778Z"
    }
   },
   "outputs": [],
   "source": [
    "__  = []\n",
    "for _ in range(0,num_ofDesiredRecords):\n",
    "    __.append(random.choices([createRandomEmail(df_SAA.iloc[_]),np.nan],weights=(1, 50))[0])\n",
    "    \n",
    "df_SAA.gsb_email_address = __"
   ]
  },
  {
   "cell_type": "code",
   "execution_count": 17,
   "id": "cf5af6b0",
   "metadata": {
    "ExecuteTime": {
     "end_time": "2022-06-21T03:31:34.679109Z",
     "start_time": "2022-06-21T03:31:34.664807Z"
    }
   },
   "outputs": [],
   "source": [
    "__  = []\n",
    "for _ in range(0,num_ofDesiredRecords):\n",
    "    __.append(random.choices([createRandomEmail(df_SAA.iloc[_]),np.nan],weights=(1, 10))[0])\n",
    "    \n",
    "df_SAA.bus_email_address = __"
   ]
  },
  {
   "cell_type": "code",
   "execution_count": 18,
   "id": "8c360416",
   "metadata": {
    "ExecuteTime": {
     "end_time": "2022-06-21T03:31:34.695113Z",
     "start_time": "2022-06-21T03:31:34.680110Z"
    }
   },
   "outputs": [],
   "source": [
    "__  = []\n",
    "for _ in range(0,num_ofDesiredRecords):\n",
    "    __.append(random.choice(city))\n",
    "    \n",
    "df_SAA.home_city = __"
   ]
  },
  {
   "cell_type": "code",
   "execution_count": 19,
   "id": "36a5110e",
   "metadata": {
    "ExecuteTime": {
     "end_time": "2022-06-21T03:31:34.710896Z",
     "start_time": "2022-06-21T03:31:34.696114Z"
    }
   },
   "outputs": [],
   "source": [
    "__  = []\n",
    "for _ in range(0,num_ofDesiredRecords):\n",
    "    __.append(random.choice(country))\n",
    "    \n",
    "df_SAA.home_country = __"
   ]
  },
  {
   "cell_type": "code",
   "execution_count": 20,
   "id": "2ebd242b",
   "metadata": {
    "ExecuteTime": {
     "end_time": "2022-06-21T03:31:34.725905Z",
     "start_time": "2022-06-21T03:31:34.711898Z"
    }
   },
   "outputs": [],
   "source": [
    "__  = []\n",
    "for _ in range(0,num_ofDesiredRecords):\n",
    "    __.append(random.choice(country))\n",
    "    \n",
    "df_SAA.bus_country = __"
   ]
  },
  {
   "cell_type": "code",
   "execution_count": 21,
   "id": "904d3d49",
   "metadata": {
    "ExecuteTime": {
     "end_time": "2022-06-21T03:31:34.741118Z",
     "start_time": "2022-06-21T03:31:34.726906Z"
    }
   },
   "outputs": [],
   "source": [
    "state = {'Chicago': 'IL', \n",
    "           'Boston': 'MA', \n",
    "           'New York' : 'NY', \n",
    "           'San Francisco': 'CA', \n",
    "           'Los Angeles' : 'CA', \n",
    "           'Austin' : 'TX',\n",
    "        'Dallas': 'TX',\n",
    "        'Denver': 'CO',\n",
    "        '':'',\n",
    "        '*':'*'}\n",
    "\n",
    "df_SAA.home_state_code = df_SAA['home_city'].map(state)"
   ]
  },
  {
   "cell_type": "code",
   "execution_count": 22,
   "id": "f9833a7f",
   "metadata": {
    "ExecuteTime": {
     "end_time": "2022-06-21T03:31:34.756126Z",
     "start_time": "2022-06-21T03:31:34.742117Z"
    }
   },
   "outputs": [],
   "source": [
    "__  = []\n",
    "for _ in range(0,num_ofDesiredRecords):\n",
    "    __.append(random.choice(['',np.nan,random.randint(1990, 2018)]))\n",
    "    \n",
    "df_SAA.pref_class_year = __\n"
   ]
  },
  {
   "cell_type": "code",
   "execution_count": 23,
   "id": "7063a253",
   "metadata": {
    "ExecuteTime": {
     "end_time": "2022-06-21T03:31:34.772134Z",
     "start_time": "2022-06-21T03:31:34.757129Z"
    }
   },
   "outputs": [],
   "source": [
    "degrees = []\n",
    "for i in range(0,num_ofDesiredRecords):\n",
    "    num_draw = random.randint(0,3)\n",
    "    degree = np.NaN\n",
    "    k=0\n",
    "    while k < num_draw:\n",
    "        if k == 0:\n",
    "            degree = createDegreeString_SAA()\n",
    "        else:\n",
    "            degree = degree +', '+ createDegreeString_SAA()\n",
    "        k+=1\n",
    "    degrees.append(degree)\n",
    "    \n",
    "df_SAA.short_degree_string = degrees"
   ]
  },
  {
   "cell_type": "code",
   "execution_count": 27,
   "id": "8253714e",
   "metadata": {
    "ExecuteTime": {
     "end_time": "2022-06-21T03:34:46.337635Z",
     "start_time": "2022-06-21T03:34:46.283497Z"
    }
   },
   "outputs": [],
   "source": [
    "df_SAA.to_excel('data/SAA_FakeDB.xlsx',index = False)"
   ]
  },
  {
   "cell_type": "code",
   "execution_count": null,
   "id": "5468802e",
   "metadata": {},
   "outputs": [],
   "source": []
  }
 ],
 "metadata": {
  "kernelspec": {
   "display_name": "tfGPU",
   "language": "python",
   "name": "tfgpu"
  },
  "language_info": {
   "codemirror_mode": {
    "name": "ipython",
    "version": 3
   },
   "file_extension": ".py",
   "mimetype": "text/x-python",
   "name": "python",
   "nbconvert_exporter": "python",
   "pygments_lexer": "ipython3",
   "version": "3.9.12"
  },
  "toc": {
   "base_numbering": 1,
   "nav_menu": {},
   "number_sections": true,
   "sideBar": true,
   "skip_h1_title": false,
   "title_cell": "Table of Contents",
   "title_sidebar": "Contents",
   "toc_cell": false,
   "toc_position": {},
   "toc_section_display": true,
   "toc_window_display": false
  },
  "varInspector": {
   "cols": {
    "lenName": 16,
    "lenType": 16,
    "lenVar": 40
   },
   "kernels_config": {
    "python": {
     "delete_cmd_postfix": "",
     "delete_cmd_prefix": "del ",
     "library": "var_list.py",
     "varRefreshCmd": "print(var_dic_list())"
    },
    "r": {
     "delete_cmd_postfix": ") ",
     "delete_cmd_prefix": "rm(",
     "library": "var_list.r",
     "varRefreshCmd": "cat(var_dic_list()) "
    }
   },
   "position": {
    "height": "573.844px",
    "left": "1315px",
    "right": "20px",
    "top": "120px",
    "width": "585px"
   },
   "types_to_exclude": [
    "module",
    "function",
    "builtin_function_or_method",
    "instance",
    "_Feature"
   ],
   "window_display": false
  }
 },
 "nbformat": 4,
 "nbformat_minor": 5
}
