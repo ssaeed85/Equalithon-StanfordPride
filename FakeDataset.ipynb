{
 "cells": [
  {
   "cell_type": "markdown",
   "source": [
    "# Stanford Pride Database Matching System\n",
    "System to alleviate member attrition"
   ],
   "metadata": {
    "collapsed": false,
    "pycharm": {
     "name": "#%% md\n"
    }
   }
  },
  {
   "cell_type": "markdown",
   "source": [
    "Authors:\n",
    "\n",
    "- Saad Saeed [Github](https://github.com/ssaeed85) | [LinkedIn](https://www.linkedin.com/in/saadsaeed85/)\n",
    "- Zach Rauch [Github](https://github.com/ZachRauch) | [LinkedIn](https://www.linkedin.com/in/zach-rauch/)\n",
    "- Hanis Zulmuthi [Github](https://github.com/hanis-z) | [LinkedIn](https://www.linkedin.com/in/hanis-zulmuthi/)\n",
    "\n",
    "- Xiaohua Su [Github](https://github.com/xiaohua-su) | [LinkedIn](https://www.linkedin.com/in/xiaohua-su/)"
   ],
   "metadata": {
    "collapsed": false,
    "pycharm": {
     "name": "#%% md\n"
    }
   }
  },
  {
   "cell_type": "markdown",
   "source": [
    "# Overview"
   ],
   "metadata": {
    "collapsed": false,
    "pycharm": {
     "name": "#%% md\n"
    }
   }
  },
  {
   "cell_type": "markdown",
   "source": [
    "Nonprofit organizations want to be able to bring new members and retain them.It is vital for organizations to keep in touch with its members who are the foundation to their networks through communications about events or news. Without any method of communication, members are\n",
    "no longer in touch with the organization, and its activities and are considered 'lost'. A common issue that some organizations may have is that the email provided to the organization as the main means of communication may no longer work or gets bounced once the individual graduates from said institution such as colleges, and or bootcamp. Usually, an individual might forget about updating it before they are far away. As such updating the contact method is critical to keep them in the network. Overtime, this 'lost' member issue will get larger and larger for the organization.\n",
    "\n",
    "The purpose of this project is to help Stanford Pride address such an issue. Stanford Pride currently has ~5000 members in their database. Unfortunately, Stanford Pride has lost contact with a small portion of its member. One way Stanford Pride recognizes that it has lost contact with a member that has not chosen to opt-out of newsletter is that the newsletters was bounced. According to Stanford Pride, their members are not all using the same platform. Some chose to have subscribed to either only emails, others are only on their Facebook, LinkedIn group and a small minority\n",
    "interacts with Stanford using multiple platform. As such, Stanford Pride hopes to be able to rectify the issue of lost members by\n",
    "updating the individual's contact information in order to bring/keep them in the network once again.\n",
    "\n",
    "Our goal for this project is to help Stanford Pride be able to update this information in a more efficient way. We improved the efficiency by using a cosine similar model to provide a list of individuals from the Stanford Pride database with the individual from their Mailchimp database. This way, the chair in-charge of updating their database does not need to look up multiple potential people on their Stanford Database before deciding if they are the same individual. They now have a list of potential matches with information about them to compare against.\n",
    "\n",
    "From Stanford Pride:\n",
    "> A nonprofit organization, such as Stanford Pride, strives by attracting and retaining members.\n",
    "> It is vital for the organization to stay in touch with its members.\n",
    "> The main means to achieve this is the sending of newsletters via e-mail.\n",
    "> Members are not likely to keep informed of the organization’s activity on their own. We only stay in their minds by regularly pushing news out to them.\n",
    "Members do not always subscribe to other sources of information about the organization’s activities.\n",
    "> For example, Stanford Pride has approximately 4,400 members in its database, out of which about 3,700 currently have valid e-mail addresses.\n",
    "> Only 1,600 are part of our Facebook group, and 400 in our LinkedIn group.\n",
    "> Therefore, our monthly e-mail newsletter is our sole means to reach about 2,100 members – almost half of our total membership.\n"
   ],
   "metadata": {
    "collapsed": false,
    "pycharm": {
     "name": "#%% md\n"
    }
   }
  },
  {
   "cell_type": "markdown",
   "source": [
    "# Imports"
   ],
   "metadata": {
    "collapsed": false,
    "pycharm": {
     "name": "#%% md\n"
    }
   }
  },
  {
   "cell_type": "code",
   "execution_count": 1,
   "id": "19e99179",
   "metadata": {
    "ExecuteTime": {
     "end_time": "2022-06-23T14:03:51.331964Z",
     "start_time": "2022-06-23T14:03:50.861454Z"
    },
    "pycharm": {
     "name": "#%%\n"
    }
   },
   "outputs": [],
   "source": [
    "import pandas as pd\n",
    "import numpy as np\n",
    "import random \n",
    "import pycountry\n",
    "np.random.seed = 42\n",
    "random.seed(42)\n",
    "\n",
    "pd.set_option('display.max_columns', None)\n",
    "pd.set_option('display.min_rows', 100)\n",
    "num_ofDesiredRecords = 4000"
   ]
  },
  {
   "cell_type": "markdown",
   "source": [
    "# Fake Dataset Creation"
   ],
   "metadata": {
    "collapsed": false,
    "pycharm": {
     "name": "#%% md\n"
    }
   }
  },
  {
   "cell_type": "markdown",
   "source": [
    "Due to the sensitive information, we decided to create a fake dataset to be able to work with for this project."
   ],
   "metadata": {
    "collapsed": false,
    "pycharm": {
     "name": "#%% md\n"
    }
   }
  },
  {
   "cell_type": "markdown",
   "source": [
    "### SAA"
   ],
   "metadata": {
    "collapsed": false,
    "pycharm": {
     "name": "#%% md\n"
    }
   }
  },
  {
   "cell_type": "code",
   "execution_count": 2,
   "id": "4a4944c7",
   "metadata": {
    "ExecuteTime": {
     "end_time": "2022-06-23T14:03:51.347967Z",
     "start_time": "2022-06-23T14:03:51.332966Z"
    },
    "pycharm": {
     "name": "#%%\n"
    }
   },
   "outputs": [],
   "source": [
    "def createRandomPhoneNumber_SAA():\n",
    "    range_start = 10**9\n",
    "    range_end = 10**10 -1\n",
    "    num = str(random.randint(range_start,range_end))\n",
    "    num_str = \"{0} {1}-{2}\".format(num[:3], num[3:7],num[7:])\n",
    "    return num_str"
   ]
  },
  {
   "cell_type": "code",
   "execution_count": 3,
   "id": "144ff146",
   "metadata": {
    "ExecuteTime": {
     "end_time": "2022-06-23T14:03:51.363972Z",
     "start_time": "2022-06-23T14:03:51.349968Z"
    },
    "pycharm": {
     "name": "#%%\n"
    }
   },
   "outputs": [],
   "source": [
    "def createRandomEmail(record,domainList=['@gmail.com','@stanfordalumni.org','@alumni.stanford.edu']):\n",
    "    domain = random.choice(domainList)\n",
    "    fName = record['first_name'].strip().lower()\n",
    "    LName = record['last_name'].strip().lower()\n",
    "    formats = []\n",
    "    \n",
    "    #Example: John Doe 123\n",
    "    formats.append(fName[0]+LName+str(random.randint(10,9999))) #jdoe123\n",
    "    formats.append(fName+LName+str(random.randint(10,9999))) #johndoe123\n",
    "    formats.append(fName+LName[0]+str(random.randint(10,9999))) #johnd123\n",
    "    formats.append(fName[0]+'.'+LName+str(random.randint(10,9999))) #j.doe123\n",
    "    formats.append(fName+'.'+LName+str(random.randint(10,9999))) #john.doe123\n",
    "    \n",
    "    return random.choice(formats)+domain"
   ]
  },
  {
   "cell_type": "code",
   "execution_count": 4,
   "id": "583a931e",
   "metadata": {
    "ExecuteTime": {
     "end_time": "2022-06-23T14:03:51.379975Z",
     "start_time": "2022-06-23T14:03:51.367973Z"
    },
    "pycharm": {
     "name": "#%%\n"
    }
   },
   "outputs": [],
   "source": [
    "def createDegreeString_SAA():\n",
    "    degree_list = ['MS','MA','MBA','MD','PhD','BA','BS','JD','']\n",
    "    degree_years = \"'\" + str(random.randint(80,99))\n",
    "    degree = random.choice(degree_list) + ' ' + degree_years\n",
    "    return degree.strip()"
   ]
  },
  {
   "cell_type": "code",
   "execution_count": 5,
   "id": "dac6a6f8",
   "metadata": {
    "ExecuteTime": {
     "end_time": "2022-06-23T14:03:51.395978Z",
     "start_time": "2022-06-23T14:03:51.381975Z"
    },
    "pycharm": {
     "name": "#%%\n"
    }
   },
   "outputs": [],
   "source": [
    "city = ['Chicago', 'Boston',  'Madrid', 'Tokyo', 'Seoul', 'London','Beijing','Shanghai','Dubai','*',np.nan,'']\n",
    "state = ['NY', 'WA', 'TX','CA','NM','*',np.nan,'']\n",
    "country = ['Japan', 'United States', 'USA', 'China', 'Kuwait','*',np.nan,'']"
   ]
  },
  {
   "cell_type": "code",
   "execution_count": 6,
   "id": "d3308cb0",
   "metadata": {
    "ExecuteTime": {
     "end_time": "2022-06-23T14:03:51.411982Z",
     "start_time": "2022-06-23T14:03:51.396979Z"
    },
    "pycharm": {
     "name": "#%%\n"
    }
   },
   "outputs": [],
   "source": [
    "common_FNames = [\n",
    "'Bulbasaur',\n",
    "'Ivysaur',\n",
    "'Venusaur',\n",
    "'Charmander',\n",
    "'Charmeleon',\n",
    "'Charizard',\n",
    "'Squirtle',\n",
    "'Wartortle',\n",
    "'Blastoise',\n",
    "'Caterpie',\n",
    "'Metapod',\n",
    "'Butterfree',\n",
    "'Weedle',\n",
    "'Kakuna',\n",
    "'Beedrill',\n",
    "'Pidgey',\n",
    "'Pidgeotto',\n",
    "'Pidgeot',\n",
    "'Rattata',\n",
    "'Raticate',\n",
    "'Spearow',\n",
    "'Fearow',\n",
    "'Ekans',\n",
    "'Arbok',\n",
    "'Pikachu',\n",
    "'Raichu',\n",
    "'Sandshrew',\n",
    "'Sandslash',\n",
    "'Nidoran♀',\n",
    "'Nidorina',\n",
    "'Nidoqueen',\n",
    "'Nidoran♂',\n",
    "'Nidorino',\n",
    "'Nidoking',\n",
    "'Clefairy',\n",
    "'Clefable',\n",
    "'Vulpix',\n",
    "'Ninetales',\n",
    "'Jigglypuff',\n",
    "'Wigglytuff',\n",
    "'Zubat',\n",
    "'Golbat',\n",
    "'Oddish',\n",
    "'Gloom',\n",
    "'Vileplume',\n",
    "'Paras',\n",
    "'Parasect',\n",
    "'Venonat',\n",
    "'Venomoth',\n",
    "'Diglett',\n",
    "'Dugtrio',\n",
    "'Meowth',\n",
    "'Persian',\n",
    "'Psyduck',\n",
    "'Golduck',\n",
    "'Mankey',\n",
    "'Primeape',\n",
    "'Growlithe',\n",
    "'Arcanine',\n",
    "'Poliwag',\n",
    "'Poliwhirl',\n",
    "'Poliwrath',\n",
    "'Abra',\n",
    "'Kadabra',\n",
    "'Alakazam',\n",
    "'Machop',\n",
    "'Machoke',\n",
    "'Machamp',\n",
    "'Bellsprout',\n",
    "'Weepinbell',\n",
    "'Victreebel',\n",
    "'Tentacool',\n",
    "'Tentacruel',\n",
    "'Geodude',\n",
    "'Graveler',\n",
    "'Golem',\n",
    "'Ponyta',\n",
    "'Rapidash',\n",
    "'Slowpoke',\n",
    "'Slowbro',\n",
    "'Magnemite',\n",
    "'Magneton',\n",
    "'Doduo',\n",
    "'Dodrio',\n",
    "'Seel',\n",
    "'Dewgong',\n",
    "'Grimer',\n",
    "'Muk',\n",
    "'Shellder',\n",
    "'Cloyster',\n",
    "'Gastly',\n",
    "'Haunter',\n",
    "'Gengar',\n",
    "'Onix',\n",
    "'Drowzee',\n",
    "'Hypno',\n",
    "'Krabby',\n",
    "'Kingler',\n",
    "'Voltorb',\n",
    "'Electrode',\n",
    "'Exeggcute',\n",
    "'Exeggutor',\n",
    "'Cubone',\n",
    "'Marowak',\n",
    "'Hitmonlee',\n",
    "'Hitmonchan',\n",
    "'Lickitung',\n",
    "'Koffing',\n",
    "'Weezing',\n",
    "'Rhyhorn',\n",
    "'Rhydon',\n",
    "'Chansey',\n",
    "'Tangela',\n",
    "'Kangaskhan',\n",
    "'Horsea',\n",
    "'Seadra',\n",
    "'Goldeen',\n",
    "'Seaking',\n",
    "'Staryu',\n",
    "'Starmie',\n",
    "'Mr. Mime',\n",
    "'Scyther',\n",
    "'Jynx',\n",
    "'Electabuzz',\n",
    "'Magmar',\n",
    "'Pinsir',\n",
    "'Tauros',\n",
    "'Magikarp',\n",
    "'Gyarados',\n",
    "'Lapras',\n",
    "'Ditto',\n",
    "'Eevee',\n",
    "'Vaporeon',\n",
    "'Jolteon',\n",
    "'Flareon',\n",
    "'Porygon',\n",
    "'Omanyte',\n",
    "'Omastar',\n",
    "'Kabuto',\n",
    "'Kabutops',\n",
    "'Aerodactyl',\n",
    "'Snorlax',\n",
    "'Articuno',\n",
    "'Zapdos',\n",
    "'Moltres',\n",
    "'Dratini',\n",
    "'Dragonair',\n",
    "'Dragonite',\n",
    "'Mewtwo',\n",
    "'Mew',\n",
    "'Chikorita',\n",
    "'Bayleef',\n",
    "'Meganium',\n",
    "'Cyndaquil',\n",
    "'Quilava',\n",
    "'Typhlosion',\n",
    "'Totodile',\n",
    "'Croconaw',\n",
    "'Feraligatr',\n",
    "'Sentret',\n",
    "'Furret',\n",
    "'Hoothoot',\n",
    "'Noctowl',\n",
    "'Ledyba',\n",
    "'Ledian',\n",
    "'Spinarak',\n",
    "'Ariados',\n",
    "'Crobat',\n",
    "'Chinchou',\n",
    "'Lanturn',\n",
    "'Pichu',\n",
    "'Cleffa',\n",
    "'Igglybuff',\n",
    "'Togepi',\n",
    "'Togetic',\n",
    "'Natu',\n",
    "'Xatu',\n",
    "'Mareep',\n",
    "'Flaaffy',\n",
    "'Ampharos',\n",
    "'Bellossom',\n",
    "'Marill',\n",
    "'Azumarill',\n",
    "'Sudowoodo',\n",
    "'Politoed',\n",
    "'Hoppip',\n",
    "'Skiploom',\n",
    "'Jumpluff',\n",
    "'Aipom',\n",
    "'Sunkern',\n",
    "'Sunflora',\n",
    "'Yanma',\n",
    "'Wooper',\n",
    "'Quagsire',\n",
    "'Espeon',\n",
    "'Umbreon',\n",
    "'Murkrow',\n",
    "'Slowking',\n",
    "'Misdreavus',\n",
    "'Unown',\n",
    "'Wobbuffet',\n",
    "'Girafarig',\n",
    "'Pineco',\n",
    "'Forretress',\n",
    "'Dunsparce',\n",
    "'Gligar',\n",
    "'Steelix',\n",
    "'Snubbull',\n",
    "'Granbull',\n",
    "'Qwilfish',\n",
    "'Scizor',\n",
    "'Shuckle',\n",
    "'Heracross',\n",
    "'Sneasel',\n",
    "'Teddiursa',\n",
    "'Ursaring',\n",
    "'Slugma',\n",
    "'Magcargo',\n",
    "'Swinub',\n",
    "'Piloswine',\n",
    "'Corsola',\n",
    "'Remoraid',\n",
    "'Octillery',\n",
    "'Delibird',\n",
    "'Mantine',\n",
    "'Skarmory',\n",
    "'Houndour',\n",
    "'Houndoom',\n",
    "'Kingdra',\n",
    "'Phanpy',\n",
    "'Donphan',\n",
    "'Porygon2',\n",
    "'Stantler',\n",
    "'Smeargle',\n",
    "'Tyrogue',\n",
    "'Hitmontop',\n",
    "'Smoochum',\n",
    "'Elekid',\n",
    "'Magby',\n",
    "'Miltank',\n",
    "'Blissey',\n",
    "'Raikou',\n",
    "'Entei',\n",
    "'Suicune',\n",
    "'Larvitar',\n",
    "'Pupitar',\n",
    "'Tyranitar',\n",
    "'Lugia',\n",
    "'Ho-Oh',\n",
    "'Celebi',\n",
    "'Treecko',\n",
    "'Grovyle',\n",
    "'Sceptile',\n",
    "'Torchic',\n",
    "'Combusken',\n",
    "'Blaziken',\n",
    "'Mudkip',\n",
    "'Marshtomp',\n",
    "'Swampert',\n",
    "'Poochyena',\n",
    "'Mightyena',\n",
    "'Zigzagoon',\n",
    "'Linoone',\n",
    "'Wurmple',\n",
    "'Silcoon',\n",
    "'Beautifly',\n",
    "'Cascoon',\n",
    "'Dustox',\n",
    "'Lotad',\n",
    "'Lombre',\n",
    "'Ludicolo',\n",
    "'Seedot',\n",
    "'Nuzleaf',\n",
    "'Shiftry',\n",
    "'Taillow',\n",
    "'Swellow',\n",
    "'Wingull',\n",
    "'Pelipper',\n",
    "'Ralts',\n",
    "'Kirlia',\n",
    "'Gardevoir',\n",
    "'Surskit',\n",
    "'Masquerain',\n",
    "'Shroomish',\n",
    "'Breloom',\n",
    "'Slakoth',\n",
    "'Vigoroth',\n",
    "'Slaking',\n",
    "'Nincada',\n",
    "'Ninjask',\n",
    "'Shedinja',\n",
    "'Whismur',\n",
    "'Loudred',\n",
    "'Exploud',\n",
    "'Makuhita',\n",
    "'Hariyama',\n",
    "'Azurill',\n",
    "'Nosepass',   \n",
    "]"
   ]
  },
  {
   "cell_type": "code",
   "execution_count": 7,
   "id": "1c94d035",
   "metadata": {
    "ExecuteTime": {
     "end_time": "2022-06-23T14:03:51.427513Z",
     "start_time": "2022-06-23T14:03:51.412984Z"
    },
    "pycharm": {
     "name": "#%%\n"
    }
   },
   "outputs": [],
   "source": [
    "common_LNames = ['Normal',\n",
    "'Fire',\n",
    "'Water',\n",
    "'Grass',\n",
    "'Electric',\n",
    "'Ice',\n",
    "'Fighting',\n",
    "'Poison',\n",
    "'Ground',\n",
    "'Flying',\n",
    "'Psychic',\n",
    "'Bug',\n",
    "'Rock',\n",
    "'Ghost',\n",
    "'Dragon',\n",
    "'Steel',\n",
    "'Dark',\n",
    "'Fairy']"
   ]
  },
  {
   "cell_type": "code",
   "execution_count": 8,
   "id": "6e3baa55",
   "metadata": {
    "ExecuteTime": {
     "end_time": "2022-06-23T14:03:52.088334Z",
     "start_time": "2022-06-23T14:03:51.429514Z"
    },
    "scrolled": true,
    "pycharm": {
     "name": "#%%\n"
    }
   },
   "outputs": [
    {
     "name": "stderr",
     "output_type": "stream",
     "text": [
      "C:\\Users\\saads\\AppData\\Local\\Temp\\ipykernel_14044\\2961325751.py:1: FutureWarning: The frame.append method is deprecated and will be removed from pandas in a future version. Use pandas.concat instead.\n",
      "  df_SAA = pd.read_excel(\"./data/SAA Pride member reports headings.xlsx\").append([np.nan]*num_ofDesiredRecords)\n"
     ]
    }
   ],
   "source": [
    "df_SAA = pd.read_excel(\"./data/SAA Pride member reports headings.xlsx\").append([np.nan]*num_ofDesiredRecords)"
   ]
  },
  {
   "cell_type": "code",
   "execution_count": 9,
   "id": "a0727b81",
   "metadata": {
    "ExecuteTime": {
     "end_time": "2022-06-23T14:03:52.104328Z",
     "start_time": "2022-06-23T14:03:52.089326Z"
    },
    "pycharm": {
     "name": "#%%\n"
    }
   },
   "outputs": [],
   "source": [
    "__  = []\n",
    "for _ in range(0,num_ofDesiredRecords):\n",
    "    __.append(random.choice(common_FNames))\n",
    "    \n",
    "df_SAA.first_name = __"
   ]
  },
  {
   "cell_type": "code",
   "execution_count": 10,
   "id": "2b39fb94",
   "metadata": {
    "ExecuteTime": {
     "end_time": "2022-06-23T14:03:52.120339Z",
     "start_time": "2022-06-23T14:03:52.106329Z"
    },
    "pycharm": {
     "name": "#%%\n"
    }
   },
   "outputs": [],
   "source": [
    "__  = []\n",
    "for _ in range(0,num_ofDesiredRecords):\n",
    "    __.append(random.choice(common_LNames))\n",
    "    \n",
    "df_SAA.last_name = __"
   ]
  },
  {
   "cell_type": "code",
   "execution_count": 11,
   "id": "3fcb4716",
   "metadata": {
    "ExecuteTime": {
     "end_time": "2022-06-23T14:03:52.152253Z",
     "start_time": "2022-06-23T14:03:52.121334Z"
    },
    "pycharm": {
     "name": "#%%\n"
    }
   },
   "outputs": [],
   "source": [
    "__  = []\n",
    "for _ in range(0,num_ofDesiredRecords):\n",
    "    __.append(random.choices([createRandomPhoneNumber_SAA(),'*',np.nan],weights=(1,5,5))[0])\n",
    "    \n",
    "df_SAA.home_phone_number = __"
   ]
  },
  {
   "cell_type": "code",
   "execution_count": 12,
   "id": "88b80f49",
   "metadata": {
    "ExecuteTime": {
     "end_time": "2022-06-23T14:03:53.006588Z",
     "start_time": "2022-06-23T14:03:52.153253Z"
    },
    "pycharm": {
     "name": "#%%\n"
    }
   },
   "outputs": [],
   "source": [
    "__  = []\n",
    "for _ in range(0,num_ofDesiredRecords):\n",
    "    __.append(random.choice(['*',np.nan,createRandomEmail(df_SAA.iloc[_])]))\n",
    "    \n",
    "df_SAA.home_email_address = __\n",
    "\n",
    "\n",
    "__  = []\n",
    "for _ in range(0,num_ofDesiredRecords):\n",
    "    __.append(random.choice([createRandomEmail(df_SAA.iloc[_]),np.nan]))\n",
    "    \n",
    "df_SAA.email_switch = __"
   ]
  },
  {
   "cell_type": "code",
   "execution_count": 13,
   "id": "da38b886",
   "metadata": {
    "ExecuteTime": {
     "end_time": "2022-06-23T14:03:53.435685Z",
     "start_time": "2022-06-23T14:03:53.007590Z"
    },
    "pycharm": {
     "name": "#%%\n"
    }
   },
   "outputs": [],
   "source": [
    "__  = []\n",
    "for _ in range(0,num_ofDesiredRecords):\n",
    "    __.append(random.choice(['*',np.nan,createRandomEmail(df_SAA.iloc[_],['@stanfordalumni.org','@alumni.stanford.edu'])]))\n",
    "    \n",
    "df_SAA.saa_email_address = __"
   ]
  },
  {
   "cell_type": "code",
   "execution_count": 14,
   "id": "89812a6f",
   "metadata": {
    "ExecuteTime": {
     "end_time": "2022-06-23T14:03:53.897818Z",
     "start_time": "2022-06-23T14:03:53.436686Z"
    },
    "pycharm": {
     "name": "#%%\n"
    }
   },
   "outputs": [],
   "source": [
    "__  = []\n",
    "for _ in range(0,num_ofDesiredRecords):\n",
    "    __.append(random.choices([createRandomEmail(df_SAA.iloc[_]),np.nan],weights=(1, 50))[0])\n",
    "    \n",
    "df_SAA.gsb_email_address = __"
   ]
  },
  {
   "cell_type": "code",
   "execution_count": 15,
   "id": "a0308232",
   "metadata": {
    "ExecuteTime": {
     "end_time": "2022-06-23T14:03:54.360779Z",
     "start_time": "2022-06-23T14:03:53.898820Z"
    },
    "pycharm": {
     "name": "#%%\n"
    }
   },
   "outputs": [],
   "source": [
    "__  = []\n",
    "for _ in range(0,num_ofDesiredRecords):\n",
    "    __.append(random.choices([createRandomEmail(df_SAA.iloc[_]),np.nan],weights=(1, 10))[0])\n",
    "    \n",
    "df_SAA.bus_email_address = __"
   ]
  },
  {
   "cell_type": "code",
   "execution_count": 16,
   "id": "fcef7579",
   "metadata": {
    "ExecuteTime": {
     "end_time": "2022-06-23T14:03:54.376810Z",
     "start_time": "2022-06-23T14:03:54.361769Z"
    },
    "pycharm": {
     "name": "#%%\n"
    }
   },
   "outputs": [],
   "source": [
    "__  = []\n",
    "for _ in range(0,num_ofDesiredRecords):\n",
    "    __.append(random.choice(city))\n",
    "    \n",
    "df_SAA.home_city = __"
   ]
  },
  {
   "cell_type": "code",
   "execution_count": 17,
   "id": "3e82e2b1",
   "metadata": {
    "ExecuteTime": {
     "end_time": "2022-06-23T14:03:54.392613Z",
     "start_time": "2022-06-23T14:03:54.377810Z"
    },
    "pycharm": {
     "name": "#%%\n"
    }
   },
   "outputs": [],
   "source": [
    "__  = []\n",
    "for _ in range(0,num_ofDesiredRecords):\n",
    "    __.append(random.choice(country))\n",
    "    \n",
    "df_SAA.home_country = __"
   ]
  },
  {
   "cell_type": "code",
   "execution_count": 18,
   "id": "067e0aba",
   "metadata": {
    "ExecuteTime": {
     "end_time": "2022-06-23T14:03:54.407616Z",
     "start_time": "2022-06-23T14:03:54.393615Z"
    },
    "pycharm": {
     "name": "#%%\n"
    }
   },
   "outputs": [],
   "source": [
    "__  = []\n",
    "for _ in range(0,num_ofDesiredRecords):\n",
    "    __.append(random.choice(country))\n",
    "    \n",
    "df_SAA.bus_country = __"
   ]
  },
  {
   "cell_type": "code",
   "execution_count": 19,
   "id": "4234ac97",
   "metadata": {
    "ExecuteTime": {
     "end_time": "2022-06-23T14:03:54.423620Z",
     "start_time": "2022-06-23T14:03:54.408617Z"
    },
    "pycharm": {
     "name": "#%%\n"
    }
   },
   "outputs": [],
   "source": [
    "state = {'Chicago': 'IL', \n",
    "           'Boston': 'MA', \n",
    "           'New York' : 'NY', \n",
    "           'San Francisco': 'CA', \n",
    "           'Los Angeles' : 'CA', \n",
    "           'Austin' : 'TX',\n",
    "        'Dallas': 'TX',\n",
    "        'Denver': 'CO',\n",
    "        '':'',\n",
    "        '*':'*'}\n",
    "\n",
    "df_SAA.home_state_code = df_SAA['home_city'].map(state)"
   ]
  },
  {
   "cell_type": "code",
   "execution_count": 20,
   "id": "df107254",
   "metadata": {
    "ExecuteTime": {
     "end_time": "2022-06-23T14:03:54.439624Z",
     "start_time": "2022-06-23T14:03:54.424620Z"
    },
    "pycharm": {
     "name": "#%%\n"
    }
   },
   "outputs": [],
   "source": [
    "__  = []\n",
    "for _ in range(0,num_ofDesiredRecords):\n",
    "    __.append(random.choice(['',np.nan,random.randint(1990, 2018)]))\n",
    "    \n",
    "df_SAA.pref_class_year = __\n"
   ]
  },
  {
   "cell_type": "code",
   "execution_count": 21,
   "id": "b8327048",
   "metadata": {
    "ExecuteTime": {
     "end_time": "2022-06-23T14:03:54.471269Z",
     "start_time": "2022-06-23T14:03:54.440624Z"
    },
    "pycharm": {
     "name": "#%%\n"
    }
   },
   "outputs": [],
   "source": [
    "degrees = []\n",
    "for i in range(0,num_ofDesiredRecords):\n",
    "    num_draw = random.randint(0,3)\n",
    "    degree = np.NaN\n",
    "    k=0\n",
    "    while k < num_draw:\n",
    "        if k == 0:\n",
    "            degree = createDegreeString_SAA()\n",
    "        else:\n",
    "            degree = degree +', '+ createDegreeString_SAA()\n",
    "        k+=1\n",
    "    degrees.append(degree)\n",
    "    \n",
    "df_SAA.short_degree_string = degrees"
   ]
  },
  {
   "cell_type": "code",
   "execution_count": 22,
   "id": "aedc6769",
   "metadata": {
    "ExecuteTime": {
     "end_time": "2022-06-23T14:03:54.486271Z",
     "start_time": "2022-06-23T14:03:54.472271Z"
    },
    "pycharm": {
     "name": "#%%\n"
    }
   },
   "outputs": [],
   "source": [
    "# df_SAA.to_excel('data/SAA_FakeDB.xlsx',index = False)"
   ]
  },
  {
   "cell_type": "code",
   "execution_count": 23,
   "id": "86b98af7",
   "metadata": {
    "ExecuteTime": {
     "end_time": "2022-06-23T14:03:56.464910Z",
     "start_time": "2022-06-23T14:03:54.488277Z"
    },
    "pycharm": {
     "name": "#%%\n"
    }
   },
   "outputs": [],
   "source": [
    "df_SAA.drop(columns=[0]).to_excel('data/SAA_Pokemon_FakeDB.xlsx',index = False)"
   ]
  },
  {
   "cell_type": "code",
   "execution_count": 24,
   "id": "9e0da54e",
   "metadata": {
    "ExecuteTime": {
     "end_time": "2022-06-23T14:03:56.480928Z",
     "start_time": "2022-06-23T14:03:56.465909Z"
    },
    "pycharm": {
     "name": "#%%\n"
    }
   },
   "outputs": [
    {
     "data": {
      "text/plain": [
       "pref_mail_name                                                    NaN\n",
       "pref_class_year                                                      \n",
       "home_city                                                       Seoul\n",
       "home_state_code                                                   NaN\n",
       "home_country                                                      USA\n",
       "home_phone_area_code                                              NaN\n",
       "home_phone_number                                                   *\n",
       "home_email_address             slakoth.normal3945@alumni.stanford.edu\n",
       "bus_city                                                          NaN\n",
       "bus_state_code                                                    NaN\n",
       "bus_country                                                     Japan\n",
       "bus_phone_area_code                                               NaN\n",
       "bus_phone_number                                                  NaN\n",
       "bus_email_address                                                 NaN\n",
       "first_name                                                    Slakoth\n",
       "last_name                                                      Normal\n",
       "pref_name_sort                                                    NaN\n",
       "email_switch                                                      NaN\n",
       "saa_email_address                                                 NaN\n",
       "gsb_email_address                                                 NaN\n",
       "other_email_address                                               NaN\n",
       "pref_phone_area_code                                              NaN\n",
       "pref_phone_number                                                 NaN\n",
       "pref_phone_addr_type                                              NaN\n",
       "memb_status_desc                                                  NaN\n",
       "short_degree_string                          BA '99, PhD '85, MBA '89\n",
       "parent_degree_string                                              NaN\n",
       "short_degree_string_spouse                                        NaN\n",
       "parent_degree_string_spouse                                       NaN\n",
       "primary_sort_name                                                 NaN\n",
       "plan_name                                                         NaN\n",
       "primary_ind                                                       NaN\n",
       "0                                                                 NaN\n",
       "Name: 74, dtype: object"
      ]
     },
     "execution_count": 24,
     "metadata": {},
     "output_type": "execute_result"
    }
   ],
   "source": [
    "df_SAA.loc[74]"
   ]
  },
  {
   "cell_type": "markdown",
   "id": "42697ca7",
   "metadata": {
    "pycharm": {
     "name": "#%% md\n"
    }
   },
   "source": [
    "### Mailchimp"
   ]
  },
  {
   "cell_type": "markdown",
   "source": [
    "Making Mailchimp records that matches up to a degree to some Stanford records."
   ],
   "metadata": {
    "collapsed": false,
    "pycharm": {
     "name": "#%% md\n"
    }
   }
  },
  {
   "cell_type": "code",
   "execution_count": 25,
   "id": "7ec3568c",
   "metadata": {
    "ExecuteTime": {
     "end_time": "2022-06-23T14:03:56.512934Z",
     "start_time": "2022-06-23T14:03:56.482928Z"
    },
    "pycharm": {
     "name": "#%%\n"
    }
   },
   "outputs": [
    {
     "data": {
      "text/html": [
       "<div>\n",
       "<style scoped>\n",
       "    .dataframe tbody tr th:only-of-type {\n",
       "        vertical-align: middle;\n",
       "    }\n",
       "\n",
       "    .dataframe tbody tr th {\n",
       "        vertical-align: top;\n",
       "    }\n",
       "\n",
       "    .dataframe thead th {\n",
       "        text-align: right;\n",
       "    }\n",
       "</style>\n",
       "<table border=\"1\" class=\"dataframe\">\n",
       "  <thead>\n",
       "    <tr style=\"text-align: right;\">\n",
       "      <th></th>\n",
       "      <th>Email Address</th>\n",
       "      <th>First Name</th>\n",
       "      <th>Last Name</th>\n",
       "      <th>Board Member</th>\n",
       "      <th>Gender</th>\n",
       "      <th>Chapter</th>\n",
       "      <th>Reunion Year</th>\n",
       "      <th>Country</th>\n",
       "      <th>Degree</th>\n",
       "      <th>MEMBER_RATING</th>\n",
       "      <th>OPTIN_TIME</th>\n",
       "      <th>OPTIN_IP</th>\n",
       "      <th>CONFIRM_TIME</th>\n",
       "      <th>CONFIRM_IP</th>\n",
       "      <th>LATITUDE</th>\n",
       "      <th>LONGITUDE</th>\n",
       "      <th>GMTOFF</th>\n",
       "      <th>DSTOFF</th>\n",
       "      <th>TIMEZONE</th>\n",
       "      <th>CC</th>\n",
       "      <th>REGION</th>\n",
       "      <th>CLEAN_TIME</th>\n",
       "      <th>CLEAN_CAMPAIGN_TITLE</th>\n",
       "      <th>CLEAN_CAMPAIGN_ID</th>\n",
       "      <th>LEID</th>\n",
       "      <th>EUID</th>\n",
       "      <th>NOTES</th>\n",
       "      <th>TAGS</th>\n",
       "    </tr>\n",
       "  </thead>\n",
       "  <tbody>\n",
       "  </tbody>\n",
       "</table>\n",
       "</div>"
      ],
      "text/plain": [
       "Empty DataFrame\n",
       "Columns: [Email Address, First Name, Last Name, Board Member, Gender, Chapter, Reunion Year, Country, Degree, MEMBER_RATING, OPTIN_TIME, OPTIN_IP, CONFIRM_TIME, CONFIRM_IP, LATITUDE, LONGITUDE, GMTOFF, DSTOFF, TIMEZONE, CC, REGION, CLEAN_TIME, CLEAN_CAMPAIGN_TITLE, CLEAN_CAMPAIGN_ID, LEID, EUID, NOTES, TAGS]\n",
       "Index: []"
      ]
     },
     "execution_count": 25,
     "metadata": {},
     "output_type": "execute_result"
    }
   ],
   "source": [
    "df_mc = pd.read_csv('data/MailChimp cleaned records headers.csv')\n",
    "df_mc"
   ]
  },
  {
   "cell_type": "code",
   "execution_count": 26,
   "id": "97d6d088",
   "metadata": {
    "ExecuteTime": {
     "end_time": "2022-06-23T14:03:56.544942Z",
     "start_time": "2022-06-23T14:03:56.516923Z"
    },
    "scrolled": false,
    "pycharm": {
     "name": "#%%\n"
    }
   },
   "outputs": [
    {
     "name": "stderr",
     "output_type": "stream",
     "text": [
      "C:\\Users\\saads\\AppData\\Local\\Temp\\ipykernel_14044\\3712233133.py:1: FutureWarning: The frame.append method is deprecated and will be removed from pandas in a future version. Use pandas.concat instead.\n",
      "  df_mc = df_mc.append([np.nan]*5).drop(columns=0)\n"
     ]
    }
   ],
   "source": [
    "df_mc = df_mc.append([np.nan]*5).drop(columns=0)"
   ]
  },
  {
   "cell_type": "code",
   "execution_count": 27,
   "id": "8f64da8b",
   "metadata": {
    "ExecuteTime": {
     "end_time": "2022-06-23T14:03:56.560279Z",
     "start_time": "2022-06-23T14:03:56.545942Z"
    },
    "pycharm": {
     "name": "#%%\n"
    }
   },
   "outputs": [],
   "source": [
    "# First record. No major difference other than email\n",
    "rec = df_SAA.loc[74]\n",
    "i = 0\n",
    "df_mc.loc[i,'First Name'] = rec.first_name\n",
    "df_mc.loc[i,'Last Name'] = rec.last_name\n",
    "df_mc.loc[i,'Email Address'] = rec.home_email_address.split('@')[0]+'@gmail.com'\n",
    "df_mc.loc[i,'Country'] = rec.home_country\n",
    "df_mc.loc[i,'Degree'] = random.choice([np.nan,''])\n",
    "\n",
    "df_mc.loc[i,'Board Member'] = random.choice([True,False])\n",
    "df_mc.loc[i,'Gender'] = random.choice(['F','M',np.nan])\n",
    "df_mc.loc[i,'Chapter'] = random.choice(['Other US','Texas','Bay Area','DC Area','New England'])"
   ]
  },
  {
   "cell_type": "code",
   "execution_count": 28,
   "id": "0afe958a",
   "metadata": {
    "ExecuteTime": {
     "end_time": "2022-06-23T14:03:56.576282Z",
     "start_time": "2022-06-23T14:03:56.562270Z"
    },
    "pycharm": {
     "name": "#%%\n"
    }
   },
   "outputs": [],
   "source": [
    "# Second record. USA == United States. Different email\n",
    "rec = df_SAA.loc[34]\n",
    "i=1\n",
    "\n",
    "df_mc.loc[i,'First Name'] = rec.first_name\n",
    "df_mc.loc[i,'Last Name'] = rec.last_name\n",
    "df_mc.loc[i,'Email Address'] = createRandomEmail(rec)\n",
    "df_mc.loc[i,'Country'] = 'United States'\n",
    "# df_mc.loc[i,'Degree'] = random.choice([np.nan,''])\n",
    "\n",
    "df_mc.loc[i,'Board Member'] = random.choice([True,False])\n",
    "df_mc.loc[i,'Gender'] = random.choice(['F','M',np.nan])\n",
    "df_mc.loc[i,'Chapter'] = random.choice(['Other US','Texas','Bay Area','DC Area','New England'])\n",
    "\n",
    "# Third record. Missing 1 degree. Different country. Different email\n",
    "rec = df_SAA.loc[30]\n",
    "i=2\n",
    "df_mc.loc[i,'First Name'] = rec.first_name\n",
    "df_mc.loc[i,'Last Name'] = rec.last_name\n",
    "df_mc.loc[i,'Email Address'] = 'rhydonghost7966@alumni.stanford.edu'\n",
    "df_mc.loc[i,'Country'] = 'USA'\n",
    "df_mc.loc[i,'Degree'] = 'MBA'\n",
    "\n",
    "df_mc.loc[i,'Board Member'] = random.choice([True,False])\n",
    "df_mc.loc[i,'Gender'] = random.choice(['F','M',np.nan])\n",
    "df_mc.loc[i,'Chapter'] = random.choice(['Other US','Texas','Bay Area','DC Area','New England'])"
   ]
  },
  {
   "cell_type": "code",
   "execution_count": 29,
   "id": "ac130a0b",
   "metadata": {
    "ExecuteTime": {
     "end_time": "2022-06-23T14:03:56.592286Z",
     "start_time": "2022-06-23T14:03:56.577282Z"
    },
    "pycharm": {
     "name": "#%%\n"
    }
   },
   "outputs": [],
   "source": [
    "# 4th record. Has a degree on mail chimp side\n",
    "rec = df_SAA.loc[92]\n",
    "i=3\n",
    "df_mc.loc[i,'First Name'] = rec.first_name\n",
    "df_mc.loc[i,'Last Name'] = rec.last_name\n",
    "df_mc.loc[i,'Email Address'] = createRandomEmail(rec)\n",
    "df_mc.loc[i,'Country'] = 'Japan'\n",
    "df_mc.loc[i,'Degree'] = 'MS'\n",
    "\n",
    "df_mc.loc[i,'Board Member'] = random.choice([True,False])\n",
    "df_mc.loc[i,'Gender'] = random.choice(['F','M',np.nan])\n",
    "df_mc.loc[i,'Chapter'] = random.choice(['Other US','Texas','Bay Area','DC Area','New England'])"
   ]
  },
  {
   "cell_type": "code",
   "execution_count": 30,
   "id": "13098b07",
   "metadata": {
    "ExecuteTime": {
     "end_time": "2022-06-23T14:03:56.608263Z",
     "start_time": "2022-06-23T14:03:56.593277Z"
    },
    "pycharm": {
     "name": "#%%\n"
    }
   },
   "outputs": [],
   "source": [
    "# 5th record. Missing all degrees\n",
    "rec = df_SAA.loc[101]\n",
    "i=4\n",
    "\n",
    "df_mc.loc[i,'First Name'] = rec.first_name\n",
    "df_mc.loc[i,'Last Name'] = rec.last_name\n",
    "df_mc.loc[i,'Email Address'] = createRandomEmail(rec)\n",
    "df_mc.loc[i,'Country'] = 'United States'\n",
    "df_mc.loc[i,'Degree'] = random.choice([np.nan,''])\n",
    "\n",
    "df_mc.loc[i,'Board Member'] = random.choice([True,False])\n",
    "df_mc.loc[i,'Gender'] = random.choice(['F','M',np.nan])\n",
    "df_mc.loc[i,'Chapter'] = random.choice(['Other US','Texas','Bay Area','DC Area','New England'])"
   ]
  },
  {
   "cell_type": "code",
   "execution_count": 31,
   "id": "7f36d1c3",
   "metadata": {
    "ExecuteTime": {
     "end_time": "2022-06-23T14:03:56.624259Z",
     "start_time": "2022-06-23T14:03:56.609264Z"
    },
    "pycharm": {
     "name": "#%%\n"
    }
   },
   "outputs": [],
   "source": [
    "# 6th record. Changed last name\n",
    "rec = df_SAA.loc[13]\n",
    "i=5\n",
    "df_mc.loc[i,'First Name'] = rec.first_name\n",
    "df_mc.loc[i,'Last Name'] = random.choice(common_LNames)\n",
    "df_mc.loc[i,'Email Address'] = rec.saa_email_address.split('@')[0]+'@gmail.com'\n",
    "df_mc.loc[i,'Country'] = 'USA'\n",
    "df_mc.loc[i,'Degree'] = random.choice([np.nan,''])\n",
    "\n",
    "df_mc.loc[i,'Board Member'] = random.choice([True,False])\n",
    "df_mc.loc[i,'Gender'] = random.choice(['F','M',np.nan])\n",
    "df_mc.loc[i,'Chapter'] = random.choice(['Other US','Texas','Bay Area','DC Area','New England'])"
   ]
  },
  {
   "cell_type": "code",
   "execution_count": 32,
   "id": "e34c3e97",
   "metadata": {
    "ExecuteTime": {
     "end_time": "2022-06-23T14:03:56.640271Z",
     "start_time": "2022-06-23T14:03:56.625267Z"
    },
    "pycharm": {
     "name": "#%%\n"
    }
   },
   "outputs": [],
   "source": [
    "# 7th record. mostly empty mail chimp record\n",
    "random_country = list(pycountry.countries)\n",
    "random.shuffle(random_country)\n",
    "\n",
    "rec = df_SAA.loc[600]\n",
    "i=6\n",
    "df_mc.loc[i,'First Name'] = rec.first_name\n",
    "df_mc.loc[i,'Last Name'] = rec.last_name\n",
    "df_mc.loc[i,'Email Address'] = rec.email_switch.split('@')[0]+'@gmail.com'\n",
    "df_mc.loc[i,'Country'] = random_country[0].official_name\n",
    "df_mc.loc[i,'Degree'] = random.choice([np.nan,''])\n",
    "\n",
    "df_mc.loc[i,'Board Member'] = random.choice([True,False])\n",
    "df_mc.loc[i,'Gender'] = random.choice(['F','M',np.nan])\n",
    "df_mc.loc[i,'Chapter'] = random.choice(['Other US','Texas','Bay Area','DC Area','New England'])"
   ]
  },
  {
   "cell_type": "code",
   "execution_count": 33,
   "id": "c4425fe4",
   "metadata": {
    "ExecuteTime": {
     "end_time": "2022-06-23T14:03:56.672278Z",
     "start_time": "2022-06-23T14:03:56.641261Z"
    },
    "scrolled": true,
    "pycharm": {
     "name": "#%%\n"
    }
   },
   "outputs": [
    {
     "data": {
      "text/html": [
       "<div>\n",
       "<style scoped>\n",
       "    .dataframe tbody tr th:only-of-type {\n",
       "        vertical-align: middle;\n",
       "    }\n",
       "\n",
       "    .dataframe tbody tr th {\n",
       "        vertical-align: top;\n",
       "    }\n",
       "\n",
       "    .dataframe thead th {\n",
       "        text-align: right;\n",
       "    }\n",
       "</style>\n",
       "<table border=\"1\" class=\"dataframe\">\n",
       "  <thead>\n",
       "    <tr style=\"text-align: right;\">\n",
       "      <th></th>\n",
       "      <th>Email Address</th>\n",
       "      <th>First Name</th>\n",
       "      <th>Last Name</th>\n",
       "      <th>Board Member</th>\n",
       "      <th>Gender</th>\n",
       "      <th>Chapter</th>\n",
       "      <th>Reunion Year</th>\n",
       "      <th>Country</th>\n",
       "      <th>Degree</th>\n",
       "      <th>MEMBER_RATING</th>\n",
       "      <th>OPTIN_TIME</th>\n",
       "      <th>OPTIN_IP</th>\n",
       "      <th>CONFIRM_TIME</th>\n",
       "      <th>CONFIRM_IP</th>\n",
       "      <th>LATITUDE</th>\n",
       "      <th>LONGITUDE</th>\n",
       "      <th>GMTOFF</th>\n",
       "      <th>DSTOFF</th>\n",
       "      <th>TIMEZONE</th>\n",
       "      <th>CC</th>\n",
       "      <th>REGION</th>\n",
       "      <th>CLEAN_TIME</th>\n",
       "      <th>CLEAN_CAMPAIGN_TITLE</th>\n",
       "      <th>CLEAN_CAMPAIGN_ID</th>\n",
       "      <th>LEID</th>\n",
       "      <th>EUID</th>\n",
       "      <th>NOTES</th>\n",
       "      <th>TAGS</th>\n",
       "    </tr>\n",
       "  </thead>\n",
       "  <tbody>\n",
       "    <tr>\n",
       "      <th>0</th>\n",
       "      <td>slakoth.normal3945@gmail.com</td>\n",
       "      <td>Slakoth</td>\n",
       "      <td>Normal</td>\n",
       "      <td>False</td>\n",
       "      <td>NaN</td>\n",
       "      <td>Texas</td>\n",
       "      <td>NaN</td>\n",
       "      <td>USA</td>\n",
       "      <td>NaN</td>\n",
       "      <td>NaN</td>\n",
       "      <td>NaN</td>\n",
       "      <td>NaN</td>\n",
       "      <td>NaN</td>\n",
       "      <td>NaN</td>\n",
       "      <td>NaN</td>\n",
       "      <td>NaN</td>\n",
       "      <td>NaN</td>\n",
       "      <td>NaN</td>\n",
       "      <td>NaN</td>\n",
       "      <td>NaN</td>\n",
       "      <td>NaN</td>\n",
       "      <td>NaN</td>\n",
       "      <td>NaN</td>\n",
       "      <td>NaN</td>\n",
       "      <td>NaN</td>\n",
       "      <td>NaN</td>\n",
       "      <td>NaN</td>\n",
       "      <td>NaN</td>\n",
       "    </tr>\n",
       "    <tr>\n",
       "      <th>1</th>\n",
       "      <td>e.rock7454@gmail.com</td>\n",
       "      <td>Espeon</td>\n",
       "      <td>Rock</td>\n",
       "      <td>True</td>\n",
       "      <td>F</td>\n",
       "      <td>DC Area</td>\n",
       "      <td>NaN</td>\n",
       "      <td>United States</td>\n",
       "      <td>NaN</td>\n",
       "      <td>NaN</td>\n",
       "      <td>NaN</td>\n",
       "      <td>NaN</td>\n",
       "      <td>NaN</td>\n",
       "      <td>NaN</td>\n",
       "      <td>NaN</td>\n",
       "      <td>NaN</td>\n",
       "      <td>NaN</td>\n",
       "      <td>NaN</td>\n",
       "      <td>NaN</td>\n",
       "      <td>NaN</td>\n",
       "      <td>NaN</td>\n",
       "      <td>NaN</td>\n",
       "      <td>NaN</td>\n",
       "      <td>NaN</td>\n",
       "      <td>NaN</td>\n",
       "      <td>NaN</td>\n",
       "      <td>NaN</td>\n",
       "      <td>NaN</td>\n",
       "    </tr>\n",
       "    <tr>\n",
       "      <th>2</th>\n",
       "      <td>rhydonghost7966@alumni.stanford.edu</td>\n",
       "      <td>Rhydon</td>\n",
       "      <td>Ghost</td>\n",
       "      <td>False</td>\n",
       "      <td>M</td>\n",
       "      <td>Bay Area</td>\n",
       "      <td>NaN</td>\n",
       "      <td>USA</td>\n",
       "      <td>MBA</td>\n",
       "      <td>NaN</td>\n",
       "      <td>NaN</td>\n",
       "      <td>NaN</td>\n",
       "      <td>NaN</td>\n",
       "      <td>NaN</td>\n",
       "      <td>NaN</td>\n",
       "      <td>NaN</td>\n",
       "      <td>NaN</td>\n",
       "      <td>NaN</td>\n",
       "      <td>NaN</td>\n",
       "      <td>NaN</td>\n",
       "      <td>NaN</td>\n",
       "      <td>NaN</td>\n",
       "      <td>NaN</td>\n",
       "      <td>NaN</td>\n",
       "      <td>NaN</td>\n",
       "      <td>NaN</td>\n",
       "      <td>NaN</td>\n",
       "      <td>NaN</td>\n",
       "    </tr>\n",
       "    <tr>\n",
       "      <th>3</th>\n",
       "      <td>porygong9247@stanfordalumni.org</td>\n",
       "      <td>Porygon</td>\n",
       "      <td>Grass</td>\n",
       "      <td>False</td>\n",
       "      <td>M</td>\n",
       "      <td>Bay Area</td>\n",
       "      <td>NaN</td>\n",
       "      <td>Japan</td>\n",
       "      <td>MS</td>\n",
       "      <td>NaN</td>\n",
       "      <td>NaN</td>\n",
       "      <td>NaN</td>\n",
       "      <td>NaN</td>\n",
       "      <td>NaN</td>\n",
       "      <td>NaN</td>\n",
       "      <td>NaN</td>\n",
       "      <td>NaN</td>\n",
       "      <td>NaN</td>\n",
       "      <td>NaN</td>\n",
       "      <td>NaN</td>\n",
       "      <td>NaN</td>\n",
       "      <td>NaN</td>\n",
       "      <td>NaN</td>\n",
       "      <td>NaN</td>\n",
       "      <td>NaN</td>\n",
       "      <td>NaN</td>\n",
       "      <td>NaN</td>\n",
       "      <td>NaN</td>\n",
       "    </tr>\n",
       "    <tr>\n",
       "      <th>4</th>\n",
       "      <td>tangelagrass1376@gmail.com</td>\n",
       "      <td>Tangela</td>\n",
       "      <td>Grass</td>\n",
       "      <td>False</td>\n",
       "      <td>NaN</td>\n",
       "      <td>New England</td>\n",
       "      <td>NaN</td>\n",
       "      <td>United States</td>\n",
       "      <td></td>\n",
       "      <td>NaN</td>\n",
       "      <td>NaN</td>\n",
       "      <td>NaN</td>\n",
       "      <td>NaN</td>\n",
       "      <td>NaN</td>\n",
       "      <td>NaN</td>\n",
       "      <td>NaN</td>\n",
       "      <td>NaN</td>\n",
       "      <td>NaN</td>\n",
       "      <td>NaN</td>\n",
       "      <td>NaN</td>\n",
       "      <td>NaN</td>\n",
       "      <td>NaN</td>\n",
       "      <td>NaN</td>\n",
       "      <td>NaN</td>\n",
       "      <td>NaN</td>\n",
       "      <td>NaN</td>\n",
       "      <td>NaN</td>\n",
       "      <td>NaN</td>\n",
       "    </tr>\n",
       "    <tr>\n",
       "      <th>5</th>\n",
       "      <td>c.electric7518@gmail.com</td>\n",
       "      <td>Chansey</td>\n",
       "      <td>Steel</td>\n",
       "      <td>True</td>\n",
       "      <td>F</td>\n",
       "      <td>Other US</td>\n",
       "      <td>NaN</td>\n",
       "      <td>USA</td>\n",
       "      <td>NaN</td>\n",
       "      <td>NaN</td>\n",
       "      <td>NaN</td>\n",
       "      <td>NaN</td>\n",
       "      <td>NaN</td>\n",
       "      <td>NaN</td>\n",
       "      <td>NaN</td>\n",
       "      <td>NaN</td>\n",
       "      <td>NaN</td>\n",
       "      <td>NaN</td>\n",
       "      <td>NaN</td>\n",
       "      <td>NaN</td>\n",
       "      <td>NaN</td>\n",
       "      <td>NaN</td>\n",
       "      <td>NaN</td>\n",
       "      <td>NaN</td>\n",
       "      <td>NaN</td>\n",
       "      <td>NaN</td>\n",
       "      <td>NaN</td>\n",
       "      <td>NaN</td>\n",
       "    </tr>\n",
       "    <tr>\n",
       "      <th>6</th>\n",
       "      <td>blissey.ghost4154@gmail.com</td>\n",
       "      <td>Blissey</td>\n",
       "      <td>Ghost</td>\n",
       "      <td>False</td>\n",
       "      <td>M</td>\n",
       "      <td>New England</td>\n",
       "      <td>NaN</td>\n",
       "      <td>Macao Special Administrative Region of China</td>\n",
       "      <td></td>\n",
       "      <td>NaN</td>\n",
       "      <td>NaN</td>\n",
       "      <td>NaN</td>\n",
       "      <td>NaN</td>\n",
       "      <td>NaN</td>\n",
       "      <td>NaN</td>\n",
       "      <td>NaN</td>\n",
       "      <td>NaN</td>\n",
       "      <td>NaN</td>\n",
       "      <td>NaN</td>\n",
       "      <td>NaN</td>\n",
       "      <td>NaN</td>\n",
       "      <td>NaN</td>\n",
       "      <td>NaN</td>\n",
       "      <td>NaN</td>\n",
       "      <td>NaN</td>\n",
       "      <td>NaN</td>\n",
       "      <td>NaN</td>\n",
       "      <td>NaN</td>\n",
       "    </tr>\n",
       "  </tbody>\n",
       "</table>\n",
       "</div>"
      ],
      "text/plain": [
       "                         Email Address First Name Last Name Board Member  \\\n",
       "0         slakoth.normal3945@gmail.com    Slakoth    Normal        False   \n",
       "1                 e.rock7454@gmail.com     Espeon      Rock         True   \n",
       "2  rhydonghost7966@alumni.stanford.edu     Rhydon     Ghost        False   \n",
       "3      porygong9247@stanfordalumni.org    Porygon     Grass        False   \n",
       "4           tangelagrass1376@gmail.com    Tangela     Grass        False   \n",
       "5             c.electric7518@gmail.com    Chansey     Steel         True   \n",
       "6          blissey.ghost4154@gmail.com    Blissey     Ghost        False   \n",
       "\n",
       "  Gender      Chapter Reunion Year  \\\n",
       "0    NaN        Texas          NaN   \n",
       "1      F      DC Area          NaN   \n",
       "2      M     Bay Area          NaN   \n",
       "3      M     Bay Area          NaN   \n",
       "4    NaN  New England          NaN   \n",
       "5      F     Other US          NaN   \n",
       "6      M  New England          NaN   \n",
       "\n",
       "                                        Country Degree MEMBER_RATING  \\\n",
       "0                                           USA    NaN           NaN   \n",
       "1                                 United States    NaN           NaN   \n",
       "2                                           USA    MBA           NaN   \n",
       "3                                         Japan     MS           NaN   \n",
       "4                                 United States                  NaN   \n",
       "5                                           USA    NaN           NaN   \n",
       "6  Macao Special Administrative Region of China                  NaN   \n",
       "\n",
       "  OPTIN_TIME OPTIN_IP CONFIRM_TIME CONFIRM_IP LATITUDE LONGITUDE GMTOFF  \\\n",
       "0        NaN      NaN          NaN        NaN      NaN       NaN    NaN   \n",
       "1        NaN      NaN          NaN        NaN      NaN       NaN    NaN   \n",
       "2        NaN      NaN          NaN        NaN      NaN       NaN    NaN   \n",
       "3        NaN      NaN          NaN        NaN      NaN       NaN    NaN   \n",
       "4        NaN      NaN          NaN        NaN      NaN       NaN    NaN   \n",
       "5        NaN      NaN          NaN        NaN      NaN       NaN    NaN   \n",
       "6        NaN      NaN          NaN        NaN      NaN       NaN    NaN   \n",
       "\n",
       "  DSTOFF TIMEZONE   CC REGION CLEAN_TIME CLEAN_CAMPAIGN_TITLE  \\\n",
       "0    NaN      NaN  NaN    NaN        NaN                  NaN   \n",
       "1    NaN      NaN  NaN    NaN        NaN                  NaN   \n",
       "2    NaN      NaN  NaN    NaN        NaN                  NaN   \n",
       "3    NaN      NaN  NaN    NaN        NaN                  NaN   \n",
       "4    NaN      NaN  NaN    NaN        NaN                  NaN   \n",
       "5    NaN      NaN  NaN    NaN        NaN                  NaN   \n",
       "6    NaN      NaN  NaN    NaN        NaN                  NaN   \n",
       "\n",
       "  CLEAN_CAMPAIGN_ID LEID EUID NOTES TAGS  \n",
       "0               NaN  NaN  NaN   NaN  NaN  \n",
       "1               NaN  NaN  NaN   NaN  NaN  \n",
       "2               NaN  NaN  NaN   NaN  NaN  \n",
       "3               NaN  NaN  NaN   NaN  NaN  \n",
       "4               NaN  NaN  NaN   NaN  NaN  \n",
       "5               NaN  NaN  NaN   NaN  NaN  \n",
       "6               NaN  NaN  NaN   NaN  NaN  "
      ]
     },
     "execution_count": 33,
     "metadata": {},
     "output_type": "execute_result"
    }
   ],
   "source": [
    "df_mc"
   ]
  },
  {
   "cell_type": "code",
   "execution_count": 34,
   "id": "40c24221",
   "metadata": {
    "ExecuteTime": {
     "end_time": "2022-06-23T14:03:56.688269Z",
     "start_time": "2022-06-23T14:03:56.673278Z"
    },
    "pycharm": {
     "name": "#%%\n"
    }
   },
   "outputs": [],
   "source": [
    "df_mc.to_csv('data/Fake_MailChimp_cleaned_Pokemon.csv',index=False)"
   ]
  }
 ],
 "metadata": {
  "kernelspec": {
   "display_name": "tfGPU",
   "language": "python",
   "name": "tfgpu"
  },
  "language_info": {
   "codemirror_mode": {
    "name": "ipython",
    "version": 3
   },
   "file_extension": ".py",
   "mimetype": "text/x-python",
   "name": "python",
   "nbconvert_exporter": "python",
   "pygments_lexer": "ipython3",
   "version": "3.9.12"
  },
  "toc": {
   "base_numbering": 1,
   "nav_menu": {},
   "number_sections": true,
   "sideBar": true,
   "skip_h1_title": false,
   "title_cell": "Table of Contents",
   "title_sidebar": "Contents",
   "toc_cell": false,
   "toc_position": {},
   "toc_section_display": true,
   "toc_window_display": false
  },
  "varInspector": {
   "cols": {
    "lenName": 16,
    "lenType": 16,
    "lenVar": 40
   },
   "kernels_config": {
    "python": {
     "delete_cmd_postfix": "",
     "delete_cmd_prefix": "del ",
     "library": "var_list.py",
     "varRefreshCmd": "print(var_dic_list())"
    },
    "r": {
     "delete_cmd_postfix": ") ",
     "delete_cmd_prefix": "rm(",
     "library": "var_list.r",
     "varRefreshCmd": "cat(var_dic_list()) "
    }
   },
   "position": {
    "height": "573.844px",
    "left": "1315px",
    "right": "20px",
    "top": "120px",
    "width": "585px"
   },
   "types_to_exclude": [
    "module",
    "function",
    "builtin_function_or_method",
    "instance",
    "_Feature"
   ],
   "window_display": false
  }
 },
 "nbformat": 4,
 "nbformat_minor": 5
}