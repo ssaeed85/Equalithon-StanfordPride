{
 "cells": [
  {
   "cell_type": "code",
   "execution_count": 135,
   "id": "a07ae1e3",
   "metadata": {
    "ExecuteTime": {
     "end_time": "2022-06-22T03:15:04.964894Z",
     "start_time": "2022-06-22T03:15:04.946887Z"
    }
   },
   "outputs": [],
   "source": [
    "import pandas as pd\n",
    "import numpy as np\n",
    "import random \n",
    "np.random.seed = 42\n",
    "random.seed(42)\n",
    "\n",
    "pd.set_option('display.max_columns', None)\n",
    "pd.set_option('display.min_rows', 100)\n",
    "num_ofDesiredRecords = 100"
   ]
  },
  {
   "cell_type": "code",
   "execution_count": 136,
   "id": "fa5c4830",
   "metadata": {
    "ExecuteTime": {
     "end_time": "2022-06-22T03:15:05.139043Z",
     "start_time": "2022-06-22T03:15:05.126039Z"
    }
   },
   "outputs": [],
   "source": [
    "def createRandomPhoneNumber_SAA():\n",
    "    range_start = 10**9\n",
    "    range_end = 10**10 -1\n",
    "    num = str(random.randint(range_start,range_end))\n",
    "    num_str = \"{0} {1}-{2}\".format(num[:3], num[3:7],num[7:])\n",
    "    return num_str"
   ]
  },
  {
   "cell_type": "code",
   "execution_count": 137,
   "id": "d171f891",
   "metadata": {
    "ExecuteTime": {
     "end_time": "2022-06-22T03:15:05.309998Z",
     "start_time": "2022-06-22T03:15:05.296527Z"
    }
   },
   "outputs": [],
   "source": [
    "def createRandomEmail(record,domainList=['@gmail.com','@stanfordalumni.org','@alumni.stanford.edu']):\n",
    "    domain = random.choice(domainList)\n",
    "    fName = record['first_name'].strip().lower()\n",
    "    LName = record['last_name'].strip().lower()\n",
    "    formats = []\n",
    "    \n",
    "    #Example: John Doe 123\n",
    "    formats.append(fName[0]+LName+str(random.randint(10,9999))) #jdoe123\n",
    "    formats.append(fName+LName+str(random.randint(10,9999))) #johndoe123\n",
    "    formats.append(fName+LName[0]+str(random.randint(10,9999))) #johnd123\n",
    "    formats.append(fName[0]+'.'+LName+str(random.randint(10,9999))) #j.doe123\n",
    "    formats.append(fName+'.'+LName+str(random.randint(10,9999))) #john.doe123\n",
    "    \n",
    "    return random.choice(formats)+domain"
   ]
  },
  {
   "cell_type": "code",
   "execution_count": 138,
   "id": "7e895867",
   "metadata": {
    "ExecuteTime": {
     "end_time": "2022-06-22T03:15:05.481847Z",
     "start_time": "2022-06-22T03:15:05.468843Z"
    }
   },
   "outputs": [],
   "source": [
    "def createDegreeString_SAA():\n",
    "    degree_list = ['MS','MA','MBA','MD','PhD','BA','BS','JD','']\n",
    "    degree_years = \"'\" + str(random.randint(80,99))\n",
    "    degree = random.choice(degree_list) + ' ' + degree_years\n",
    "    return degree.strip()"
   ]
  },
  {
   "cell_type": "code",
   "execution_count": 139,
   "id": "f0f4f011",
   "metadata": {
    "ExecuteTime": {
     "end_time": "2022-06-22T03:15:06.353856Z",
     "start_time": "2022-06-22T03:15:06.346855Z"
    }
   },
   "outputs": [],
   "source": [
    "common_male_Fnames = [\n",
    "    'Liam',\n",
    "    'Noah',\n",
    "    'Oliver',\n",
    "    'Elijah',\n",
    "    'James',\n",
    "    'William',\n",
    "    'Benjamin',\n",
    "    'Lucas',\n",
    "    'Henry',\n",
    "    'Theodore',\n",
    "]"
   ]
  },
  {
   "cell_type": "code",
   "execution_count": 140,
   "id": "61bc0277",
   "metadata": {
    "ExecuteTime": {
     "end_time": "2022-06-22T03:15:06.542866Z",
     "start_time": "2022-06-22T03:15:06.527854Z"
    }
   },
   "outputs": [],
   "source": [
    "common_female_Fnames = [\n",
    "    'Mary',\n",
    "    'Patricia',\n",
    "    'Jennifer',\n",
    "    'Linda',\n",
    "    'Elizabeth',\n",
    "    'Barbara',\n",
    "    'Susan',\n",
    "    'Jessica',\n",
    "    'Sarah',\n",
    "    'Karen',\n",
    "]"
   ]
  },
  {
   "cell_type": "code",
   "execution_count": 141,
   "id": "559ed8b4",
   "metadata": {
    "ExecuteTime": {
     "end_time": "2022-06-22T03:15:06.716758Z",
     "start_time": "2022-06-22T03:15:06.702034Z"
    }
   },
   "outputs": [],
   "source": [
    "city = ['Chicago', 'Boston',  'Madrid', 'Tokyo', 'Seoul', 'London','Beijing','Shanghai','Dubai','*',np.nan,'']\n",
    "state = ['NY', 'WA', 'TX','CA','NM','*',np.nan,'']\n",
    "country = ['Japan', 'United States', 'USA', 'China', 'UAE', 'Kuwait','*',np.nan,'']"
   ]
  },
  {
   "cell_type": "code",
   "execution_count": 142,
   "id": "fb4b445a",
   "metadata": {
    "ExecuteTime": {
     "end_time": "2022-06-22T03:15:06.888337Z",
     "start_time": "2022-06-22T03:15:06.877812Z"
    }
   },
   "outputs": [],
   "source": [
    "common_FNames = []\n",
    "common_FNames.extend(common_female_Fnames)\n",
    "common_FNames.extend(common_male_Fnames)"
   ]
  },
  {
   "cell_type": "code",
   "execution_count": 143,
   "id": "17c9a7d5",
   "metadata": {
    "ExecuteTime": {
     "end_time": "2022-06-22T03:15:08.019607Z",
     "start_time": "2022-06-22T03:15:08.002603Z"
    }
   },
   "outputs": [],
   "source": [
    "common_LNames = ['Smith',\n",
    "'Johnson',\n",
    "'Williams',\n",
    "'Brown',\n",
    "'Jones',\n",
    "'Garcia',\n",
    "'Miller',\n",
    "'Davis',\n",
    "'Rodriguez',\n",
    "'Martinez',]"
   ]
  },
  {
   "cell_type": "code",
   "execution_count": 144,
   "id": "cbf66d5f",
   "metadata": {
    "ExecuteTime": {
     "end_time": "2022-06-22T03:15:09.814045Z",
     "start_time": "2022-06-22T03:15:09.780038Z"
    }
   },
   "outputs": [
    {
     "name": "stderr",
     "output_type": "stream",
     "text": [
      "C:\\Users\\saads\\AppData\\Local\\Temp\\ipykernel_10524\\2961325751.py:1: FutureWarning: The frame.append method is deprecated and will be removed from pandas in a future version. Use pandas.concat instead.\n",
      "  df_SAA = pd.read_excel(\"./data/SAA Pride member reports headings.xlsx\").append([np.nan]*num_ofDesiredRecords)\n"
     ]
    }
   ],
   "source": [
    "df_SAA = pd.read_excel(\"./data/SAA Pride member reports headings.xlsx\").append([np.nan]*num_ofDesiredRecords)"
   ]
  },
  {
   "cell_type": "code",
   "execution_count": 145,
   "id": "de6d2f4f",
   "metadata": {
    "ExecuteTime": {
     "end_time": "2022-06-22T03:15:10.284420Z",
     "start_time": "2022-06-22T03:15:10.266418Z"
    }
   },
   "outputs": [],
   "source": [
    "__  = []\n",
    "for _ in range(0,num_ofDesiredRecords):\n",
    "    __.append(random.choice(common_FNames))\n",
    "    \n",
    "df_SAA.first_name = __"
   ]
  },
  {
   "cell_type": "code",
   "execution_count": 146,
   "id": "6ee49180",
   "metadata": {
    "ExecuteTime": {
     "end_time": "2022-06-22T03:15:10.454825Z",
     "start_time": "2022-06-22T03:15:10.446825Z"
    }
   },
   "outputs": [],
   "source": [
    "__  = []\n",
    "for _ in range(0,num_ofDesiredRecords):\n",
    "    __.append(random.choice(common_LNames))\n",
    "    \n",
    "df_SAA.last_name = __"
   ]
  },
  {
   "cell_type": "code",
   "execution_count": 147,
   "id": "18ab131c",
   "metadata": {
    "ExecuteTime": {
     "end_time": "2022-06-22T03:15:10.628858Z",
     "start_time": "2022-06-22T03:15:10.613851Z"
    }
   },
   "outputs": [],
   "source": [
    "__  = []\n",
    "for _ in range(0,num_ofDesiredRecords):\n",
    "    __.append(random.choices([createRandomPhoneNumber_SAA(),'*',np.nan],weights=(1,5,5))[0])\n",
    "    \n",
    "df_SAA.home_phone_number = __"
   ]
  },
  {
   "cell_type": "code",
   "execution_count": 148,
   "id": "dce783f6",
   "metadata": {
    "ExecuteTime": {
     "end_time": "2022-06-22T03:15:10.799807Z",
     "start_time": "2022-06-22T03:15:10.784838Z"
    }
   },
   "outputs": [],
   "source": [
    "__  = []\n",
    "for _ in range(0,num_ofDesiredRecords):\n",
    "    __.append(random.choice(['*',np.nan,createRandomEmail(df_SAA.iloc[_])]))\n",
    "    \n",
    "df_SAA.home_email_address = __"
   ]
  },
  {
   "cell_type": "code",
   "execution_count": 149,
   "id": "5cb2efb2",
   "metadata": {
    "ExecuteTime": {
     "end_time": "2022-06-22T03:15:12.046015Z",
     "start_time": "2022-06-22T03:15:12.035013Z"
    }
   },
   "outputs": [],
   "source": [
    "__  = []\n",
    "for _ in range(0,num_ofDesiredRecords):\n",
    "    __.append(random.choice(['*',np.nan,createRandomEmail(df_SAA.iloc[_],['@stanfordalumni.org','@alumni.stanford.edu'])]))\n",
    "    \n",
    "df_SAA.saa_email_address = __"
   ]
  },
  {
   "cell_type": "code",
   "execution_count": 150,
   "id": "d944b6c3",
   "metadata": {
    "ExecuteTime": {
     "end_time": "2022-06-22T03:15:12.216314Z",
     "start_time": "2022-06-22T03:15:12.203310Z"
    }
   },
   "outputs": [],
   "source": [
    "__  = []\n",
    "for _ in range(0,num_ofDesiredRecords):\n",
    "    __.append(random.choices([createRandomEmail(df_SAA.iloc[_]),np.nan],weights=(1, 50))[0])\n",
    "    \n",
    "df_SAA.gsb_email_address = __"
   ]
  },
  {
   "cell_type": "code",
   "execution_count": 151,
   "id": "0095a481",
   "metadata": {
    "ExecuteTime": {
     "end_time": "2022-06-22T03:15:12.388085Z",
     "start_time": "2022-06-22T03:15:12.373069Z"
    }
   },
   "outputs": [],
   "source": [
    "__  = []\n",
    "for _ in range(0,num_ofDesiredRecords):\n",
    "    __.append(random.choices([createRandomEmail(df_SAA.iloc[_]),np.nan],weights=(1, 10))[0])\n",
    "    \n",
    "df_SAA.bus_email_address = __"
   ]
  },
  {
   "cell_type": "code",
   "execution_count": 152,
   "id": "71975852",
   "metadata": {
    "ExecuteTime": {
     "end_time": "2022-06-22T03:15:12.560964Z",
     "start_time": "2022-06-22T03:15:12.546955Z"
    }
   },
   "outputs": [],
   "source": [
    "__  = []\n",
    "for _ in range(0,num_ofDesiredRecords):\n",
    "    __.append(random.choice(city))\n",
    "    \n",
    "df_SAA.home_city = __"
   ]
  },
  {
   "cell_type": "code",
   "execution_count": 153,
   "id": "5d07dd7c",
   "metadata": {
    "ExecuteTime": {
     "end_time": "2022-06-22T03:15:13.476882Z",
     "start_time": "2022-06-22T03:15:13.466880Z"
    }
   },
   "outputs": [],
   "source": [
    "__  = []\n",
    "for _ in range(0,num_ofDesiredRecords):\n",
    "    __.append(random.choice(country))\n",
    "    \n",
    "df_SAA.home_country = __"
   ]
  },
  {
   "cell_type": "code",
   "execution_count": 154,
   "id": "e5f66f0d",
   "metadata": {
    "ExecuteTime": {
     "end_time": "2022-06-22T03:15:13.665846Z",
     "start_time": "2022-06-22T03:15:13.650842Z"
    }
   },
   "outputs": [],
   "source": [
    "__  = []\n",
    "for _ in range(0,num_ofDesiredRecords):\n",
    "    __.append(random.choice(country))\n",
    "    \n",
    "df_SAA.bus_country = __"
   ]
  },
  {
   "cell_type": "code",
   "execution_count": 155,
   "id": "48f60e20",
   "metadata": {
    "ExecuteTime": {
     "end_time": "2022-06-22T03:15:14.902787Z",
     "start_time": "2022-06-22T03:15:14.891784Z"
    }
   },
   "outputs": [],
   "source": [
    "state = {'Chicago': 'IL', \n",
    "           'Boston': 'MA', \n",
    "           'New York' : 'NY', \n",
    "           'San Francisco': 'CA', \n",
    "           'Los Angeles' : 'CA', \n",
    "           'Austin' : 'TX',\n",
    "        'Dallas': 'TX',\n",
    "        'Denver': 'CO',\n",
    "        '':'',\n",
    "        '*':'*'}\n",
    "\n",
    "df_SAA.home_state_code = df_SAA['home_city'].map(state)"
   ]
  },
  {
   "cell_type": "code",
   "execution_count": 156,
   "id": "000a379f",
   "metadata": {
    "ExecuteTime": {
     "end_time": "2022-06-22T03:15:15.352446Z",
     "start_time": "2022-06-22T03:15:15.346446Z"
    }
   },
   "outputs": [],
   "source": [
    "__  = []\n",
    "for _ in range(0,num_ofDesiredRecords):\n",
    "    __.append(random.choice(['',np.nan,random.randint(1990, 2018)]))\n",
    "    \n",
    "df_SAA.pref_class_year = __\n"
   ]
  },
  {
   "cell_type": "code",
   "execution_count": 157,
   "id": "1dfd755c",
   "metadata": {
    "ExecuteTime": {
     "end_time": "2022-06-22T03:15:16.696004Z",
     "start_time": "2022-06-22T03:15:16.683001Z"
    }
   },
   "outputs": [],
   "source": [
    "degrees = []\n",
    "for i in range(0,num_ofDesiredRecords):\n",
    "    num_draw = random.randint(0,3)\n",
    "    degree = np.NaN\n",
    "    k=0\n",
    "    while k < num_draw:\n",
    "        if k == 0:\n",
    "            degree = createDegreeString_SAA()\n",
    "        else:\n",
    "            degree = degree +', '+ createDegreeString_SAA()\n",
    "        k+=1\n",
    "    degrees.append(degree)\n",
    "    \n",
    "df_SAA.short_degree_string = degrees"
   ]
  },
  {
   "cell_type": "code",
   "execution_count": 27,
   "id": "72b494e9",
   "metadata": {
    "ExecuteTime": {
     "end_time": "2022-06-21T03:34:46.337635Z",
     "start_time": "2022-06-21T03:34:46.283497Z"
    }
   },
   "outputs": [],
   "source": [
    "# df_SAA.to_excel('data/SAA_FakeDB.xlsx',index = False)"
   ]
  },
  {
   "cell_type": "markdown",
   "id": "b2d63252",
   "metadata": {},
   "source": [
    "# Making mail chimp records"
   ]
  },
  {
   "cell_type": "code",
   "execution_count": 179,
   "id": "fa712b8c",
   "metadata": {
    "ExecuteTime": {
     "end_time": "2022-06-22T03:42:15.667886Z",
     "start_time": "2022-06-22T03:42:15.649882Z"
    }
   },
   "outputs": [
    {
     "data": {
      "text/html": [
       "<div>\n",
       "<style scoped>\n",
       "    .dataframe tbody tr th:only-of-type {\n",
       "        vertical-align: middle;\n",
       "    }\n",
       "\n",
       "    .dataframe tbody tr th {\n",
       "        vertical-align: top;\n",
       "    }\n",
       "\n",
       "    .dataframe thead th {\n",
       "        text-align: right;\n",
       "    }\n",
       "</style>\n",
       "<table border=\"1\" class=\"dataframe\">\n",
       "  <thead>\n",
       "    <tr style=\"text-align: right;\">\n",
       "      <th></th>\n",
       "      <th>Email Address</th>\n",
       "      <th>First Name</th>\n",
       "      <th>Last Name</th>\n",
       "      <th>Board Member</th>\n",
       "      <th>Gender</th>\n",
       "      <th>Chapter</th>\n",
       "      <th>Reunion Year</th>\n",
       "      <th>Country</th>\n",
       "      <th>Degree</th>\n",
       "      <th>MEMBER_RATING</th>\n",
       "      <th>OPTIN_TIME</th>\n",
       "      <th>OPTIN_IP</th>\n",
       "      <th>CONFIRM_TIME</th>\n",
       "      <th>CONFIRM_IP</th>\n",
       "      <th>LATITUDE</th>\n",
       "      <th>LONGITUDE</th>\n",
       "      <th>GMTOFF</th>\n",
       "      <th>DSTOFF</th>\n",
       "      <th>TIMEZONE</th>\n",
       "      <th>CC</th>\n",
       "      <th>REGION</th>\n",
       "      <th>CLEAN_TIME</th>\n",
       "      <th>CLEAN_CAMPAIGN_TITLE</th>\n",
       "      <th>CLEAN_CAMPAIGN_ID</th>\n",
       "      <th>LEID</th>\n",
       "      <th>EUID</th>\n",
       "      <th>NOTES</th>\n",
       "      <th>TAGS</th>\n",
       "    </tr>\n",
       "  </thead>\n",
       "  <tbody>\n",
       "  </tbody>\n",
       "</table>\n",
       "</div>"
      ],
      "text/plain": [
       "Empty DataFrame\n",
       "Columns: [Email Address, First Name, Last Name, Board Member, Gender, Chapter, Reunion Year, Country, Degree, MEMBER_RATING, OPTIN_TIME, OPTIN_IP, CONFIRM_TIME, CONFIRM_IP, LATITUDE, LONGITUDE, GMTOFF, DSTOFF, TIMEZONE, CC, REGION, CLEAN_TIME, CLEAN_CAMPAIGN_TITLE, CLEAN_CAMPAIGN_ID, LEID, EUID, NOTES, TAGS]\n",
       "Index: []"
      ]
     },
     "execution_count": 179,
     "metadata": {},
     "output_type": "execute_result"
    }
   ],
   "source": [
    "df_mc = pd.read_csv('data/MailChimp cleaned records headers.csv')\n",
    "df_mc"
   ]
  },
  {
   "cell_type": "code",
   "execution_count": 180,
   "id": "97cce526",
   "metadata": {
    "ExecuteTime": {
     "end_time": "2022-06-22T03:42:15.682889Z",
     "start_time": "2022-06-22T03:42:15.668886Z"
    },
    "scrolled": false
   },
   "outputs": [
    {
     "name": "stderr",
     "output_type": "stream",
     "text": [
      "C:\\Users\\saads\\AppData\\Local\\Temp\\ipykernel_10524\\705722782.py:1: FutureWarning: The frame.append method is deprecated and will be removed from pandas in a future version. Use pandas.concat instead.\n",
      "  df_mc = df_mc.append([np.nan]*5)\n"
     ]
    }
   ],
   "source": [
    "df_mc = df_mc.append([np.nan]*5)"
   ]
  },
  {
   "cell_type": "code",
   "execution_count": 181,
   "id": "8d8e7b13",
   "metadata": {
    "ExecuteTime": {
     "end_time": "2022-06-22T03:42:15.697893Z",
     "start_time": "2022-06-22T03:42:15.683890Z"
    }
   },
   "outputs": [
    {
     "data": {
      "text/html": [
       "<div>\n",
       "<style scoped>\n",
       "    .dataframe tbody tr th:only-of-type {\n",
       "        vertical-align: middle;\n",
       "    }\n",
       "\n",
       "    .dataframe tbody tr th {\n",
       "        vertical-align: top;\n",
       "    }\n",
       "\n",
       "    .dataframe thead th {\n",
       "        text-align: right;\n",
       "    }\n",
       "</style>\n",
       "<table border=\"1\" class=\"dataframe\">\n",
       "  <thead>\n",
       "    <tr style=\"text-align: right;\">\n",
       "      <th></th>\n",
       "      <th>pref_mail_name</th>\n",
       "      <th>pref_class_year</th>\n",
       "      <th>home_city</th>\n",
       "      <th>home_state_code</th>\n",
       "      <th>home_country</th>\n",
       "      <th>home_phone_area_code</th>\n",
       "      <th>home_phone_number</th>\n",
       "      <th>home_email_address</th>\n",
       "      <th>bus_city</th>\n",
       "      <th>bus_state_code</th>\n",
       "      <th>bus_country</th>\n",
       "      <th>bus_phone_area_code</th>\n",
       "      <th>bus_phone_number</th>\n",
       "      <th>bus_email_address</th>\n",
       "      <th>first_name</th>\n",
       "      <th>last_name</th>\n",
       "      <th>pref_name_sort</th>\n",
       "      <th>email_switch</th>\n",
       "      <th>saa_email_address</th>\n",
       "      <th>gsb_email_address</th>\n",
       "      <th>other_email_address</th>\n",
       "      <th>pref_phone_area_code</th>\n",
       "      <th>pref_phone_number</th>\n",
       "      <th>pref_phone_addr_type</th>\n",
       "      <th>memb_status_desc</th>\n",
       "      <th>short_degree_string</th>\n",
       "      <th>parent_degree_string</th>\n",
       "      <th>short_degree_string_spouse</th>\n",
       "      <th>parent_degree_string_spouse</th>\n",
       "      <th>primary_sort_name</th>\n",
       "      <th>plan_name</th>\n",
       "      <th>primary_ind</th>\n",
       "      <th>0</th>\n",
       "    </tr>\n",
       "  </thead>\n",
       "  <tbody>\n",
       "    <tr>\n",
       "      <th>28</th>\n",
       "      <td>NaN</td>\n",
       "      <td>2003.0</td>\n",
       "      <td>Dubai</td>\n",
       "      <td>NaN</td>\n",
       "      <td>*</td>\n",
       "      <td>NaN</td>\n",
       "      <td>NaN</td>\n",
       "      <td>barbara.smith9669@gmail.com</td>\n",
       "      <td>NaN</td>\n",
       "      <td>NaN</td>\n",
       "      <td>Japan</td>\n",
       "      <td>NaN</td>\n",
       "      <td>NaN</td>\n",
       "      <td>NaN</td>\n",
       "      <td>Barbara</td>\n",
       "      <td>Smith</td>\n",
       "      <td>NaN</td>\n",
       "      <td>NaN</td>\n",
       "      <td>b.smith5277@stanfordalumni.org</td>\n",
       "      <td>NaN</td>\n",
       "      <td>NaN</td>\n",
       "      <td>NaN</td>\n",
       "      <td>NaN</td>\n",
       "      <td>NaN</td>\n",
       "      <td>NaN</td>\n",
       "      <td>NaN</td>\n",
       "      <td>NaN</td>\n",
       "      <td>NaN</td>\n",
       "      <td>NaN</td>\n",
       "      <td>NaN</td>\n",
       "      <td>NaN</td>\n",
       "      <td>NaN</td>\n",
       "      <td>NaN</td>\n",
       "    </tr>\n",
       "    <tr>\n",
       "      <th>66</th>\n",
       "      <td>NaN</td>\n",
       "      <td>NaN</td>\n",
       "      <td>Boston</td>\n",
       "      <td>MA</td>\n",
       "      <td>NaN</td>\n",
       "      <td>NaN</td>\n",
       "      <td>NaN</td>\n",
       "      <td>NaN</td>\n",
       "      <td>NaN</td>\n",
       "      <td>NaN</td>\n",
       "      <td>Kuwait</td>\n",
       "      <td>NaN</td>\n",
       "      <td>NaN</td>\n",
       "      <td>bjohnson6108@stanfordalumni.org</td>\n",
       "      <td>Barbara</td>\n",
       "      <td>Johnson</td>\n",
       "      <td>NaN</td>\n",
       "      <td>NaN</td>\n",
       "      <td>*</td>\n",
       "      <td>barbaraj9242@gmail.com</td>\n",
       "      <td>NaN</td>\n",
       "      <td>NaN</td>\n",
       "      <td>NaN</td>\n",
       "      <td>NaN</td>\n",
       "      <td>NaN</td>\n",
       "      <td>'93</td>\n",
       "      <td>NaN</td>\n",
       "      <td>NaN</td>\n",
       "      <td>NaN</td>\n",
       "      <td>NaN</td>\n",
       "      <td>NaN</td>\n",
       "      <td>NaN</td>\n",
       "      <td>NaN</td>\n",
       "    </tr>\n",
       "    <tr>\n",
       "      <th>73</th>\n",
       "      <td>NaN</td>\n",
       "      <td>1991.0</td>\n",
       "      <td>Dubai</td>\n",
       "      <td>NaN</td>\n",
       "      <td>USA</td>\n",
       "      <td>NaN</td>\n",
       "      <td>*</td>\n",
       "      <td>brodriguez369@stanfordalumni.org</td>\n",
       "      <td>NaN</td>\n",
       "      <td>NaN</td>\n",
       "      <td>United States</td>\n",
       "      <td>NaN</td>\n",
       "      <td>NaN</td>\n",
       "      <td>NaN</td>\n",
       "      <td>Barbara</td>\n",
       "      <td>Rodriguez</td>\n",
       "      <td>NaN</td>\n",
       "      <td>NaN</td>\n",
       "      <td>barbara.rodriguez5922@stanfordalumni.org</td>\n",
       "      <td>brodriguez2537@alumni.stanford.edu</td>\n",
       "      <td>NaN</td>\n",
       "      <td>NaN</td>\n",
       "      <td>NaN</td>\n",
       "      <td>NaN</td>\n",
       "      <td>NaN</td>\n",
       "      <td>NaN</td>\n",
       "      <td>NaN</td>\n",
       "      <td>NaN</td>\n",
       "      <td>NaN</td>\n",
       "      <td>NaN</td>\n",
       "      <td>NaN</td>\n",
       "      <td>NaN</td>\n",
       "      <td>NaN</td>\n",
       "    </tr>\n",
       "    <tr>\n",
       "      <th>76</th>\n",
       "      <td>NaN</td>\n",
       "      <td>NaN</td>\n",
       "      <td>NaN</td>\n",
       "      <td>NaN</td>\n",
       "      <td>UAE</td>\n",
       "      <td>NaN</td>\n",
       "      <td>NaN</td>\n",
       "      <td>*</td>\n",
       "      <td>NaN</td>\n",
       "      <td>NaN</td>\n",
       "      <td>NaN</td>\n",
       "      <td>NaN</td>\n",
       "      <td>NaN</td>\n",
       "      <td>NaN</td>\n",
       "      <td>Barbara</td>\n",
       "      <td>Rodriguez</td>\n",
       "      <td>NaN</td>\n",
       "      <td>NaN</td>\n",
       "      <td>barbara.rodriguez2112@stanfordalumni.org</td>\n",
       "      <td>NaN</td>\n",
       "      <td>NaN</td>\n",
       "      <td>NaN</td>\n",
       "      <td>NaN</td>\n",
       "      <td>NaN</td>\n",
       "      <td>NaN</td>\n",
       "      <td>'97</td>\n",
       "      <td>NaN</td>\n",
       "      <td>NaN</td>\n",
       "      <td>NaN</td>\n",
       "      <td>NaN</td>\n",
       "      <td>NaN</td>\n",
       "      <td>NaN</td>\n",
       "      <td>NaN</td>\n",
       "    </tr>\n",
       "  </tbody>\n",
       "</table>\n",
       "</div>"
      ],
      "text/plain": [
       "    pref_mail_name  pref_class_year home_city home_state_code home_country  \\\n",
       "28             NaN           2003.0     Dubai             NaN            *   \n",
       "66             NaN              NaN    Boston              MA          NaN   \n",
       "73             NaN           1991.0     Dubai             NaN          USA   \n",
       "76             NaN              NaN       NaN             NaN          UAE   \n",
       "\n",
       "    home_phone_area_code home_phone_number                home_email_address  \\\n",
       "28                   NaN               NaN       barbara.smith9669@gmail.com   \n",
       "66                   NaN               NaN                               NaN   \n",
       "73                   NaN                 *  brodriguez369@stanfordalumni.org   \n",
       "76                   NaN               NaN                                 *   \n",
       "\n",
       "    bus_city  bus_state_code    bus_country  bus_phone_area_code  \\\n",
       "28       NaN             NaN          Japan                  NaN   \n",
       "66       NaN             NaN         Kuwait                  NaN   \n",
       "73       NaN             NaN  United States                  NaN   \n",
       "76       NaN             NaN            NaN                  NaN   \n",
       "\n",
       "    bus_phone_number                bus_email_address first_name  last_name  \\\n",
       "28               NaN                              NaN    Barbara      Smith   \n",
       "66               NaN  bjohnson6108@stanfordalumni.org    Barbara    Johnson   \n",
       "73               NaN                              NaN    Barbara  Rodriguez   \n",
       "76               NaN                              NaN    Barbara  Rodriguez   \n",
       "\n",
       "    pref_name_sort  email_switch                         saa_email_address  \\\n",
       "28             NaN           NaN            b.smith5277@stanfordalumni.org   \n",
       "66             NaN           NaN                                         *   \n",
       "73             NaN           NaN  barbara.rodriguez5922@stanfordalumni.org   \n",
       "76             NaN           NaN  barbara.rodriguez2112@stanfordalumni.org   \n",
       "\n",
       "                     gsb_email_address  other_email_address  \\\n",
       "28                                 NaN                  NaN   \n",
       "66              barbaraj9242@gmail.com                  NaN   \n",
       "73  brodriguez2537@alumni.stanford.edu                  NaN   \n",
       "76                                 NaN                  NaN   \n",
       "\n",
       "    pref_phone_area_code  pref_phone_number  pref_phone_addr_type  \\\n",
       "28                   NaN                NaN                   NaN   \n",
       "66                   NaN                NaN                   NaN   \n",
       "73                   NaN                NaN                   NaN   \n",
       "76                   NaN                NaN                   NaN   \n",
       "\n",
       "    memb_status_desc short_degree_string  parent_degree_string  \\\n",
       "28               NaN                 NaN                   NaN   \n",
       "66               NaN                 '93                   NaN   \n",
       "73               NaN                 NaN                   NaN   \n",
       "76               NaN                 '97                   NaN   \n",
       "\n",
       "    short_degree_string_spouse  parent_degree_string_spouse  \\\n",
       "28                         NaN                          NaN   \n",
       "66                         NaN                          NaN   \n",
       "73                         NaN                          NaN   \n",
       "76                         NaN                          NaN   \n",
       "\n",
       "    primary_sort_name  plan_name  primary_ind   0  \n",
       "28                NaN        NaN          NaN NaN  \n",
       "66                NaN        NaN          NaN NaN  \n",
       "73                NaN        NaN          NaN NaN  \n",
       "76                NaN        NaN          NaN NaN  "
      ]
     },
     "execution_count": 181,
     "metadata": {},
     "output_type": "execute_result"
    }
   ],
   "source": [
    "df_SAA[df_SAA.first_name=='Barbara']"
   ]
  },
  {
   "cell_type": "code",
   "execution_count": 182,
   "id": "1ce9bf44",
   "metadata": {
    "ExecuteTime": {
     "end_time": "2022-06-22T03:42:15.712896Z",
     "start_time": "2022-06-22T03:42:15.698893Z"
    }
   },
   "outputs": [],
   "source": [
    "# First record. No major difference other than email\n",
    "rec = df_SAA.loc[73]\n",
    "i = 0\n",
    "df_mc.loc[i,'First Name'] = rec.first_name\n",
    "df_mc.loc[i,'Last Name'] = rec.last_name\n",
    "df_mc.loc[i,'Email Address'] = rec.home_email_address.split('@')[0]+'@gmail.com'\n",
    "df_mc.loc[i,'Country'] = rec.home_country\n",
    "df_mc.loc[i,'Degree'] = random.choice([np.nan,''])\n",
    "\n",
    "df_mc.loc[i,'Board Member'] = random.choice([True,False])\n",
    "df_mc.loc[i,'Gender'] = random.choice(['F','M',np.nan])\n",
    "df_mc.loc[i,'Chapter'] = random.choice(['Other US','Texas','Bay Area','DC Area','New England'])"
   ]
  },
  {
   "cell_type": "code",
   "execution_count": 183,
   "id": "3f20c620",
   "metadata": {
    "ExecuteTime": {
     "end_time": "2022-06-22T03:42:15.728899Z",
     "start_time": "2022-06-22T03:42:15.713896Z"
    }
   },
   "outputs": [],
   "source": [
    "# Second record. Missing all degrees. Country USA. Different email\n",
    "rec = df_SAA.loc[34]\n",
    "i=1\n",
    "\n",
    "df_mc.loc[i,'First Name'] = rec.first_name\n",
    "df_mc.loc[i,'Last Name'] = rec.last_name\n",
    "df_mc.loc[i,'Email Address'] = createRandomEmail(rec)\n",
    "df_mc.loc[i,'Country'] = 'USA'\n",
    "df_mc.loc[i,'Degree'] = random.choice([np.nan,''])\n",
    "\n",
    "df_mc.loc[i,'Board Member'] = random.choice([True,False])\n",
    "df_mc.loc[i,'Gender'] = random.choice(['F','M',np.nan])\n",
    "df_mc.loc[i,'Chapter'] = random.choice(['Other US','Texas','Bay Area','DC Area','New England'])\n",
    "\n",
    "# Third record. Missing 1 degree. Country USA. Different email\n",
    "rec = df_SAA.loc[30]\n",
    "i=2\n",
    "df_mc.loc[i,'First Name'] = rec.first_name\n",
    "df_mc.loc[i,'Last Name'] = rec.last_name\n",
    "df_mc.loc[i,'Email Address'] = 'lindam7966@alumni.stanford.edu'\n",
    "df_mc.loc[i,'Country'] = 'USA'\n",
    "df_mc.loc[i,'Degree'] = 'MD;MA'\n",
    "\n",
    "df_mc.loc[i,'Board Member'] = random.choice([True,False])\n",
    "df_mc.loc[i,'Gender'] = random.choice(['F','M',np.nan])\n",
    "df_mc.loc[i,'Chapter'] = random.choice(['Other US','Texas','Bay Area','DC Area','New England'])"
   ]
  },
  {
   "cell_type": "code",
   "execution_count": 184,
   "id": "e9cfa754",
   "metadata": {
    "ExecuteTime": {
     "end_time": "2022-06-22T03:42:15.743903Z",
     "start_time": "2022-06-22T03:42:15.729900Z"
    }
   },
   "outputs": [],
   "source": [
    "# 4th record. Has a degree on mail chimp side\n",
    "rec = df_SAA.loc[92]\n",
    "i=3\n",
    "df_mc.loc[i,'First Name'] = rec.first_name\n",
    "df_mc.loc[i,'Last Name'] = rec.last_name\n",
    "df_mc.loc[i,'Email Address'] = createRandomEmail(rec)\n",
    "df_mc.loc[i,'Country'] = 'USA'\n",
    "df_mc.loc[i,'Degree'] = 'MS'\n",
    "\n",
    "df_mc.loc[i,'Board Member'] = random.choice([True,False])\n",
    "df_mc.loc[i,'Gender'] = random.choice(['F','M',np.nan])\n",
    "df_mc.loc[i,'Chapter'] = random.choice(['Other US','Texas','Bay Area','DC Area','New England'])"
   ]
  },
  {
   "cell_type": "code",
   "execution_count": 185,
   "id": "f64311fa",
   "metadata": {
    "ExecuteTime": {
     "end_time": "2022-06-22T03:42:15.774915Z",
     "start_time": "2022-06-22T03:42:15.744904Z"
    }
   },
   "outputs": [
    {
     "data": {
      "text/html": [
       "<div>\n",
       "<style scoped>\n",
       "    .dataframe tbody tr th:only-of-type {\n",
       "        vertical-align: middle;\n",
       "    }\n",
       "\n",
       "    .dataframe tbody tr th {\n",
       "        vertical-align: top;\n",
       "    }\n",
       "\n",
       "    .dataframe thead th {\n",
       "        text-align: right;\n",
       "    }\n",
       "</style>\n",
       "<table border=\"1\" class=\"dataframe\">\n",
       "  <thead>\n",
       "    <tr style=\"text-align: right;\">\n",
       "      <th></th>\n",
       "      <th>pref_mail_name</th>\n",
       "      <th>pref_class_year</th>\n",
       "      <th>home_city</th>\n",
       "      <th>home_state_code</th>\n",
       "      <th>home_country</th>\n",
       "      <th>home_phone_area_code</th>\n",
       "      <th>home_phone_number</th>\n",
       "      <th>home_email_address</th>\n",
       "      <th>bus_city</th>\n",
       "      <th>bus_state_code</th>\n",
       "      <th>bus_country</th>\n",
       "      <th>bus_phone_area_code</th>\n",
       "      <th>bus_phone_number</th>\n",
       "      <th>bus_email_address</th>\n",
       "      <th>first_name</th>\n",
       "      <th>last_name</th>\n",
       "      <th>pref_name_sort</th>\n",
       "      <th>email_switch</th>\n",
       "      <th>saa_email_address</th>\n",
       "      <th>gsb_email_address</th>\n",
       "      <th>other_email_address</th>\n",
       "      <th>pref_phone_area_code</th>\n",
       "      <th>pref_phone_number</th>\n",
       "      <th>pref_phone_addr_type</th>\n",
       "      <th>memb_status_desc</th>\n",
       "      <th>short_degree_string</th>\n",
       "      <th>parent_degree_string</th>\n",
       "      <th>short_degree_string_spouse</th>\n",
       "      <th>parent_degree_string_spouse</th>\n",
       "      <th>primary_sort_name</th>\n",
       "      <th>plan_name</th>\n",
       "      <th>primary_ind</th>\n",
       "      <th>0</th>\n",
       "    </tr>\n",
       "  </thead>\n",
       "  <tbody>\n",
       "    <tr>\n",
       "      <th>1</th>\n",
       "      <td>NaN</td>\n",
       "      <td>NaN</td>\n",
       "      <td>Madrid</td>\n",
       "      <td>NaN</td>\n",
       "      <td>Japan</td>\n",
       "      <td>NaN</td>\n",
       "      <td>NaN</td>\n",
       "      <td>*</td>\n",
       "      <td>NaN</td>\n",
       "      <td>NaN</td>\n",
       "      <td>NaN</td>\n",
       "      <td>NaN</td>\n",
       "      <td>NaN</td>\n",
       "      <td>NaN</td>\n",
       "      <td>Mary</td>\n",
       "      <td>Rodriguez</td>\n",
       "      <td>NaN</td>\n",
       "      <td>NaN</td>\n",
       "      <td>*</td>\n",
       "      <td>NaN</td>\n",
       "      <td>NaN</td>\n",
       "      <td>NaN</td>\n",
       "      <td>NaN</td>\n",
       "      <td>NaN</td>\n",
       "      <td>NaN</td>\n",
       "      <td>MA '85, BS '92</td>\n",
       "      <td>NaN</td>\n",
       "      <td>NaN</td>\n",
       "      <td>NaN</td>\n",
       "      <td>NaN</td>\n",
       "      <td>NaN</td>\n",
       "      <td>NaN</td>\n",
       "      <td>NaN</td>\n",
       "    </tr>\n",
       "    <tr>\n",
       "      <th>12</th>\n",
       "      <td>NaN</td>\n",
       "      <td>NaN</td>\n",
       "      <td>Madrid</td>\n",
       "      <td>NaN</td>\n",
       "      <td>NaN</td>\n",
       "      <td>NaN</td>\n",
       "      <td>*</td>\n",
       "      <td>mdavis343@gmail.com</td>\n",
       "      <td>NaN</td>\n",
       "      <td>NaN</td>\n",
       "      <td>NaN</td>\n",
       "      <td>NaN</td>\n",
       "      <td>NaN</td>\n",
       "      <td>NaN</td>\n",
       "      <td>Mary</td>\n",
       "      <td>Davis</td>\n",
       "      <td>NaN</td>\n",
       "      <td>NaN</td>\n",
       "      <td>m.davis4650@stanfordalumni.org</td>\n",
       "      <td>NaN</td>\n",
       "      <td>NaN</td>\n",
       "      <td>NaN</td>\n",
       "      <td>NaN</td>\n",
       "      <td>NaN</td>\n",
       "      <td>NaN</td>\n",
       "      <td>NaN</td>\n",
       "      <td>NaN</td>\n",
       "      <td>NaN</td>\n",
       "      <td>NaN</td>\n",
       "      <td>NaN</td>\n",
       "      <td>NaN</td>\n",
       "      <td>NaN</td>\n",
       "      <td>NaN</td>\n",
       "    </tr>\n",
       "    <tr>\n",
       "      <th>18</th>\n",
       "      <td>NaN</td>\n",
       "      <td>NaN</td>\n",
       "      <td>London</td>\n",
       "      <td>NaN</td>\n",
       "      <td>UAE</td>\n",
       "      <td>NaN</td>\n",
       "      <td>*</td>\n",
       "      <td>marymiller5944@gmail.com</td>\n",
       "      <td>NaN</td>\n",
       "      <td>NaN</td>\n",
       "      <td>Kuwait</td>\n",
       "      <td>NaN</td>\n",
       "      <td>NaN</td>\n",
       "      <td>mary.miller5372@alumni.stanford.edu</td>\n",
       "      <td>Mary</td>\n",
       "      <td>Miller</td>\n",
       "      <td>NaN</td>\n",
       "      <td>NaN</td>\n",
       "      <td>NaN</td>\n",
       "      <td>NaN</td>\n",
       "      <td>NaN</td>\n",
       "      <td>NaN</td>\n",
       "      <td>NaN</td>\n",
       "      <td>NaN</td>\n",
       "      <td>NaN</td>\n",
       "      <td>BA '94, JD '83, MA '80</td>\n",
       "      <td>NaN</td>\n",
       "      <td>NaN</td>\n",
       "      <td>NaN</td>\n",
       "      <td>NaN</td>\n",
       "      <td>NaN</td>\n",
       "      <td>NaN</td>\n",
       "      <td>NaN</td>\n",
       "    </tr>\n",
       "    <tr>\n",
       "      <th>27</th>\n",
       "      <td>NaN</td>\n",
       "      <td>NaN</td>\n",
       "      <td>Beijing</td>\n",
       "      <td>NaN</td>\n",
       "      <td>UAE</td>\n",
       "      <td>NaN</td>\n",
       "      <td>NaN</td>\n",
       "      <td>mary.rodriguez1968@stanfordalumni.org</td>\n",
       "      <td>NaN</td>\n",
       "      <td>NaN</td>\n",
       "      <td>China</td>\n",
       "      <td>NaN</td>\n",
       "      <td>NaN</td>\n",
       "      <td>NaN</td>\n",
       "      <td>Mary</td>\n",
       "      <td>Rodriguez</td>\n",
       "      <td>NaN</td>\n",
       "      <td>NaN</td>\n",
       "      <td>mary.rodriguez9518@stanfordalumni.org</td>\n",
       "      <td>NaN</td>\n",
       "      <td>NaN</td>\n",
       "      <td>NaN</td>\n",
       "      <td>NaN</td>\n",
       "      <td>NaN</td>\n",
       "      <td>NaN</td>\n",
       "      <td>NaN</td>\n",
       "      <td>NaN</td>\n",
       "      <td>NaN</td>\n",
       "      <td>NaN</td>\n",
       "      <td>NaN</td>\n",
       "      <td>NaN</td>\n",
       "      <td>NaN</td>\n",
       "      <td>NaN</td>\n",
       "    </tr>\n",
       "  </tbody>\n",
       "</table>\n",
       "</div>"
      ],
      "text/plain": [
       "    pref_mail_name  pref_class_year home_city home_state_code home_country  \\\n",
       "1              NaN              NaN    Madrid             NaN        Japan   \n",
       "12             NaN              NaN    Madrid             NaN          NaN   \n",
       "18             NaN              NaN    London             NaN          UAE   \n",
       "27             NaN              NaN   Beijing             NaN          UAE   \n",
       "\n",
       "    home_phone_area_code home_phone_number  \\\n",
       "1                    NaN               NaN   \n",
       "12                   NaN                 *   \n",
       "18                   NaN                 *   \n",
       "27                   NaN               NaN   \n",
       "\n",
       "                       home_email_address  bus_city  bus_state_code  \\\n",
       "1                                       *       NaN             NaN   \n",
       "12                    mdavis343@gmail.com       NaN             NaN   \n",
       "18               marymiller5944@gmail.com       NaN             NaN   \n",
       "27  mary.rodriguez1968@stanfordalumni.org       NaN             NaN   \n",
       "\n",
       "   bus_country  bus_phone_area_code  bus_phone_number  \\\n",
       "1          NaN                  NaN               NaN   \n",
       "12         NaN                  NaN               NaN   \n",
       "18      Kuwait                  NaN               NaN   \n",
       "27       China                  NaN               NaN   \n",
       "\n",
       "                      bus_email_address first_name  last_name  pref_name_sort  \\\n",
       "1                                   NaN       Mary  Rodriguez             NaN   \n",
       "12                                  NaN       Mary      Davis             NaN   \n",
       "18  mary.miller5372@alumni.stanford.edu       Mary     Miller             NaN   \n",
       "27                                  NaN       Mary  Rodriguez             NaN   \n",
       "\n",
       "    email_switch                      saa_email_address gsb_email_address  \\\n",
       "1            NaN                                      *               NaN   \n",
       "12           NaN         m.davis4650@stanfordalumni.org               NaN   \n",
       "18           NaN                                    NaN               NaN   \n",
       "27           NaN  mary.rodriguez9518@stanfordalumni.org               NaN   \n",
       "\n",
       "    other_email_address  pref_phone_area_code  pref_phone_number  \\\n",
       "1                   NaN                   NaN                NaN   \n",
       "12                  NaN                   NaN                NaN   \n",
       "18                  NaN                   NaN                NaN   \n",
       "27                  NaN                   NaN                NaN   \n",
       "\n",
       "    pref_phone_addr_type  memb_status_desc     short_degree_string  \\\n",
       "1                    NaN               NaN          MA '85, BS '92   \n",
       "12                   NaN               NaN                     NaN   \n",
       "18                   NaN               NaN  BA '94, JD '83, MA '80   \n",
       "27                   NaN               NaN                     NaN   \n",
       "\n",
       "    parent_degree_string  short_degree_string_spouse  \\\n",
       "1                    NaN                         NaN   \n",
       "12                   NaN                         NaN   \n",
       "18                   NaN                         NaN   \n",
       "27                   NaN                         NaN   \n",
       "\n",
       "    parent_degree_string_spouse  primary_sort_name  plan_name  primary_ind   0  \n",
       "1                           NaN                NaN        NaN          NaN NaN  \n",
       "12                          NaN                NaN        NaN          NaN NaN  \n",
       "18                          NaN                NaN        NaN          NaN NaN  \n",
       "27                          NaN                NaN        NaN          NaN NaN  "
      ]
     },
     "execution_count": 185,
     "metadata": {},
     "output_type": "execute_result"
    }
   ],
   "source": [
    "df_SAA[df_SAA.first_name == 'Mary']"
   ]
  },
  {
   "cell_type": "code",
   "execution_count": 186,
   "id": "ebc60664",
   "metadata": {
    "ExecuteTime": {
     "end_time": "2022-06-22T03:42:15.790918Z",
     "start_time": "2022-06-22T03:42:15.775916Z"
    }
   },
   "outputs": [],
   "source": [
    "# 5th record. Changed last name\n",
    "rec = df_SAA.loc[12]\n",
    "i=4\n",
    "df_mc.loc[i,'First Name'] = rec.first_name\n",
    "df_mc.loc[i,'Last Name'] = random.choice(common_LNames)\n",
    "df_mc.loc[i,'Email Address'] = rec.saa_email_address.split('@')[0]+'@gmail.com'\n",
    "df_mc.loc[i,'Country'] = 'USA'\n",
    "df_mc.loc[i,'Degree'] = random.choice([np.nan,''])\n",
    "\n",
    "df_mc.loc[i,'Board Member'] = random.choice([True,False])\n",
    "df_mc.loc[i,'Gender'] = random.choice(['F','M',np.nan])\n",
    "df_mc.loc[i,'Chapter'] = random.choice(['Other US','Texas','Bay Area','DC Area','New England'])"
   ]
  },
  {
   "cell_type": "code",
   "execution_count": 187,
   "id": "2acdb083",
   "metadata": {
    "ExecuteTime": {
     "end_time": "2022-06-22T03:42:15.806922Z",
     "start_time": "2022-06-22T03:42:15.791919Z"
    },
    "scrolled": true
   },
   "outputs": [
    {
     "data": {
      "text/html": [
       "<div>\n",
       "<style scoped>\n",
       "    .dataframe tbody tr th:only-of-type {\n",
       "        vertical-align: middle;\n",
       "    }\n",
       "\n",
       "    .dataframe tbody tr th {\n",
       "        vertical-align: top;\n",
       "    }\n",
       "\n",
       "    .dataframe thead th {\n",
       "        text-align: right;\n",
       "    }\n",
       "</style>\n",
       "<table border=\"1\" class=\"dataframe\">\n",
       "  <thead>\n",
       "    <tr style=\"text-align: right;\">\n",
       "      <th></th>\n",
       "      <th>Email Address</th>\n",
       "      <th>First Name</th>\n",
       "      <th>Last Name</th>\n",
       "      <th>Board Member</th>\n",
       "      <th>Gender</th>\n",
       "      <th>Chapter</th>\n",
       "      <th>Reunion Year</th>\n",
       "      <th>Country</th>\n",
       "      <th>Degree</th>\n",
       "      <th>MEMBER_RATING</th>\n",
       "      <th>OPTIN_TIME</th>\n",
       "      <th>OPTIN_IP</th>\n",
       "      <th>CONFIRM_TIME</th>\n",
       "      <th>CONFIRM_IP</th>\n",
       "      <th>LATITUDE</th>\n",
       "      <th>LONGITUDE</th>\n",
       "      <th>GMTOFF</th>\n",
       "      <th>DSTOFF</th>\n",
       "      <th>TIMEZONE</th>\n",
       "      <th>CC</th>\n",
       "      <th>REGION</th>\n",
       "      <th>CLEAN_TIME</th>\n",
       "      <th>CLEAN_CAMPAIGN_TITLE</th>\n",
       "      <th>CLEAN_CAMPAIGN_ID</th>\n",
       "      <th>LEID</th>\n",
       "      <th>EUID</th>\n",
       "      <th>NOTES</th>\n",
       "      <th>TAGS</th>\n",
       "      <th>0</th>\n",
       "    </tr>\n",
       "  </thead>\n",
       "  <tbody>\n",
       "    <tr>\n",
       "      <th>0</th>\n",
       "      <td>brodriguez369@gmail.com</td>\n",
       "      <td>Barbara</td>\n",
       "      <td>Rodriguez</td>\n",
       "      <td>True</td>\n",
       "      <td>NaN</td>\n",
       "      <td>New England</td>\n",
       "      <td>NaN</td>\n",
       "      <td>USA</td>\n",
       "      <td></td>\n",
       "      <td>NaN</td>\n",
       "      <td>NaN</td>\n",
       "      <td>NaN</td>\n",
       "      <td>NaN</td>\n",
       "      <td>NaN</td>\n",
       "      <td>NaN</td>\n",
       "      <td>NaN</td>\n",
       "      <td>NaN</td>\n",
       "      <td>NaN</td>\n",
       "      <td>NaN</td>\n",
       "      <td>NaN</td>\n",
       "      <td>NaN</td>\n",
       "      <td>NaN</td>\n",
       "      <td>NaN</td>\n",
       "      <td>NaN</td>\n",
       "      <td>NaN</td>\n",
       "      <td>NaN</td>\n",
       "      <td>NaN</td>\n",
       "      <td>NaN</td>\n",
       "      <td>NaN</td>\n",
       "    </tr>\n",
       "    <tr>\n",
       "      <th>1</th>\n",
       "      <td>liamjones7027@stanfordalumni.org</td>\n",
       "      <td>Liam</td>\n",
       "      <td>Jones</td>\n",
       "      <td>False</td>\n",
       "      <td>M</td>\n",
       "      <td>Bay Area</td>\n",
       "      <td>NaN</td>\n",
       "      <td>USA</td>\n",
       "      <td>NaN</td>\n",
       "      <td>NaN</td>\n",
       "      <td>NaN</td>\n",
       "      <td>NaN</td>\n",
       "      <td>NaN</td>\n",
       "      <td>NaN</td>\n",
       "      <td>NaN</td>\n",
       "      <td>NaN</td>\n",
       "      <td>NaN</td>\n",
       "      <td>NaN</td>\n",
       "      <td>NaN</td>\n",
       "      <td>NaN</td>\n",
       "      <td>NaN</td>\n",
       "      <td>NaN</td>\n",
       "      <td>NaN</td>\n",
       "      <td>NaN</td>\n",
       "      <td>NaN</td>\n",
       "      <td>NaN</td>\n",
       "      <td>NaN</td>\n",
       "      <td>NaN</td>\n",
       "      <td>NaN</td>\n",
       "    </tr>\n",
       "    <tr>\n",
       "      <th>2</th>\n",
       "      <td>lindam7966@alumni.stanford.edu</td>\n",
       "      <td>Liam</td>\n",
       "      <td>Rodriguez</td>\n",
       "      <td>True</td>\n",
       "      <td>NaN</td>\n",
       "      <td>Bay Area</td>\n",
       "      <td>NaN</td>\n",
       "      <td>USA</td>\n",
       "      <td>MD;MA</td>\n",
       "      <td>NaN</td>\n",
       "      <td>NaN</td>\n",
       "      <td>NaN</td>\n",
       "      <td>NaN</td>\n",
       "      <td>NaN</td>\n",
       "      <td>NaN</td>\n",
       "      <td>NaN</td>\n",
       "      <td>NaN</td>\n",
       "      <td>NaN</td>\n",
       "      <td>NaN</td>\n",
       "      <td>NaN</td>\n",
       "      <td>NaN</td>\n",
       "      <td>NaN</td>\n",
       "      <td>NaN</td>\n",
       "      <td>NaN</td>\n",
       "      <td>NaN</td>\n",
       "      <td>NaN</td>\n",
       "      <td>NaN</td>\n",
       "      <td>NaN</td>\n",
       "      <td>NaN</td>\n",
       "    </tr>\n",
       "    <tr>\n",
       "      <th>3</th>\n",
       "      <td>liam.garcia7988@stanfordalumni.org</td>\n",
       "      <td>Liam</td>\n",
       "      <td>Garcia</td>\n",
       "      <td>True</td>\n",
       "      <td>F</td>\n",
       "      <td>New England</td>\n",
       "      <td>NaN</td>\n",
       "      <td>USA</td>\n",
       "      <td>MS</td>\n",
       "      <td>NaN</td>\n",
       "      <td>NaN</td>\n",
       "      <td>NaN</td>\n",
       "      <td>NaN</td>\n",
       "      <td>NaN</td>\n",
       "      <td>NaN</td>\n",
       "      <td>NaN</td>\n",
       "      <td>NaN</td>\n",
       "      <td>NaN</td>\n",
       "      <td>NaN</td>\n",
       "      <td>NaN</td>\n",
       "      <td>NaN</td>\n",
       "      <td>NaN</td>\n",
       "      <td>NaN</td>\n",
       "      <td>NaN</td>\n",
       "      <td>NaN</td>\n",
       "      <td>NaN</td>\n",
       "      <td>NaN</td>\n",
       "      <td>NaN</td>\n",
       "      <td>NaN</td>\n",
       "    </tr>\n",
       "    <tr>\n",
       "      <th>4</th>\n",
       "      <td>m.davis4650@gmail.com</td>\n",
       "      <td>Mary</td>\n",
       "      <td>Johnson</td>\n",
       "      <td>True</td>\n",
       "      <td>NaN</td>\n",
       "      <td>Texas</td>\n",
       "      <td>NaN</td>\n",
       "      <td>USA</td>\n",
       "      <td></td>\n",
       "      <td>NaN</td>\n",
       "      <td>NaN</td>\n",
       "      <td>NaN</td>\n",
       "      <td>NaN</td>\n",
       "      <td>NaN</td>\n",
       "      <td>NaN</td>\n",
       "      <td>NaN</td>\n",
       "      <td>NaN</td>\n",
       "      <td>NaN</td>\n",
       "      <td>NaN</td>\n",
       "      <td>NaN</td>\n",
       "      <td>NaN</td>\n",
       "      <td>NaN</td>\n",
       "      <td>NaN</td>\n",
       "      <td>NaN</td>\n",
       "      <td>NaN</td>\n",
       "      <td>NaN</td>\n",
       "      <td>NaN</td>\n",
       "      <td>NaN</td>\n",
       "      <td>NaN</td>\n",
       "    </tr>\n",
       "  </tbody>\n",
       "</table>\n",
       "</div>"
      ],
      "text/plain": [
       "                        Email Address First Name  Last Name Board Member  \\\n",
       "0             brodriguez369@gmail.com    Barbara  Rodriguez         True   \n",
       "1    liamjones7027@stanfordalumni.org       Liam      Jones        False   \n",
       "2      lindam7966@alumni.stanford.edu       Liam  Rodriguez         True   \n",
       "3  liam.garcia7988@stanfordalumni.org       Liam     Garcia         True   \n",
       "4               m.davis4650@gmail.com       Mary    Johnson         True   \n",
       "\n",
       "  Gender      Chapter Reunion Year Country Degree MEMBER_RATING OPTIN_TIME  \\\n",
       "0    NaN  New England          NaN     USA                  NaN        NaN   \n",
       "1      M     Bay Area          NaN     USA    NaN           NaN        NaN   \n",
       "2    NaN     Bay Area          NaN     USA  MD;MA           NaN        NaN   \n",
       "3      F  New England          NaN     USA     MS           NaN        NaN   \n",
       "4    NaN        Texas          NaN     USA                  NaN        NaN   \n",
       "\n",
       "  OPTIN_IP CONFIRM_TIME CONFIRM_IP LATITUDE LONGITUDE GMTOFF DSTOFF TIMEZONE  \\\n",
       "0      NaN          NaN        NaN      NaN       NaN    NaN    NaN      NaN   \n",
       "1      NaN          NaN        NaN      NaN       NaN    NaN    NaN      NaN   \n",
       "2      NaN          NaN        NaN      NaN       NaN    NaN    NaN      NaN   \n",
       "3      NaN          NaN        NaN      NaN       NaN    NaN    NaN      NaN   \n",
       "4      NaN          NaN        NaN      NaN       NaN    NaN    NaN      NaN   \n",
       "\n",
       "    CC REGION CLEAN_TIME CLEAN_CAMPAIGN_TITLE CLEAN_CAMPAIGN_ID LEID EUID  \\\n",
       "0  NaN    NaN        NaN                  NaN               NaN  NaN  NaN   \n",
       "1  NaN    NaN        NaN                  NaN               NaN  NaN  NaN   \n",
       "2  NaN    NaN        NaN                  NaN               NaN  NaN  NaN   \n",
       "3  NaN    NaN        NaN                  NaN               NaN  NaN  NaN   \n",
       "4  NaN    NaN        NaN                  NaN               NaN  NaN  NaN   \n",
       "\n",
       "  NOTES TAGS   0  \n",
       "0   NaN  NaN NaN  \n",
       "1   NaN  NaN NaN  \n",
       "2   NaN  NaN NaN  \n",
       "3   NaN  NaN NaN  \n",
       "4   NaN  NaN NaN  "
      ]
     },
     "execution_count": 187,
     "metadata": {},
     "output_type": "execute_result"
    }
   ],
   "source": [
    "df_mc"
   ]
  },
  {
   "cell_type": "code",
   "execution_count": 188,
   "id": "f9c9c107",
   "metadata": {
    "ExecuteTime": {
     "end_time": "2022-06-22T03:42:47.986098Z",
     "start_time": "2022-06-22T03:42:47.982097Z"
    }
   },
   "outputs": [],
   "source": [
    "df_mc.to_csv('data/Fake_MailChimp_cleaned.csv')"
   ]
  },
  {
   "cell_type": "code",
   "execution_count": null,
   "id": "9d62daf2",
   "metadata": {},
   "outputs": [],
   "source": []
  }
 ],
 "metadata": {
  "kernelspec": {
   "display_name": "tfGPU",
   "language": "python",
   "name": "tfgpu"
  },
  "language_info": {
   "codemirror_mode": {
    "name": "ipython",
    "version": 3
   },
   "file_extension": ".py",
   "mimetype": "text/x-python",
   "name": "python",
   "nbconvert_exporter": "python",
   "pygments_lexer": "ipython3",
   "version": "3.9.12"
  },
  "toc": {
   "base_numbering": 1,
   "nav_menu": {},
   "number_sections": true,
   "sideBar": true,
   "skip_h1_title": false,
   "title_cell": "Table of Contents",
   "title_sidebar": "Contents",
   "toc_cell": false,
   "toc_position": {},
   "toc_section_display": true,
   "toc_window_display": false
  },
  "varInspector": {
   "cols": {
    "lenName": 16,
    "lenType": 16,
    "lenVar": 40
   },
   "kernels_config": {
    "python": {
     "delete_cmd_postfix": "",
     "delete_cmd_prefix": "del ",
     "library": "var_list.py",
     "varRefreshCmd": "print(var_dic_list())"
    },
    "r": {
     "delete_cmd_postfix": ") ",
     "delete_cmd_prefix": "rm(",
     "library": "var_list.r",
     "varRefreshCmd": "cat(var_dic_list()) "
    }
   },
   "position": {
    "height": "573.844px",
    "left": "1315px",
    "right": "20px",
    "top": "120px",
    "width": "585px"
   },
   "types_to_exclude": [
    "module",
    "function",
    "builtin_function_or_method",
    "instance",
    "_Feature"
   ],
   "window_display": false
  }
 },
 "nbformat": 4,
 "nbformat_minor": 5
}
