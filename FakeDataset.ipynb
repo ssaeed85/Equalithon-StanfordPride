{
 "cells": [
  {
   "cell_type": "code",
   "execution_count": 1,
   "id": "5946e0af",
   "metadata": {
    "ExecuteTime": {
     "end_time": "2022-06-21T02:46:50.298633Z",
     "start_time": "2022-06-21T02:46:49.896543Z"
    }
   },
   "outputs": [],
   "source": [
    "import pandas as pd\n",
    "import numpy as np\n",
    "import random \n",
    "\n",
    "pd.set_option('display.max_columns', None)\n",
    "pd.set_option('display.min_rows', 100)\n",
    "num_ofDesiredRecords = 100"
   ]
  },
  {
   "cell_type": "code",
   "execution_count": 2,
   "id": "45dfc049",
   "metadata": {
    "ExecuteTime": {
     "end_time": "2022-06-21T02:46:50.314632Z",
     "start_time": "2022-06-21T02:46:50.302634Z"
    }
   },
   "outputs": [],
   "source": [
    "def createRandomPhoneNumber_SAA():\n",
    "    range_start = 10**9\n",
    "    range_end = 10**10 -1\n",
    "    num = str(random.randint(range_start,range_end))\n",
    "    num_str = \"{0} {1}-{2}\".format(num[:3], num[3:7],num[7:])\n",
    "    return num_str"
   ]
  },
  {
   "cell_type": "code",
   "execution_count": 3,
   "id": "164d4dff",
   "metadata": {
    "ExecuteTime": {
     "end_time": "2022-06-21T02:46:50.329637Z",
     "start_time": "2022-06-21T02:46:50.316634Z"
    }
   },
   "outputs": [],
   "source": [
    "def createRandomEmail(record,domainList=['@gmail.com','@stanfordalumni.org','@alumni.stanford.edu']):\n",
    "    domain = random.choice(domainList)\n",
    "    fName = record['first_name'].strip().lower()\n",
    "    LName = record['last_name'].strip().lower()\n",
    "    formats = []\n",
    "    \n",
    "    #Example: John Doe 123\n",
    "    formats.append(fName[0]+LName+str(random.randint(10,9999))) #jdoe123\n",
    "    formats.append(fName+LName+str(random.randint(10,9999))) #johndoe123\n",
    "    formats.append(fName+LName[0]+str(random.randint(10,9999))) #johnd123\n",
    "    formats.append(fName[0]+'.'+LName+str(random.randint(10,9999))) #j.doe123\n",
    "    formats.append(fName+'.'+LName+str(random.randint(10,9999))) #john.doe123\n",
    "    \n",
    "    return random.choice(formats)+domain"
   ]
  },
  {
   "cell_type": "code",
   "execution_count": 4,
   "id": "0374bdcf",
   "metadata": {
    "ExecuteTime": {
     "end_time": "2022-06-21T02:46:50.345642Z",
     "start_time": "2022-06-21T02:46:50.331637Z"
    }
   },
   "outputs": [],
   "source": [
    "common_male_Fnames = [\n",
    "    'Liam',\n",
    "    'Noah',\n",
    "    'Oliver',\n",
    "    'Elijah',\n",
    "    'James',\n",
    "    'William',\n",
    "    'Benjamin',\n",
    "    'Lucas',\n",
    "    'Henry',\n",
    "    'Theodore',\n",
    "]"
   ]
  },
  {
   "cell_type": "code",
   "execution_count": 5,
   "id": "f94508a2",
   "metadata": {
    "ExecuteTime": {
     "end_time": "2022-06-21T02:46:50.360645Z",
     "start_time": "2022-06-21T02:46:50.347642Z"
    }
   },
   "outputs": [],
   "source": [
    "common_female_Fnames = [\n",
    "    'Mary',\n",
    "    'Patricia',\n",
    "    'Jennifer',\n",
    "    'Linda',\n",
    "    'Elizabeth',\n",
    "    'Barbara',\n",
    "    'Susan',\n",
    "    'Jessica',\n",
    "    'Sarah',\n",
    "    'Karen',\n",
    "]"
   ]
  },
  {
   "cell_type": "code",
   "execution_count": 6,
   "id": "dbc96335",
   "metadata": {
    "ExecuteTime": {
     "end_time": "2022-06-21T02:46:50.375810Z",
     "start_time": "2022-06-21T02:46:50.361645Z"
    }
   },
   "outputs": [],
   "source": [
    "city = ['Chicago', 'Boston',  'Madrid', 'Tokyo', 'Seoul', 'London','Beijing','Shanghai','Dubai','*',np.nan,'']\n",
    "state = ['NY', 'WA', 'TX','CA','NM','*',np.nan,'']\n",
    "country = ['Japan', 'United States', 'USA', 'China', 'UAE', 'Kuwait','*',np.nan,'']"
   ]
  },
  {
   "cell_type": "code",
   "execution_count": 7,
   "id": "d795aa25",
   "metadata": {
    "ExecuteTime": {
     "end_time": "2022-06-21T02:46:50.390813Z",
     "start_time": "2022-06-21T02:46:50.377811Z"
    }
   },
   "outputs": [],
   "source": [
    "common_FNames = []\n",
    "common_FNames.extend(common_female_Fnames)\n",
    "common_FNames.extend(common_male_Fnames)"
   ]
  },
  {
   "cell_type": "code",
   "execution_count": 8,
   "id": "e52b115e",
   "metadata": {
    "ExecuteTime": {
     "end_time": "2022-06-21T02:46:50.406530Z",
     "start_time": "2022-06-21T02:46:50.391814Z"
    }
   },
   "outputs": [],
   "source": [
    "common_LNames = ['Smith',\n",
    "'Johnson',\n",
    "'Williams',\n",
    "'Brown',\n",
    "'Jones',\n",
    "'Garcia',\n",
    "'Miller',\n",
    "'Davis',\n",
    "'Rodriguez',\n",
    "'Martinez',]"
   ]
  },
  {
   "cell_type": "code",
   "execution_count": 9,
   "id": "c2089c4a",
   "metadata": {
    "ExecuteTime": {
     "end_time": "2022-06-21T02:46:50.937530Z",
     "start_time": "2022-06-21T02:46:50.408531Z"
    }
   },
   "outputs": [
    {
     "name": "stderr",
     "output_type": "stream",
     "text": [
      "C:\\Users\\saads\\AppData\\Local\\Temp\\ipykernel_27768\\2961325751.py:1: FutureWarning: The frame.append method is deprecated and will be removed from pandas in a future version. Use pandas.concat instead.\n",
      "  df_SAA = pd.read_excel(\"./data/SAA Pride member reports headings.xlsx\").append([np.nan]*num_ofDesiredRecords)\n"
     ]
    }
   ],
   "source": [
    "df_SAA = pd.read_excel(\"./data/SAA Pride member reports headings.xlsx\").append([np.nan]*num_ofDesiredRecords)"
   ]
  },
  {
   "cell_type": "code",
   "execution_count": 10,
   "id": "0a17956e",
   "metadata": {
    "ExecuteTime": {
     "end_time": "2022-06-21T02:46:50.953401Z",
     "start_time": "2022-06-21T02:46:50.939154Z"
    }
   },
   "outputs": [],
   "source": [
    "__  = []\n",
    "for _ in range(0,num_ofDesiredRecords):\n",
    "    __.append(random.choice(common_FNames))\n",
    "    \n",
    "df_SAA.first_name = __"
   ]
  },
  {
   "cell_type": "code",
   "execution_count": 11,
   "id": "da863cf8",
   "metadata": {
    "ExecuteTime": {
     "end_time": "2022-06-21T02:46:50.968564Z",
     "start_time": "2022-06-21T02:46:50.954401Z"
    }
   },
   "outputs": [],
   "source": [
    "__  = []\n",
    "for _ in range(0,num_ofDesiredRecords):\n",
    "    __.append(random.choice(common_LNames))\n",
    "    \n",
    "df_SAA.last_name = __"
   ]
  },
  {
   "cell_type": "code",
   "execution_count": 12,
   "id": "40bb5fe2",
   "metadata": {
    "ExecuteTime": {
     "end_time": "2022-06-21T02:46:50.983567Z",
     "start_time": "2022-06-21T02:46:50.969564Z"
    }
   },
   "outputs": [],
   "source": [
    "__  = []\n",
    "for _ in range(0,num_ofDesiredRecords):\n",
    "    __.append(random.choices([createRandomPhoneNumber_SAA(),'*',np.nan],weights=(1,5,5))[0])\n",
    "    \n",
    "df_SAA.home_phone_number = __"
   ]
  },
  {
   "cell_type": "code",
   "execution_count": 13,
   "id": "23422ec4",
   "metadata": {
    "ExecuteTime": {
     "end_time": "2022-06-21T02:46:50.999570Z",
     "start_time": "2022-06-21T02:46:50.985567Z"
    }
   },
   "outputs": [],
   "source": [
    "__  = []\n",
    "for _ in range(0,num_ofDesiredRecords):\n",
    "    __.append(random.choice(['*',np.nan,createRandomEmail(df_SAA.iloc[_])]))\n",
    "    \n",
    "df_SAA.home_email_address = __"
   ]
  },
  {
   "cell_type": "code",
   "execution_count": 14,
   "id": "877b7090",
   "metadata": {
    "ExecuteTime": {
     "end_time": "2022-06-21T02:46:51.014574Z",
     "start_time": "2022-06-21T02:46:51.001572Z"
    }
   },
   "outputs": [],
   "source": [
    "__  = []\n",
    "for _ in range(0,num_ofDesiredRecords):\n",
    "    __.append(random.choice(['*',np.nan,createRandomEmail(df_SAA.iloc[_],['@stanfordalumni.org','@alumni.stanford.edu'])]))\n",
    "    \n",
    "df_SAA.saa_email_address = __"
   ]
  },
  {
   "cell_type": "code",
   "execution_count": 15,
   "id": "3ce243cc",
   "metadata": {
    "ExecuteTime": {
     "end_time": "2022-06-21T02:46:51.030578Z",
     "start_time": "2022-06-21T02:46:51.015576Z"
    }
   },
   "outputs": [],
   "source": [
    "__  = []\n",
    "for _ in range(0,num_ofDesiredRecords):\n",
    "    __.append(random.choices([createRandomEmail(df_SAA.iloc[_]),np.nan],weights=(1, 50))[0])\n",
    "    \n",
    "df_SAA.gsb_email_address = __"
   ]
  },
  {
   "cell_type": "code",
   "execution_count": 16,
   "id": "b63a372a",
   "metadata": {
    "ExecuteTime": {
     "end_time": "2022-06-21T02:46:51.046402Z",
     "start_time": "2022-06-21T02:46:51.031578Z"
    }
   },
   "outputs": [],
   "source": [
    "__  = []\n",
    "for _ in range(0,num_ofDesiredRecords):\n",
    "    __.append(random.choices([createRandomEmail(df_SAA.iloc[_]),np.nan],weights=(1, 10))[0])\n",
    "    \n",
    "df_SAA.bus_email_address = __"
   ]
  },
  {
   "cell_type": "code",
   "execution_count": 17,
   "id": "7e0822d1",
   "metadata": {
    "ExecuteTime": {
     "end_time": "2022-06-21T02:46:51.062405Z",
     "start_time": "2022-06-21T02:46:51.047403Z"
    }
   },
   "outputs": [],
   "source": [
    "__  = []\n",
    "for _ in range(0,num_ofDesiredRecords):\n",
    "    __.append(random.choice(city))\n",
    "    \n",
    "df_SAA.home_city = __"
   ]
  },
  {
   "cell_type": "code",
   "execution_count": 18,
   "id": "08915b14",
   "metadata": {
    "ExecuteTime": {
     "end_time": "2022-06-21T02:46:51.078409Z",
     "start_time": "2022-06-21T02:46:51.065407Z"
    }
   },
   "outputs": [],
   "source": [
    "__  = []\n",
    "for _ in range(0,num_ofDesiredRecords):\n",
    "    __.append(random.choice(country))\n",
    "    \n",
    "df_SAA.home_country = __"
   ]
  },
  {
   "cell_type": "code",
   "execution_count": 19,
   "id": "f086b80a",
   "metadata": {
    "ExecuteTime": {
     "end_time": "2022-06-21T02:46:51.094174Z",
     "start_time": "2022-06-21T02:46:51.079410Z"
    }
   },
   "outputs": [],
   "source": [
    "__  = []\n",
    "for _ in range(0,num_ofDesiredRecords):\n",
    "    __.append(random.choice(country))\n",
    "    \n",
    "df_SAA.bus_country = __"
   ]
  },
  {
   "cell_type": "code",
   "execution_count": 20,
   "id": "022925a6",
   "metadata": {
    "ExecuteTime": {
     "end_time": "2022-06-21T02:46:51.110175Z",
     "start_time": "2022-06-21T02:46:51.096176Z"
    }
   },
   "outputs": [],
   "source": [
    "state = {'Chicago': 'IL', \n",
    "           'Boston': 'MA', \n",
    "           'New York' : 'NY', \n",
    "           'San Francisco': 'CA', \n",
    "           'Los Angeles' : 'CA', \n",
    "           'Austin' : 'TX',\n",
    "        'Dallas': 'TX',\n",
    "        'Denver': 'CO',\n",
    "        '':'',\n",
    "        '*':'*'}\n",
    "\n",
    "df_SAA.home_state_code = df_SAA['home_city'].map(state)"
   ]
  },
  {
   "cell_type": "code",
   "execution_count": 21,
   "id": "d1039d6e",
   "metadata": {
    "ExecuteTime": {
     "end_time": "2022-06-21T02:46:51.126175Z",
     "start_time": "2022-06-21T02:46:51.111176Z"
    }
   },
   "outputs": [],
   "source": [
    "__  = []\n",
    "for _ in range(0,num_ofDesiredRecords):\n",
    "    __.append(random.choice(['',np.nan,random.randint(1990, 2018)]))\n",
    "    \n",
    "df_SAA.pref_class_year = __\n"
   ]
  },
  {
   "cell_type": "code",
   "execution_count": 23,
   "id": "dc8d50ec",
   "metadata": {
    "ExecuteTime": {
     "end_time": "2022-06-21T02:47:19.068065Z",
     "start_time": "2022-06-21T02:47:19.055063Z"
    }
   },
   "outputs": [],
   "source": [
    "df_SAA.to_csv('data/SAA_FakeDB.csv')"
   ]
  },
  {
   "cell_type": "code",
   "execution_count": null,
   "id": "e15167ab",
   "metadata": {},
   "outputs": [],
   "source": []
  }
 ],
 "metadata": {
  "kernelspec": {
   "display_name": "tfGPU",
   "language": "python",
   "name": "tfgpu"
  },
  "language_info": {
   "codemirror_mode": {
    "name": "ipython",
    "version": 3
   },
   "file_extension": ".py",
   "mimetype": "text/x-python",
   "name": "python",
   "nbconvert_exporter": "python",
   "pygments_lexer": "ipython3",
   "version": "3.9.12"
  },
  "toc": {
   "base_numbering": 1,
   "nav_menu": {},
   "number_sections": true,
   "sideBar": true,
   "skip_h1_title": false,
   "title_cell": "Table of Contents",
   "title_sidebar": "Contents",
   "toc_cell": false,
   "toc_position": {},
   "toc_section_display": true,
   "toc_window_display": false
  },
  "varInspector": {
   "cols": {
    "lenName": 16,
    "lenType": 16,
    "lenVar": 40
   },
   "kernels_config": {
    "python": {
     "delete_cmd_postfix": "",
     "delete_cmd_prefix": "del ",
     "library": "var_list.py",
     "varRefreshCmd": "print(var_dic_list())"
    },
    "r": {
     "delete_cmd_postfix": ") ",
     "delete_cmd_prefix": "rm(",
     "library": "var_list.r",
     "varRefreshCmd": "cat(var_dic_list()) "
    }
   },
   "position": {
    "height": "573.844px",
    "left": "1315px",
    "right": "20px",
    "top": "120px",
    "width": "585px"
   },
   "types_to_exclude": [
    "module",
    "function",
    "builtin_function_or_method",
    "instance",
    "_Feature"
   ],
   "window_display": false
  }
 },
 "nbformat": 4,
 "nbformat_minor": 5
}
