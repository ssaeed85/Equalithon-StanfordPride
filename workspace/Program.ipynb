{
 "cells": [
  {
   "cell_type": "code",
   "execution_count": 1,
   "id": "78920e4c",
   "metadata": {
    "ExecuteTime": {
     "end_time": "2022-06-22T20:02:55.868346Z",
     "start_time": "2022-06-22T20:02:55.491610Z"
    },
    "pycharm": {
     "name": "#%%\n"
    }
   },
   "outputs": [],
   "source": [
    "import pandas as pd\n",
    "import numpy as np\n",
    "import random \n",
    "import pycountry\n",
    "np.random.seed = 42\n",
    "random.seed(42)\n",
    "\n",
    "pd.set_option('display.max_columns', None)\n",
    "pd.set_option('display.min_rows', 100)"
   ]
  },
  {
   "cell_type": "code",
   "execution_count": 2,
   "id": "f8ecb4a9",
   "metadata": {
    "ExecuteTime": {
     "end_time": "2022-06-22T20:05:17.174645Z",
     "start_time": "2022-06-22T20:05:17.119154Z"
    },
    "pycharm": {
     "name": "#%%\n"
    }
   },
   "outputs": [],
   "source": [
    "df_SAA = pd.read_excel('data/SAA_Pokemon_FakeDB.xlsx')\n",
    "df_mc = pd.read_csv('data/Fake_MailChimp_cleaned_Pokemon.csv')"
   ]
  },
  {
   "cell_type": "code",
   "execution_count": 3,
   "id": "c946e74c",
   "metadata": {
    "pycharm": {
     "name": "#%%\n"
    }
   },
   "outputs": [],
   "source": [
    "def mapCountry(countryStr):\n",
    "    if countryStr not in [np.nan, None, '*', '','N/A']:\n",
    "        return pycountry.countries.search_fuzzy(countryStr)[0].alpha_3\n",
    "    return 'N/A'"
   ]
  },
  {
   "cell_type": "code",
   "execution_count": 4,
   "id": "bb05d815",
   "metadata": {
    "pycharm": {
     "name": "#%%\n"
    }
   },
   "outputs": [
    {
     "data": {
      "text/plain": [
       "'N/A'"
      ]
     },
     "execution_count": 4,
     "metadata": {},
     "output_type": "execute_result"
    }
   ],
   "source": [
    "mapCountry(None)"
   ]
  },
  {
   "cell_type": "code",
   "execution_count": 5,
   "id": "7350c184",
   "metadata": {
    "pycharm": {
     "name": "#%%\n"
    }
   },
   "outputs": [
    {
     "data": {
      "text/plain": [
       "0                                             USA\n",
       "1                                   United States\n",
       "2                                             USA\n",
       "3                                           Japan\n",
       "4                                   United States\n",
       "5                                             USA\n",
       "6    Macao Special Administrative Region of China\n",
       "Name: Country, dtype: object"
      ]
     },
     "execution_count": 5,
     "metadata": {},
     "output_type": "execute_result"
    }
   ],
   "source": [
    "df_mc.Country"
   ]
  },
  {
   "cell_type": "code",
   "execution_count": 6,
   "id": "467548f0",
   "metadata": {
    "pycharm": {
     "name": "#%%\n"
    }
   },
   "outputs": [],
   "source": [
    "# this takes a ridiculously looooong time. The library fuzzy search just takes a long time.\n",
    "# Probably best performed on the subset of the dataframe because of the time complexity\n",
    "df_SAA.home_country = df_SAA.home_country.apply(mapCountry)\n",
    "df_SAA.bus_country = df_SAA.bus_country.apply(mapCountry)\n",
    "df_mc.Country = df_mc.Country.apply(mapCountry)"
   ]
  },
  {
   "cell_type": "code",
   "execution_count": 7,
   "id": "a993dbc6",
   "metadata": {
    "scrolled": true,
    "pycharm": {
     "name": "#%%\n"
    }
   },
   "outputs": [
    {
     "data": {
      "text/plain": [
       "0    USA\n",
       "1    USA\n",
       "2    USA\n",
       "3    JPN\n",
       "4    USA\n",
       "5    USA\n",
       "6    MAC\n",
       "Name: Country, dtype: object"
      ]
     },
     "execution_count": 7,
     "metadata": {},
     "output_type": "execute_result"
    }
   ],
   "source": [
    "df_mc.Country"
   ]
  },
  {
   "cell_type": "code",
   "execution_count": 9,
   "id": "afa7cdaa",
   "metadata": {
    "pycharm": {
     "name": "#%%\n"
    }
   },
   "outputs": [
    {
     "data": {
      "text/plain": [
       "0    N/A\n",
       "1    CHN\n",
       "2    KWT\n",
       "3    N/A\n",
       "4    USA\n",
       "Name: home_country, dtype: object"
      ]
     },
     "execution_count": 9,
     "metadata": {},
     "output_type": "execute_result"
    }
   ],
   "source": [
    "df_SAA.head().home_country"
   ]
  },
  {
   "cell_type": "code",
   "execution_count": null,
   "id": "81724de3",
   "metadata": {
    "pycharm": {
     "name": "#%%\n"
    }
   },
   "outputs": [],
   "source": [
    "#now you can do a find and match for countries since both datasets are standardized. N/A is the standard string"
   ]
  }
 ],
 "metadata": {
  "kernelspec": {
   "display_name": "tfGPU",
   "language": "python",
   "name": "tfgpu"
  },
  "language_info": {
   "codemirror_mode": {
    "name": "ipython",
    "version": 3
   },
   "file_extension": ".py",
   "mimetype": "text/x-python",
   "name": "python",
   "nbconvert_exporter": "python",
   "pygments_lexer": "ipython3",
   "version": "3.9.12"
  },
  "toc": {
   "base_numbering": 1,
   "nav_menu": {},
   "number_sections": true,
   "sideBar": true,
   "skip_h1_title": false,
   "title_cell": "Table of Contents",
   "title_sidebar": "Contents",
   "toc_cell": false,
   "toc_position": {},
   "toc_section_display": true,
   "toc_window_display": false
  },
  "varInspector": {
   "cols": {
    "lenName": 16,
    "lenType": 16,
    "lenVar": 40
   },
   "kernels_config": {
    "python": {
     "delete_cmd_postfix": "",
     "delete_cmd_prefix": "del ",
     "library": "var_list.py",
     "varRefreshCmd": "print(var_dic_list())"
    },
    "r": {
     "delete_cmd_postfix": ") ",
     "delete_cmd_prefix": "rm(",
     "library": "var_list.r",
     "varRefreshCmd": "cat(var_dic_list()) "
    }
   },
   "types_to_exclude": [
    "module",
    "function",
    "builtin_function_or_method",
    "instance",
    "_Feature"
   ],
   "window_display": false
  }
 },
 "nbformat": 4,
 "nbformat_minor": 5
}