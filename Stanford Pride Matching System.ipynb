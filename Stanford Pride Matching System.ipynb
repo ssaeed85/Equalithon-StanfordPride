{
 "cells": [
  {
   "cell_type": "markdown",
   "metadata": {
    "pycharm": {
     "name": "#%% md\n"
    }
   },
   "source": [
    "# Stanford Pride Database Matching System\n",
    "System to alleviate member attrition"
   ]
  },
  {
   "cell_type": "markdown",
   "metadata": {
    "pycharm": {
     "name": "#%% md\n"
    }
   },
   "source": [
    "<div>\n",
    "<img src=\"./Images/cropped-Stanford_Pride-S@2x.png\" width=\"300\" height = \"300\" />\n",
    "</div>"
   ]
  },
  {
   "cell_type": "markdown",
   "metadata": {
    "pycharm": {
     "name": "#%% md\n"
    }
   },
   "source": [
    "Authors: \n",
    "\n",
    "- Saad Saeed [Github](https://github.com/ssaeed85) | [LinkedIn](https://www.linkedin.com/in/saadsaeed85/)\n",
    "- Zach Rauch [Github](https://github.com/ZachRauch) | [LinkedIn](https://www.linkedin.com/in/zach-rauch/)\n",
    "- Hanis Zulmuthi [Github](https://github.com/hanis-z) | [LinkedIn](https://www.linkedin.com/in/hanis-zulmuthi/)\n",
    "\n",
    "- Xiaohua Su [Github](https://github.com/xiaohua-su) | [LinkedIn](https://www.linkedin.com/in/xiaohua-su/)"
   ]
  },
  {
   "cell_type": "markdown",
   "metadata": {
    "pycharm": {
     "name": "#%% md\n"
    }
   },
   "source": [
    "# Overview"
   ]
  },
  {
   "cell_type": "markdown",
   "metadata": {
    "pycharm": {
     "name": "#%% md\n"
    }
   },
   "source": [
    "Nonprofit organizations want to be able to bring new members and retain them.It is vital for organizations to keep in touch with its members who are the foundation to their networks through communications about events or news. Without any method of communication, members are\n",
    "no longer in touch with the organization, and its activities and are considered 'lost'. A common issue that some organizations may have is that the email provided to the organization as the main means of communication may no longer work or gets bounced once the individual graduates from said institution such as colleges, and or bootcamp. Usually, an individual might forget about updating it before they are far away. As such updating the contact method is critical to keep them in the network. Overtime, this 'lost' member issue will get larger and larger for the organization.\n",
    "\n",
    "The purpose of this project is to help Stanford Pride address such an issue. Stanford Pride currently has ~5000 members in their database. Unfortunately, Stanford Pride has lost contact with a small portion of its member. One way Stanford Pride recognizes that it has lost contact with a member that has not chosen to opt-out of newsletter is that the newsletters was bounced. According to Stanford Pride, their members are not all using the same platform. Some chose to have subscribed to either only emails, others are only on their Facebook, LinkedIn group and a small minority\n",
    "interacts with Stanford using multiple platform. As such, Stanford Pride hopes to be able to rectify the issue of lost members by\n",
    "updating the individual's contact information in order to bring/keep them in the network once again.\n",
    "\n",
    "Our goal for this project is to help Stanford Pride be able to update this information in a more efficient way. We improved the efficiency by using a cosine similar model to provide a list of individuals from the Stanford Pride database with the individual from their Mailchimp database. This way, the chair in-charge of updating their database does not need to look up multiple potential people on their Stanford Database before deciding if they are the same individual. They now have a list of potential matches with information about them to compare against.\n",
    "\n",
    "From Stanford Pride:\n",
    "> A nonprofit organization, such as Stanford Pride, strives by attracting and retaining members. \n",
    "> It is vital for the organization to stay in touch with its members. \n",
    "> The main means to achieve this is the sending of newsletters via e-mail. \n",
    "> Members are not likely to keep informed of the organization’s activity on their own. We only stay in their minds by regularly pushing news out to them.\n",
    "Members do not always subscribe to other sources of information about the organization’s activities. \n",
    "> For example, Stanford Pride has approximately 4,400 members in its database, out of which about 3,700 currently have valid e-mail addresses. \n",
    "> Only 1,600 are part of our Facebook group, and 400 in our LinkedIn group. \n",
    "> Therefore, our monthly e-mail newsletter is our sole means to reach about 2,100 members – almost half of our total membership.\n"
   ]
  },
  {
   "cell_type": "markdown",
   "metadata": {
    "pycharm": {
     "name": "#%% md\n"
    }
   },
   "source": [
    "# Methodology"
   ]
  },
  {
   "cell_type": "markdown",
   "metadata": {
    "pycharm": {
     "name": "#%% md\n"
    }
   },
   "source": [
    "In order to be able to tackle this issue, we received a database of their mailchimp and Stanford Pride.\n",
    "Due to the sensitive information in the data, we only received a csv file and an Excel file that contained\n",
    "the raw data's column names. From there, a fake dataset was created for them. In the datasets, we included some potential issues discussed as well as add some potential issues that we believe may appear down the line.How the fake dataset was created can be found [here](https://github.com/ssaeed85/Equalithon-team6/blob/main/FakeDataset.ipynb). Only the columns that had a match in the Mailchimp dataset were filled.\n",
    "\n",
    "Using the fake datasets, we decided to use cosine similarity to create a list of individuals that matched on the first name. A score of how similar all the records in the Stanford Pride database is produced out of the cosine model that will then be used to sort the list."
   ]
  },
  {
   "cell_type": "markdown",
   "metadata": {
    "pycharm": {
     "name": "#%% md\n"
    }
   },
   "source": [
    "## Imports"
   ]
  },
  {
   "cell_type": "code",
   "execution_count": 1,
   "metadata": {
    "ExecuteTime": {
     "end_time": "2022-06-27T19:07:12.453962Z",
     "start_time": "2022-06-27T19:07:12.327859Z"
    },
    "pycharm": {
     "name": "#%%\n"
    }
   },
   "outputs": [],
   "source": [
    "from sklearn.preprocessing import OneHotEncoder\n",
    "from sklearn.metrics.pairwise import cosine_similarity\n",
    "from sklearn.feature_extraction.text import CountVectorizer\n",
    "\n",
    "import regex as re\n",
    "import pandas as pd\n",
    "import numpy as np\n",
    "import random \n",
    "import pycountry\n",
    "np.random.seed = 42\n",
    "random.seed(42)\n",
    "\n",
    "pd.set_option('display.max_columns', None)\n",
    "pd.set_option('display.min_rows', 10)"
   ]
  },
  {
   "cell_type": "markdown",
   "metadata": {
    "pycharm": {
     "name": "#%% md\n"
    }
   },
   "source": []
  },
  {
   "cell_type": "code",
   "execution_count": 2,
   "metadata": {
    "ExecuteTime": {
     "end_time": "2022-06-27T19:07:14.888803Z",
     "start_time": "2022-06-27T19:07:14.823791Z"
    },
    "pycharm": {
     "name": "#%%\n"
    }
   },
   "outputs": [
    {
     "data": {
      "text/plain": "Empty DataFrame\nColumns: [Email Address, First Name, Last Name, Board Member, Gender, Chapter, Reunion Year, Country, Degree, MEMBER_RATING, OPTIN_TIME, OPTIN_IP, CONFIRM_TIME, CONFIRM_IP, LATITUDE, LONGITUDE, GMTOFF, DSTOFF, TIMEZONE, CC, REGION, CLEAN_TIME, CLEAN_CAMPAIGN_TITLE, CLEAN_CAMPAIGN_ID, LEID, EUID, NOTES, TAGS]\nIndex: []",
      "text/html": "<div>\n<style scoped>\n    .dataframe tbody tr th:only-of-type {\n        vertical-align: middle;\n    }\n\n    .dataframe tbody tr th {\n        vertical-align: top;\n    }\n\n    .dataframe thead th {\n        text-align: right;\n    }\n</style>\n<table border=\"1\" class=\"dataframe\">\n  <thead>\n    <tr style=\"text-align: right;\">\n      <th></th>\n      <th>Email Address</th>\n      <th>First Name</th>\n      <th>Last Name</th>\n      <th>Board Member</th>\n      <th>Gender</th>\n      <th>Chapter</th>\n      <th>Reunion Year</th>\n      <th>Country</th>\n      <th>Degree</th>\n      <th>MEMBER_RATING</th>\n      <th>OPTIN_TIME</th>\n      <th>OPTIN_IP</th>\n      <th>CONFIRM_TIME</th>\n      <th>CONFIRM_IP</th>\n      <th>LATITUDE</th>\n      <th>LONGITUDE</th>\n      <th>GMTOFF</th>\n      <th>DSTOFF</th>\n      <th>TIMEZONE</th>\n      <th>CC</th>\n      <th>REGION</th>\n      <th>CLEAN_TIME</th>\n      <th>CLEAN_CAMPAIGN_TITLE</th>\n      <th>CLEAN_CAMPAIGN_ID</th>\n      <th>LEID</th>\n      <th>EUID</th>\n      <th>NOTES</th>\n      <th>TAGS</th>\n    </tr>\n  </thead>\n  <tbody>\n  </tbody>\n</table>\n</div>"
     },
     "execution_count": 2,
     "metadata": {},
     "output_type": "execute_result"
    }
   ],
   "source": [
    "mailchimp_data = pd.read_csv('./data/MailChimp cleaned records headers.csv')\n",
    "pd.set_option('display.max_columns', None)\n",
    "pd.set_option('display.min_rows', 10)\n",
    "mailchimp_data"
   ]
  },
  {
   "cell_type": "markdown",
   "metadata": {
    "pycharm": {
     "name": "#%% md\n"
    }
   },
   "source": [
    "The mailchimp dataset is derived from the salesforce database. This Cleaned dataset would only include emails that have bounced for one reason or another. It will not include any members who have opted out of the email service or those that are receiving emails without any complications. It is important to note that updating information within salesforce for those who have opted out may re-instantiate the email services, so we are specifically working with cleaned/bounced records. Additionally, the datasets created for those who are Subscribed and Unsubscribed will have different column names than the Cleaned dataset here (ie Clean_Time, Clean_campaign_title, ect). Therefore, any function created here may not work for those datasets."
   ]
  },
  {
   "cell_type": "code",
   "execution_count": 3,
   "metadata": {
    "ExecuteTime": {
     "end_time": "2022-06-27T19:07:17.543950Z",
     "start_time": "2022-06-27T19:07:17.444496Z"
    },
    "pycharm": {
     "name": "#%%\n"
    }
   },
   "outputs": [
    {
     "data": {
      "text/plain": "Empty DataFrame\nColumns: [index, pref_mail_name, pref_class_year, home_city, home_state_code, home_country, home_phone_area_code, home_phone_number, home_email_address, bus_city, bus_state_code, bus_country, bus_phone_area_code, bus_phone_number, bus_email_address, first_name, last_name, pref_name_sort, email_switch, saa_email_address, gsb_email_address, other_email_address, pref_phone_area_code, pref_phone_number, pref_phone_addr_type, memb_status_desc, short_degree_string, parent_degree_string, short_degree_string_spouse, parent_degree_string_spouse, primary_sort_name, plan_name, primary_ind]\nIndex: []",
      "text/html": "<div>\n<style scoped>\n    .dataframe tbody tr th:only-of-type {\n        vertical-align: middle;\n    }\n\n    .dataframe tbody tr th {\n        vertical-align: top;\n    }\n\n    .dataframe thead th {\n        text-align: right;\n    }\n</style>\n<table border=\"1\" class=\"dataframe\">\n  <thead>\n    <tr style=\"text-align: right;\">\n      <th></th>\n      <th>index</th>\n      <th>pref_mail_name</th>\n      <th>pref_class_year</th>\n      <th>home_city</th>\n      <th>home_state_code</th>\n      <th>home_country</th>\n      <th>home_phone_area_code</th>\n      <th>home_phone_number</th>\n      <th>home_email_address</th>\n      <th>bus_city</th>\n      <th>bus_state_code</th>\n      <th>bus_country</th>\n      <th>bus_phone_area_code</th>\n      <th>bus_phone_number</th>\n      <th>bus_email_address</th>\n      <th>first_name</th>\n      <th>last_name</th>\n      <th>pref_name_sort</th>\n      <th>email_switch</th>\n      <th>saa_email_address</th>\n      <th>gsb_email_address</th>\n      <th>other_email_address</th>\n      <th>pref_phone_area_code</th>\n      <th>pref_phone_number</th>\n      <th>pref_phone_addr_type</th>\n      <th>memb_status_desc</th>\n      <th>short_degree_string</th>\n      <th>parent_degree_string</th>\n      <th>short_degree_string_spouse</th>\n      <th>parent_degree_string_spouse</th>\n      <th>primary_sort_name</th>\n      <th>plan_name</th>\n      <th>primary_ind</th>\n    </tr>\n  </thead>\n  <tbody>\n  </tbody>\n</table>\n</div>"
     },
     "execution_count": 3,
     "metadata": {},
     "output_type": "execute_result"
    }
   ],
   "source": [
    "saa_pride_data = pd.read_excel('./data/SAA Pride member reports headings.xlsx')\n",
    "saa_pride_data.reset_index(inplace = True)\n",
    "saa_pride_data"
   ]
  },
  {
   "cell_type": "markdown",
   "metadata": {
    "pycharm": {
     "name": "#%% md\n"
    }
   },
   "source": [
    "The Stanford Alumni Association has it's own dataset that may or may not have additional or more recent data on some members. It may also have outdated data. Students are given an email but when they become alumni the email needs to be updated. Whether it is updated to specifically an 'alumni.stanford.edu' address or to another would be at the students discrepancy and isn't always updated."
   ]
  },
  {
   "cell_type": "markdown",
   "metadata": {
    "pycharm": {
     "name": "#%% md\n"
    }
   },
   "source": [
    "## Helper Functions"
   ]
  },
  {
   "cell_type": "code",
   "execution_count": 4,
   "metadata": {
    "ExecuteTime": {
     "end_time": "2022-06-27T19:07:28.571436Z",
     "start_time": "2022-06-27T19:07:28.563458Z"
    },
    "pycharm": {
     "name": "#%%\n"
    }
   },
   "outputs": [],
   "source": [
    "def removeEmailDomain(email):\n",
    "    '''\n",
    "    removes the email portion of an email.\n",
    "    Ex. xxxx@gmail.com becomes xxxx\n",
    "    '''\n",
    "    email = str(email)\n",
    "    #if email string contains @ symbol return the handle\n",
    "    if email.find('@')>-1:\n",
    "        return email.split('@')[0]\n",
    "    else:\n",
    "        return 'n/a'"
   ]
  },
  {
   "cell_type": "code",
   "execution_count": 5,
   "metadata": {
    "ExecuteTime": {
     "end_time": "2022-06-27T19:07:30.021880Z",
     "start_time": "2022-06-27T19:07:30.000916Z"
    },
    "pycharm": {
     "name": "#%%\n"
    }
   },
   "outputs": [],
   "source": [
    "def mapCountry(countryStr):\n",
    "    '''\n",
    "    Maps a Country\n",
    "    '''\n",
    "    if countryStr not in [np.nan, None, 'nan','*', '','N/A','n/a']:\n",
    "        return pycountry.countries.search_fuzzy(countryStr)[0].alpha_3\n",
    "    return 'n/a'"
   ]
  },
  {
   "cell_type": "code",
   "execution_count": 6,
   "metadata": {
    "ExecuteTime": {
     "end_time": "2022-06-27T19:07:31.553505Z",
     "start_time": "2022-06-27T19:07:31.544527Z"
    },
    "pycharm": {
     "name": "#%%\n"
    }
   },
   "outputs": [],
   "source": [
    "def ohe(df, column): \n",
    "    '''\n",
    "    Converts the strings in a column into their own columns\n",
    "    '''\n",
    "    for col in column:\n",
    "        train = df[[col]]\n",
    "        ohe = OneHotEncoder(sparse=False, handle_unknown=\"error\")\n",
    "        ohe.fit(train)\n",
    "        encoded_train = ohe.transform(train)\n",
    "        col_names = [f\"{col}_{f}\" for f in ohe.get_feature_names()]\n",
    "        encoded_train = pd.DataFrame(encoded_train,\n",
    "                                     columns=col_names, index=df.index)\n",
    "        df = pd.concat([df, encoded_train], axis=1)\n",
    "        \n",
    "    return df"
   ]
  },
  {
   "cell_type": "code",
   "execution_count": 7,
   "metadata": {
    "ExecuteTime": {
     "end_time": "2022-06-27T19:36:58.452141Z",
     "start_time": "2022-06-27T19:36:58.442187Z"
    },
    "pycharm": {
     "name": "#%%\n"
    }
   },
   "outputs": [],
   "source": [
    "def parseDegreeCol(df,deg_colName='short_degree_string'):\n",
    "    '''\n",
    "    OHE the degrees in the fake Stanford Database\n",
    "    '''\n",
    "    vectorizer = CountVectorizer()\n",
    "    \n",
    "    t = vectorizer.fit_transform(df[deg_colName])\n",
    "    \n",
    "    # Remove original degree column from original dataframe\n",
    "    df = df.drop(columns=[deg_colName])\n",
    "    \n",
    "    # Create new vectorized degree columns and concatenate\n",
    "    deg_df =  pd.DataFrame(t.toarray(),columns=vectorizer.get_feature_names(),index = df.index)\n",
    "    if 'nan' in deg_df.columns:\n",
    "        deg_df.drop(columns = 'nan')\n",
    "    return pd.concat([df,deg_df],axis = 1).fillna(0)"
   ]
  },
  {
   "cell_type": "code",
   "execution_count": 8,
   "metadata": {
    "ExecuteTime": {
     "end_time": "2022-06-27T19:07:59.613004Z",
     "start_time": "2022-06-27T19:07:59.593618Z"
    },
    "pycharm": {
     "name": "#%%\n"
    }
   },
   "outputs": [],
   "source": [
    "def cleanDegreeStr(degree):\n",
    "    '''\n",
    "    Clean the degree strings to allow for better handling\n",
    "    '''\n",
    "    no_nums_puncs = re.sub('[;,\\'*0-9]', ' ', degree).strip()\n",
    "    return re.sub('[ ]+', ' ', no_nums_puncs).strip()"
   ]
  },
  {
   "cell_type": "markdown",
   "metadata": {
    "pycharm": {
     "name": "#%% md\n"
    }
   },
   "source": [
    "### Pokemon Data"
   ]
  },
  {
   "cell_type": "code",
   "execution_count": 9,
   "metadata": {
    "ExecuteTime": {
     "end_time": "2022-06-27T19:20:44.149945Z",
     "start_time": "2022-06-27T19:20:42.878330Z"
    },
    "pycharm": {
     "name": "#%%\n"
    }
   },
   "outputs": [
    {
     "data": {
      "text/plain": "      pref_mail_name  pref_class_year home_city home_state_code home_country  \\\n0                NaN           2004.0  Shanghai             NaN            *   \n1                NaN              NaN    Madrid             NaN        China   \n2                NaN              NaN     Seoul             NaN       Kuwait   \n3                NaN              NaN    London             NaN          NaN   \n4                NaN              NaN    London             NaN          USA   \n...              ...              ...       ...             ...          ...   \n3995             NaN              NaN    Boston              MA        Japan   \n3996             NaN           2000.0  Shanghai             NaN          NaN   \n3997             NaN              NaN       NaN             NaN       Kuwait   \n3998             NaN              NaN       NaN             NaN        Japan   \n3999             NaN              NaN    Boston              MA          USA   \n\n      home_phone_area_code home_phone_number  \\\n0                      NaN                 *   \n1                      NaN               NaN   \n2                      NaN               NaN   \n3                      NaN                 *   \n4                      NaN      775 0678-214   \n...                    ...               ...   \n3995                   NaN               NaN   \n3996                   NaN                 *   \n3997                   NaN               NaN   \n3998                   NaN               NaN   \n3999                   NaN               NaN   \n\n                               home_email_address  bus_city  bus_state_code  \\\n0                                             NaN       NaN             NaN   \n1                  weedleg4046@stanfordalumni.org       NaN             NaN   \n2     aerodactyl.electric2974@alumni.stanford.edu       NaN             NaN   \n3                                               *       NaN             NaN   \n4                                               *       NaN             NaN   \n...                                           ...       ...             ...   \n3995                                            *       NaN             NaN   \n3996        kabutops.steel1285@stanfordalumni.org       NaN             NaN   \n3997                                            *       NaN             NaN   \n3998     larvitar.electric9778@stanfordalumni.org       NaN             NaN   \n3999                                            *       NaN             NaN   \n\n        bus_country  bus_phone_area_code  bus_phone_number  \\\n0               NaN                  NaN               NaN   \n1             China                  NaN               NaN   \n2            Kuwait                  NaN               NaN   \n3             Japan                  NaN               NaN   \n4               NaN                  NaN               NaN   \n...             ...                  ...               ...   \n3995            NaN                  NaN               NaN   \n3996          China                  NaN               NaN   \n3997            NaN                  NaN               NaN   \n3998  United States                  NaN               NaN   \n3999         Kuwait                  NaN               NaN   \n\n         bus_email_address  first_name last_name  pref_name_sort  \\\n0                      NaN   Growlithe       Ice             NaN   \n1                      NaN      Weedle     Grass             NaN   \n2                      NaN  Aerodactyl  Electric             NaN   \n3                      NaN      Pinsir      Fire             NaN   \n4                      NaN      Horsea       Ice             NaN   \n...                    ...         ...       ...             ...   \n3995                   NaN    Smeargle  Electric             NaN   \n3996                   NaN    Kabutops     Steel             NaN   \n3997                   NaN    Slowking    Dragon             NaN   \n3998                   NaN    Larvitar  Electric             NaN   \n3999  u.dark7601@gmail.com    Ursaring      Dark             NaN   \n\n                           email_switch                     saa_email_address  \\\n0                                   NaN                                     *   \n1                                   NaN       w.grass5053@alumni.stanford.edu   \n2                                   NaN                                     *   \n3              pinsirfire4582@gmail.com                                     *   \n4           hice7313@stanfordalumni.org                                   NaN   \n...                                 ...                                   ...   \n3995     smeargleelectric9444@gmail.com                                     *   \n3996    k.steel5317@alumni.stanford.edu                                   NaN   \n3997                                NaN      slowkingd5563@stanfordalumni.org   \n3998  l.electric7920@stanfordalumni.org                                   NaN   \n3999      u.dark1814@stanfordalumni.org  ursaring.dark7398@stanfordalumni.org   \n\n     gsb_email_address  other_email_address  pref_phone_area_code  \\\n0                  NaN                  NaN                   NaN   \n1                  NaN                  NaN                   NaN   \n2                  NaN                  NaN                   NaN   \n3                  NaN                  NaN                   NaN   \n4                  NaN                  NaN                   NaN   \n...                ...                  ...                   ...   \n3995               NaN                  NaN                   NaN   \n3996               NaN                  NaN                   NaN   \n3997               NaN                  NaN                   NaN   \n3998               NaN                  NaN                   NaN   \n3999               NaN                  NaN                   NaN   \n\n      pref_phone_number  pref_phone_addr_type  memb_status_desc  \\\n0                   NaN                   NaN               NaN   \n1                   NaN                   NaN               NaN   \n2                   NaN                   NaN               NaN   \n3                   NaN                   NaN               NaN   \n4                   NaN                   NaN               NaN   \n...                 ...                   ...               ...   \n3995                NaN                   NaN               NaN   \n3996                NaN                   NaN               NaN   \n3997                NaN                   NaN               NaN   \n3998                NaN                   NaN               NaN   \n3999                NaN                   NaN               NaN   \n\n       short_degree_string  parent_degree_string  short_degree_string_spouse  \\\n0                      NaN                   NaN                         NaN   \n1                      '82                   NaN                         NaN   \n2                      NaN                   NaN                         NaN   \n3          JD '94, PhD '97                   NaN                         NaN   \n4                      NaN                   NaN                         NaN   \n...                    ...                   ...                         ...   \n3995      PhD '96, MBA '87                   NaN                         NaN   \n3996                BS '93                   NaN                         NaN   \n3997       PhD '84, JD '93                   NaN                         NaN   \n3998  MBA '92, '98, JD '86                   NaN                         NaN   \n3999       BS '94, PhD '97                   NaN                         NaN   \n\n      parent_degree_string_spouse  primary_sort_name  plan_name  primary_ind  \n0                             NaN                NaN        NaN          NaN  \n1                             NaN                NaN        NaN          NaN  \n2                             NaN                NaN        NaN          NaN  \n3                             NaN                NaN        NaN          NaN  \n4                             NaN                NaN        NaN          NaN  \n...                           ...                ...        ...          ...  \n3995                          NaN                NaN        NaN          NaN  \n3996                          NaN                NaN        NaN          NaN  \n3997                          NaN                NaN        NaN          NaN  \n3998                          NaN                NaN        NaN          NaN  \n3999                          NaN                NaN        NaN          NaN  \n\n[4000 rows x 32 columns]",
      "text/html": "<div>\n<style scoped>\n    .dataframe tbody tr th:only-of-type {\n        vertical-align: middle;\n    }\n\n    .dataframe tbody tr th {\n        vertical-align: top;\n    }\n\n    .dataframe thead th {\n        text-align: right;\n    }\n</style>\n<table border=\"1\" class=\"dataframe\">\n  <thead>\n    <tr style=\"text-align: right;\">\n      <th></th>\n      <th>pref_mail_name</th>\n      <th>pref_class_year</th>\n      <th>home_city</th>\n      <th>home_state_code</th>\n      <th>home_country</th>\n      <th>home_phone_area_code</th>\n      <th>home_phone_number</th>\n      <th>home_email_address</th>\n      <th>bus_city</th>\n      <th>bus_state_code</th>\n      <th>bus_country</th>\n      <th>bus_phone_area_code</th>\n      <th>bus_phone_number</th>\n      <th>bus_email_address</th>\n      <th>first_name</th>\n      <th>last_name</th>\n      <th>pref_name_sort</th>\n      <th>email_switch</th>\n      <th>saa_email_address</th>\n      <th>gsb_email_address</th>\n      <th>other_email_address</th>\n      <th>pref_phone_area_code</th>\n      <th>pref_phone_number</th>\n      <th>pref_phone_addr_type</th>\n      <th>memb_status_desc</th>\n      <th>short_degree_string</th>\n      <th>parent_degree_string</th>\n      <th>short_degree_string_spouse</th>\n      <th>parent_degree_string_spouse</th>\n      <th>primary_sort_name</th>\n      <th>plan_name</th>\n      <th>primary_ind</th>\n    </tr>\n  </thead>\n  <tbody>\n    <tr>\n      <th>0</th>\n      <td>NaN</td>\n      <td>2004.0</td>\n      <td>Shanghai</td>\n      <td>NaN</td>\n      <td>*</td>\n      <td>NaN</td>\n      <td>*</td>\n      <td>NaN</td>\n      <td>NaN</td>\n      <td>NaN</td>\n      <td>NaN</td>\n      <td>NaN</td>\n      <td>NaN</td>\n      <td>NaN</td>\n      <td>Growlithe</td>\n      <td>Ice</td>\n      <td>NaN</td>\n      <td>NaN</td>\n      <td>*</td>\n      <td>NaN</td>\n      <td>NaN</td>\n      <td>NaN</td>\n      <td>NaN</td>\n      <td>NaN</td>\n      <td>NaN</td>\n      <td>NaN</td>\n      <td>NaN</td>\n      <td>NaN</td>\n      <td>NaN</td>\n      <td>NaN</td>\n      <td>NaN</td>\n      <td>NaN</td>\n    </tr>\n    <tr>\n      <th>1</th>\n      <td>NaN</td>\n      <td>NaN</td>\n      <td>Madrid</td>\n      <td>NaN</td>\n      <td>China</td>\n      <td>NaN</td>\n      <td>NaN</td>\n      <td>weedleg4046@stanfordalumni.org</td>\n      <td>NaN</td>\n      <td>NaN</td>\n      <td>China</td>\n      <td>NaN</td>\n      <td>NaN</td>\n      <td>NaN</td>\n      <td>Weedle</td>\n      <td>Grass</td>\n      <td>NaN</td>\n      <td>NaN</td>\n      <td>w.grass5053@alumni.stanford.edu</td>\n      <td>NaN</td>\n      <td>NaN</td>\n      <td>NaN</td>\n      <td>NaN</td>\n      <td>NaN</td>\n      <td>NaN</td>\n      <td>'82</td>\n      <td>NaN</td>\n      <td>NaN</td>\n      <td>NaN</td>\n      <td>NaN</td>\n      <td>NaN</td>\n      <td>NaN</td>\n    </tr>\n    <tr>\n      <th>2</th>\n      <td>NaN</td>\n      <td>NaN</td>\n      <td>Seoul</td>\n      <td>NaN</td>\n      <td>Kuwait</td>\n      <td>NaN</td>\n      <td>NaN</td>\n      <td>aerodactyl.electric2974@alumni.stanford.edu</td>\n      <td>NaN</td>\n      <td>NaN</td>\n      <td>Kuwait</td>\n      <td>NaN</td>\n      <td>NaN</td>\n      <td>NaN</td>\n      <td>Aerodactyl</td>\n      <td>Electric</td>\n      <td>NaN</td>\n      <td>NaN</td>\n      <td>*</td>\n      <td>NaN</td>\n      <td>NaN</td>\n      <td>NaN</td>\n      <td>NaN</td>\n      <td>NaN</td>\n      <td>NaN</td>\n      <td>NaN</td>\n      <td>NaN</td>\n      <td>NaN</td>\n      <td>NaN</td>\n      <td>NaN</td>\n      <td>NaN</td>\n      <td>NaN</td>\n    </tr>\n    <tr>\n      <th>3</th>\n      <td>NaN</td>\n      <td>NaN</td>\n      <td>London</td>\n      <td>NaN</td>\n      <td>NaN</td>\n      <td>NaN</td>\n      <td>*</td>\n      <td>*</td>\n      <td>NaN</td>\n      <td>NaN</td>\n      <td>Japan</td>\n      <td>NaN</td>\n      <td>NaN</td>\n      <td>NaN</td>\n      <td>Pinsir</td>\n      <td>Fire</td>\n      <td>NaN</td>\n      <td>pinsirfire4582@gmail.com</td>\n      <td>*</td>\n      <td>NaN</td>\n      <td>NaN</td>\n      <td>NaN</td>\n      <td>NaN</td>\n      <td>NaN</td>\n      <td>NaN</td>\n      <td>JD '94, PhD '97</td>\n      <td>NaN</td>\n      <td>NaN</td>\n      <td>NaN</td>\n      <td>NaN</td>\n      <td>NaN</td>\n      <td>NaN</td>\n    </tr>\n    <tr>\n      <th>4</th>\n      <td>NaN</td>\n      <td>NaN</td>\n      <td>London</td>\n      <td>NaN</td>\n      <td>USA</td>\n      <td>NaN</td>\n      <td>775 0678-214</td>\n      <td>*</td>\n      <td>NaN</td>\n      <td>NaN</td>\n      <td>NaN</td>\n      <td>NaN</td>\n      <td>NaN</td>\n      <td>NaN</td>\n      <td>Horsea</td>\n      <td>Ice</td>\n      <td>NaN</td>\n      <td>hice7313@stanfordalumni.org</td>\n      <td>NaN</td>\n      <td>NaN</td>\n      <td>NaN</td>\n      <td>NaN</td>\n      <td>NaN</td>\n      <td>NaN</td>\n      <td>NaN</td>\n      <td>NaN</td>\n      <td>NaN</td>\n      <td>NaN</td>\n      <td>NaN</td>\n      <td>NaN</td>\n      <td>NaN</td>\n      <td>NaN</td>\n    </tr>\n    <tr>\n      <th>...</th>\n      <td>...</td>\n      <td>...</td>\n      <td>...</td>\n      <td>...</td>\n      <td>...</td>\n      <td>...</td>\n      <td>...</td>\n      <td>...</td>\n      <td>...</td>\n      <td>...</td>\n      <td>...</td>\n      <td>...</td>\n      <td>...</td>\n      <td>...</td>\n      <td>...</td>\n      <td>...</td>\n      <td>...</td>\n      <td>...</td>\n      <td>...</td>\n      <td>...</td>\n      <td>...</td>\n      <td>...</td>\n      <td>...</td>\n      <td>...</td>\n      <td>...</td>\n      <td>...</td>\n      <td>...</td>\n      <td>...</td>\n      <td>...</td>\n      <td>...</td>\n      <td>...</td>\n      <td>...</td>\n    </tr>\n    <tr>\n      <th>3995</th>\n      <td>NaN</td>\n      <td>NaN</td>\n      <td>Boston</td>\n      <td>MA</td>\n      <td>Japan</td>\n      <td>NaN</td>\n      <td>NaN</td>\n      <td>*</td>\n      <td>NaN</td>\n      <td>NaN</td>\n      <td>NaN</td>\n      <td>NaN</td>\n      <td>NaN</td>\n      <td>NaN</td>\n      <td>Smeargle</td>\n      <td>Electric</td>\n      <td>NaN</td>\n      <td>smeargleelectric9444@gmail.com</td>\n      <td>*</td>\n      <td>NaN</td>\n      <td>NaN</td>\n      <td>NaN</td>\n      <td>NaN</td>\n      <td>NaN</td>\n      <td>NaN</td>\n      <td>PhD '96, MBA '87</td>\n      <td>NaN</td>\n      <td>NaN</td>\n      <td>NaN</td>\n      <td>NaN</td>\n      <td>NaN</td>\n      <td>NaN</td>\n    </tr>\n    <tr>\n      <th>3996</th>\n      <td>NaN</td>\n      <td>2000.0</td>\n      <td>Shanghai</td>\n      <td>NaN</td>\n      <td>NaN</td>\n      <td>NaN</td>\n      <td>*</td>\n      <td>kabutops.steel1285@stanfordalumni.org</td>\n      <td>NaN</td>\n      <td>NaN</td>\n      <td>China</td>\n      <td>NaN</td>\n      <td>NaN</td>\n      <td>NaN</td>\n      <td>Kabutops</td>\n      <td>Steel</td>\n      <td>NaN</td>\n      <td>k.steel5317@alumni.stanford.edu</td>\n      <td>NaN</td>\n      <td>NaN</td>\n      <td>NaN</td>\n      <td>NaN</td>\n      <td>NaN</td>\n      <td>NaN</td>\n      <td>NaN</td>\n      <td>BS '93</td>\n      <td>NaN</td>\n      <td>NaN</td>\n      <td>NaN</td>\n      <td>NaN</td>\n      <td>NaN</td>\n      <td>NaN</td>\n    </tr>\n    <tr>\n      <th>3997</th>\n      <td>NaN</td>\n      <td>NaN</td>\n      <td>NaN</td>\n      <td>NaN</td>\n      <td>Kuwait</td>\n      <td>NaN</td>\n      <td>NaN</td>\n      <td>*</td>\n      <td>NaN</td>\n      <td>NaN</td>\n      <td>NaN</td>\n      <td>NaN</td>\n      <td>NaN</td>\n      <td>NaN</td>\n      <td>Slowking</td>\n      <td>Dragon</td>\n      <td>NaN</td>\n      <td>NaN</td>\n      <td>slowkingd5563@stanfordalumni.org</td>\n      <td>NaN</td>\n      <td>NaN</td>\n      <td>NaN</td>\n      <td>NaN</td>\n      <td>NaN</td>\n      <td>NaN</td>\n      <td>PhD '84, JD '93</td>\n      <td>NaN</td>\n      <td>NaN</td>\n      <td>NaN</td>\n      <td>NaN</td>\n      <td>NaN</td>\n      <td>NaN</td>\n    </tr>\n    <tr>\n      <th>3998</th>\n      <td>NaN</td>\n      <td>NaN</td>\n      <td>NaN</td>\n      <td>NaN</td>\n      <td>Japan</td>\n      <td>NaN</td>\n      <td>NaN</td>\n      <td>larvitar.electric9778@stanfordalumni.org</td>\n      <td>NaN</td>\n      <td>NaN</td>\n      <td>United States</td>\n      <td>NaN</td>\n      <td>NaN</td>\n      <td>NaN</td>\n      <td>Larvitar</td>\n      <td>Electric</td>\n      <td>NaN</td>\n      <td>l.electric7920@stanfordalumni.org</td>\n      <td>NaN</td>\n      <td>NaN</td>\n      <td>NaN</td>\n      <td>NaN</td>\n      <td>NaN</td>\n      <td>NaN</td>\n      <td>NaN</td>\n      <td>MBA '92, '98, JD '86</td>\n      <td>NaN</td>\n      <td>NaN</td>\n      <td>NaN</td>\n      <td>NaN</td>\n      <td>NaN</td>\n      <td>NaN</td>\n    </tr>\n    <tr>\n      <th>3999</th>\n      <td>NaN</td>\n      <td>NaN</td>\n      <td>Boston</td>\n      <td>MA</td>\n      <td>USA</td>\n      <td>NaN</td>\n      <td>NaN</td>\n      <td>*</td>\n      <td>NaN</td>\n      <td>NaN</td>\n      <td>Kuwait</td>\n      <td>NaN</td>\n      <td>NaN</td>\n      <td>u.dark7601@gmail.com</td>\n      <td>Ursaring</td>\n      <td>Dark</td>\n      <td>NaN</td>\n      <td>u.dark1814@stanfordalumni.org</td>\n      <td>ursaring.dark7398@stanfordalumni.org</td>\n      <td>NaN</td>\n      <td>NaN</td>\n      <td>NaN</td>\n      <td>NaN</td>\n      <td>NaN</td>\n      <td>NaN</td>\n      <td>BS '94, PhD '97</td>\n      <td>NaN</td>\n      <td>NaN</td>\n      <td>NaN</td>\n      <td>NaN</td>\n      <td>NaN</td>\n      <td>NaN</td>\n    </tr>\n  </tbody>\n</table>\n<p>4000 rows × 32 columns</p>\n</div>"
     },
     "execution_count": 9,
     "metadata": {},
     "output_type": "execute_result"
    }
   ],
   "source": [
    "# read in our fake Stanford dataset\n",
    "df_saa_original = pd.read_excel('./data/SAA_Pokemon_FakeDB.xlsx')\n",
    "df_saa_original"
   ]
  },
  {
   "cell_type": "markdown",
   "metadata": {
    "pycharm": {
     "name": "#%% md\n"
    }
   },
   "source": [
    "# Preprocess SAA dataframe"
   ]
  },
  {
   "cell_type": "markdown",
   "metadata": {
    "pycharm": {
     "name": "#%% md\n"
    }
   },
   "source": [
    "Since the SAA dataset contain more information than the Mailchimp, we will only select the relevant information (columns). Not only that, but by limiting it to just relevant information, when we have to convert the Mailchimp point to have the same information as those in Stanford dataset; fewer nulls will be filled in. In addition, this will help with the speed of any process that will be performed later on as well since there is less information."
   ]
  },
  {
   "cell_type": "code",
   "execution_count": 10,
   "metadata": {
    "ExecuteTime": {
     "end_time": "2022-06-27T19:20:45.506019Z",
     "start_time": "2022-06-27T19:20:45.477084Z"
    },
    "pycharm": {
     "name": "#%%\n"
    }
   },
   "outputs": [
    {
     "data": {
      "text/plain": "      first_name last_name home_country  \\\n0      Growlithe       Ice            *   \n1         Weedle     Grass        China   \n2     Aerodactyl  Electric       Kuwait   \n3         Pinsir      Fire          NaN   \n4         Horsea       Ice          USA   \n...          ...       ...          ...   \n3995    Smeargle  Electric        Japan   \n3996    Kabutops     Steel          NaN   \n3997    Slowking    Dragon       Kuwait   \n3998    Larvitar  Electric        Japan   \n3999    Ursaring      Dark          USA   \n\n                               home_email_address   short_degree_string  \\\n0                                             NaN                   NaN   \n1                  weedleg4046@stanfordalumni.org                   '82   \n2     aerodactyl.electric2974@alumni.stanford.edu                   NaN   \n3                                               *       JD '94, PhD '97   \n4                                               *                   NaN   \n...                                           ...                   ...   \n3995                                            *      PhD '96, MBA '87   \n3996        kabutops.steel1285@stanfordalumni.org                BS '93   \n3997                                            *       PhD '84, JD '93   \n3998     larvitar.electric9778@stanfordalumni.org  MBA '92, '98, JD '86   \n3999                                            *       BS '94, PhD '97   \n\n         bus_email_address    bus_country                       email_switch  \\\n0                      NaN            NaN                                NaN   \n1                      NaN          China                                NaN   \n2                      NaN         Kuwait                                NaN   \n3                      NaN          Japan           pinsirfire4582@gmail.com   \n4                      NaN            NaN        hice7313@stanfordalumni.org   \n...                    ...            ...                                ...   \n3995                   NaN            NaN     smeargleelectric9444@gmail.com   \n3996                   NaN          China    k.steel5317@alumni.stanford.edu   \n3997                   NaN            NaN                                NaN   \n3998                   NaN  United States  l.electric7920@stanfordalumni.org   \n3999  u.dark7601@gmail.com         Kuwait      u.dark1814@stanfordalumni.org   \n\n                         saa_email_address gsb_email_address  \\\n0                                        *               NaN   \n1          w.grass5053@alumni.stanford.edu               NaN   \n2                                        *               NaN   \n3                                        *               NaN   \n4                                      NaN               NaN   \n...                                    ...               ...   \n3995                                     *               NaN   \n3996                                   NaN               NaN   \n3997      slowkingd5563@stanfordalumni.org               NaN   \n3998                                   NaN               NaN   \n3999  ursaring.dark7398@stanfordalumni.org               NaN   \n\n      other_email_address  \n0                     NaN  \n1                     NaN  \n2                     NaN  \n3                     NaN  \n4                     NaN  \n...                   ...  \n3995                  NaN  \n3996                  NaN  \n3997                  NaN  \n3998                  NaN  \n3999                  NaN  \n\n[4000 rows x 11 columns]",
      "text/html": "<div>\n<style scoped>\n    .dataframe tbody tr th:only-of-type {\n        vertical-align: middle;\n    }\n\n    .dataframe tbody tr th {\n        vertical-align: top;\n    }\n\n    .dataframe thead th {\n        text-align: right;\n    }\n</style>\n<table border=\"1\" class=\"dataframe\">\n  <thead>\n    <tr style=\"text-align: right;\">\n      <th></th>\n      <th>first_name</th>\n      <th>last_name</th>\n      <th>home_country</th>\n      <th>home_email_address</th>\n      <th>short_degree_string</th>\n      <th>bus_email_address</th>\n      <th>bus_country</th>\n      <th>email_switch</th>\n      <th>saa_email_address</th>\n      <th>gsb_email_address</th>\n      <th>other_email_address</th>\n    </tr>\n  </thead>\n  <tbody>\n    <tr>\n      <th>0</th>\n      <td>Growlithe</td>\n      <td>Ice</td>\n      <td>*</td>\n      <td>NaN</td>\n      <td>NaN</td>\n      <td>NaN</td>\n      <td>NaN</td>\n      <td>NaN</td>\n      <td>*</td>\n      <td>NaN</td>\n      <td>NaN</td>\n    </tr>\n    <tr>\n      <th>1</th>\n      <td>Weedle</td>\n      <td>Grass</td>\n      <td>China</td>\n      <td>weedleg4046@stanfordalumni.org</td>\n      <td>'82</td>\n      <td>NaN</td>\n      <td>China</td>\n      <td>NaN</td>\n      <td>w.grass5053@alumni.stanford.edu</td>\n      <td>NaN</td>\n      <td>NaN</td>\n    </tr>\n    <tr>\n      <th>2</th>\n      <td>Aerodactyl</td>\n      <td>Electric</td>\n      <td>Kuwait</td>\n      <td>aerodactyl.electric2974@alumni.stanford.edu</td>\n      <td>NaN</td>\n      <td>NaN</td>\n      <td>Kuwait</td>\n      <td>NaN</td>\n      <td>*</td>\n      <td>NaN</td>\n      <td>NaN</td>\n    </tr>\n    <tr>\n      <th>3</th>\n      <td>Pinsir</td>\n      <td>Fire</td>\n      <td>NaN</td>\n      <td>*</td>\n      <td>JD '94, PhD '97</td>\n      <td>NaN</td>\n      <td>Japan</td>\n      <td>pinsirfire4582@gmail.com</td>\n      <td>*</td>\n      <td>NaN</td>\n      <td>NaN</td>\n    </tr>\n    <tr>\n      <th>4</th>\n      <td>Horsea</td>\n      <td>Ice</td>\n      <td>USA</td>\n      <td>*</td>\n      <td>NaN</td>\n      <td>NaN</td>\n      <td>NaN</td>\n      <td>hice7313@stanfordalumni.org</td>\n      <td>NaN</td>\n      <td>NaN</td>\n      <td>NaN</td>\n    </tr>\n    <tr>\n      <th>...</th>\n      <td>...</td>\n      <td>...</td>\n      <td>...</td>\n      <td>...</td>\n      <td>...</td>\n      <td>...</td>\n      <td>...</td>\n      <td>...</td>\n      <td>...</td>\n      <td>...</td>\n      <td>...</td>\n    </tr>\n    <tr>\n      <th>3995</th>\n      <td>Smeargle</td>\n      <td>Electric</td>\n      <td>Japan</td>\n      <td>*</td>\n      <td>PhD '96, MBA '87</td>\n      <td>NaN</td>\n      <td>NaN</td>\n      <td>smeargleelectric9444@gmail.com</td>\n      <td>*</td>\n      <td>NaN</td>\n      <td>NaN</td>\n    </tr>\n    <tr>\n      <th>3996</th>\n      <td>Kabutops</td>\n      <td>Steel</td>\n      <td>NaN</td>\n      <td>kabutops.steel1285@stanfordalumni.org</td>\n      <td>BS '93</td>\n      <td>NaN</td>\n      <td>China</td>\n      <td>k.steel5317@alumni.stanford.edu</td>\n      <td>NaN</td>\n      <td>NaN</td>\n      <td>NaN</td>\n    </tr>\n    <tr>\n      <th>3997</th>\n      <td>Slowking</td>\n      <td>Dragon</td>\n      <td>Kuwait</td>\n      <td>*</td>\n      <td>PhD '84, JD '93</td>\n      <td>NaN</td>\n      <td>NaN</td>\n      <td>NaN</td>\n      <td>slowkingd5563@stanfordalumni.org</td>\n      <td>NaN</td>\n      <td>NaN</td>\n    </tr>\n    <tr>\n      <th>3998</th>\n      <td>Larvitar</td>\n      <td>Electric</td>\n      <td>Japan</td>\n      <td>larvitar.electric9778@stanfordalumni.org</td>\n      <td>MBA '92, '98, JD '86</td>\n      <td>NaN</td>\n      <td>United States</td>\n      <td>l.electric7920@stanfordalumni.org</td>\n      <td>NaN</td>\n      <td>NaN</td>\n      <td>NaN</td>\n    </tr>\n    <tr>\n      <th>3999</th>\n      <td>Ursaring</td>\n      <td>Dark</td>\n      <td>USA</td>\n      <td>*</td>\n      <td>BS '94, PhD '97</td>\n      <td>u.dark7601@gmail.com</td>\n      <td>Kuwait</td>\n      <td>u.dark1814@stanfordalumni.org</td>\n      <td>ursaring.dark7398@stanfordalumni.org</td>\n      <td>NaN</td>\n      <td>NaN</td>\n    </tr>\n  </tbody>\n</table>\n<p>4000 rows × 11 columns</p>\n</div>"
     },
     "execution_count": 10,
     "metadata": {},
     "output_type": "execute_result"
    }
   ],
   "source": [
    "# Filter necessary columns\n",
    "df_saa = df_saa_original.filter(['first_name', 'last_name',\n",
    "                        'home_country', 'home_email_address', 'short_degree_string',\n",
    "                        'bus_email_address', 'bus_country', 'email_switch',\n",
    "                        'saa_email_address', 'gsb_email_address', 'other_email_address'])\n",
    "df_saa"
   ]
  },
  {
   "cell_type": "code",
   "execution_count": 11,
   "metadata": {
    "ExecuteTime": {
     "end_time": "2022-06-27T19:20:46.864193Z",
     "start_time": "2022-06-27T19:20:46.825095Z"
    },
    "scrolled": true,
    "pycharm": {
     "name": "#%%\n"
    }
   },
   "outputs": [
    {
     "data": {
      "text/plain": "      first_name last_name home_country  \\\n0      Growlithe       Ice            *   \n1         Weedle     Grass        China   \n2     Aerodactyl  Electric       Kuwait   \n3         Pinsir      Fire          n/a   \n4         Horsea       Ice          USA   \n...          ...       ...          ...   \n3995    Smeargle  Electric        Japan   \n3996    Kabutops     Steel          n/a   \n3997    Slowking    Dragon       Kuwait   \n3998    Larvitar  Electric        Japan   \n3999    Ursaring      Dark          USA   \n\n                               home_email_address   short_degree_string  \\\n0                                             n/a                   n/a   \n1                  weedleg4046@stanfordalumni.org                   '82   \n2     aerodactyl.electric2974@alumni.stanford.edu                   n/a   \n3                                               *       JD '94, PhD '97   \n4                                               *                   n/a   \n...                                           ...                   ...   \n3995                                            *      PhD '96, MBA '87   \n3996        kabutops.steel1285@stanfordalumni.org                BS '93   \n3997                                            *       PhD '84, JD '93   \n3998     larvitar.electric9778@stanfordalumni.org  MBA '92, '98, JD '86   \n3999                                            *       BS '94, PhD '97   \n\n         bus_email_address    bus_country                       email_switch  \\\n0                      n/a            n/a                                n/a   \n1                      n/a          China                                n/a   \n2                      n/a         Kuwait                                n/a   \n3                      n/a          Japan           pinsirfire4582@gmail.com   \n4                      n/a            n/a        hice7313@stanfordalumni.org   \n...                    ...            ...                                ...   \n3995                   n/a            n/a     smeargleelectric9444@gmail.com   \n3996                   n/a          China    k.steel5317@alumni.stanford.edu   \n3997                   n/a            n/a                                n/a   \n3998                   n/a  United States  l.electric7920@stanfordalumni.org   \n3999  u.dark7601@gmail.com         Kuwait      u.dark1814@stanfordalumni.org   \n\n                         saa_email_address gsb_email_address  \\\n0                                        *               n/a   \n1          w.grass5053@alumni.stanford.edu               n/a   \n2                                        *               n/a   \n3                                        *               n/a   \n4                                      n/a               n/a   \n...                                    ...               ...   \n3995                                     *               n/a   \n3996                                   n/a               n/a   \n3997      slowkingd5563@stanfordalumni.org               n/a   \n3998                                   n/a               n/a   \n3999  ursaring.dark7398@stanfordalumni.org               n/a   \n\n     other_email_address  \n0                    n/a  \n1                    n/a  \n2                    n/a  \n3                    n/a  \n4                    n/a  \n...                  ...  \n3995                 n/a  \n3996                 n/a  \n3997                 n/a  \n3998                 n/a  \n3999                 n/a  \n\n[4000 rows x 11 columns]",
      "text/html": "<div>\n<style scoped>\n    .dataframe tbody tr th:only-of-type {\n        vertical-align: middle;\n    }\n\n    .dataframe tbody tr th {\n        vertical-align: top;\n    }\n\n    .dataframe thead th {\n        text-align: right;\n    }\n</style>\n<table border=\"1\" class=\"dataframe\">\n  <thead>\n    <tr style=\"text-align: right;\">\n      <th></th>\n      <th>first_name</th>\n      <th>last_name</th>\n      <th>home_country</th>\n      <th>home_email_address</th>\n      <th>short_degree_string</th>\n      <th>bus_email_address</th>\n      <th>bus_country</th>\n      <th>email_switch</th>\n      <th>saa_email_address</th>\n      <th>gsb_email_address</th>\n      <th>other_email_address</th>\n    </tr>\n  </thead>\n  <tbody>\n    <tr>\n      <th>0</th>\n      <td>Growlithe</td>\n      <td>Ice</td>\n      <td>*</td>\n      <td>n/a</td>\n      <td>n/a</td>\n      <td>n/a</td>\n      <td>n/a</td>\n      <td>n/a</td>\n      <td>*</td>\n      <td>n/a</td>\n      <td>n/a</td>\n    </tr>\n    <tr>\n      <th>1</th>\n      <td>Weedle</td>\n      <td>Grass</td>\n      <td>China</td>\n      <td>weedleg4046@stanfordalumni.org</td>\n      <td>'82</td>\n      <td>n/a</td>\n      <td>China</td>\n      <td>n/a</td>\n      <td>w.grass5053@alumni.stanford.edu</td>\n      <td>n/a</td>\n      <td>n/a</td>\n    </tr>\n    <tr>\n      <th>2</th>\n      <td>Aerodactyl</td>\n      <td>Electric</td>\n      <td>Kuwait</td>\n      <td>aerodactyl.electric2974@alumni.stanford.edu</td>\n      <td>n/a</td>\n      <td>n/a</td>\n      <td>Kuwait</td>\n      <td>n/a</td>\n      <td>*</td>\n      <td>n/a</td>\n      <td>n/a</td>\n    </tr>\n    <tr>\n      <th>3</th>\n      <td>Pinsir</td>\n      <td>Fire</td>\n      <td>n/a</td>\n      <td>*</td>\n      <td>JD '94, PhD '97</td>\n      <td>n/a</td>\n      <td>Japan</td>\n      <td>pinsirfire4582@gmail.com</td>\n      <td>*</td>\n      <td>n/a</td>\n      <td>n/a</td>\n    </tr>\n    <tr>\n      <th>4</th>\n      <td>Horsea</td>\n      <td>Ice</td>\n      <td>USA</td>\n      <td>*</td>\n      <td>n/a</td>\n      <td>n/a</td>\n      <td>n/a</td>\n      <td>hice7313@stanfordalumni.org</td>\n      <td>n/a</td>\n      <td>n/a</td>\n      <td>n/a</td>\n    </tr>\n    <tr>\n      <th>...</th>\n      <td>...</td>\n      <td>...</td>\n      <td>...</td>\n      <td>...</td>\n      <td>...</td>\n      <td>...</td>\n      <td>...</td>\n      <td>...</td>\n      <td>...</td>\n      <td>...</td>\n      <td>...</td>\n    </tr>\n    <tr>\n      <th>3995</th>\n      <td>Smeargle</td>\n      <td>Electric</td>\n      <td>Japan</td>\n      <td>*</td>\n      <td>PhD '96, MBA '87</td>\n      <td>n/a</td>\n      <td>n/a</td>\n      <td>smeargleelectric9444@gmail.com</td>\n      <td>*</td>\n      <td>n/a</td>\n      <td>n/a</td>\n    </tr>\n    <tr>\n      <th>3996</th>\n      <td>Kabutops</td>\n      <td>Steel</td>\n      <td>n/a</td>\n      <td>kabutops.steel1285@stanfordalumni.org</td>\n      <td>BS '93</td>\n      <td>n/a</td>\n      <td>China</td>\n      <td>k.steel5317@alumni.stanford.edu</td>\n      <td>n/a</td>\n      <td>n/a</td>\n      <td>n/a</td>\n    </tr>\n    <tr>\n      <th>3997</th>\n      <td>Slowking</td>\n      <td>Dragon</td>\n      <td>Kuwait</td>\n      <td>*</td>\n      <td>PhD '84, JD '93</td>\n      <td>n/a</td>\n      <td>n/a</td>\n      <td>n/a</td>\n      <td>slowkingd5563@stanfordalumni.org</td>\n      <td>n/a</td>\n      <td>n/a</td>\n    </tr>\n    <tr>\n      <th>3998</th>\n      <td>Larvitar</td>\n      <td>Electric</td>\n      <td>Japan</td>\n      <td>larvitar.electric9778@stanfordalumni.org</td>\n      <td>MBA '92, '98, JD '86</td>\n      <td>n/a</td>\n      <td>United States</td>\n      <td>l.electric7920@stanfordalumni.org</td>\n      <td>n/a</td>\n      <td>n/a</td>\n      <td>n/a</td>\n    </tr>\n    <tr>\n      <th>3999</th>\n      <td>Ursaring</td>\n      <td>Dark</td>\n      <td>USA</td>\n      <td>*</td>\n      <td>BS '94, PhD '97</td>\n      <td>u.dark7601@gmail.com</td>\n      <td>Kuwait</td>\n      <td>u.dark1814@stanfordalumni.org</td>\n      <td>ursaring.dark7398@stanfordalumni.org</td>\n      <td>n/a</td>\n      <td>n/a</td>\n    </tr>\n  </tbody>\n</table>\n<p>4000 rows × 11 columns</p>\n</div>"
     },
     "execution_count": 11,
     "metadata": {},
     "output_type": "execute_result"
    }
   ],
   "source": [
    "# replace nulls\n",
    "df_saa.fillna('n/a',inplace=True)\n",
    "df_saa"
   ]
  },
  {
   "cell_type": "code",
   "execution_count": 12,
   "metadata": {
    "ExecuteTime": {
     "end_time": "2022-06-27T19:20:48.104573Z",
     "start_time": "2022-06-27T19:20:48.021161Z"
    },
    "pycharm": {
     "name": "#%%\n"
    }
   },
   "outputs": [
    {
     "data": {
      "text/plain": "      first_name last_name home_country  \\\n0      growlithe       ice            *   \n1         weedle     grass        china   \n2     aerodactyl  electric       kuwait   \n3         pinsir      fire          n/a   \n4         horsea       ice          usa   \n...          ...       ...          ...   \n3995    smeargle  electric        japan   \n3996    kabutops     steel          n/a   \n3997    slowking    dragon       kuwait   \n3998    larvitar  electric        japan   \n3999    ursaring      dark          usa   \n\n                               home_email_address   short_degree_string  \\\n0                                             n/a                   n/a   \n1                  weedleg4046@stanfordalumni.org                   '82   \n2     aerodactyl.electric2974@alumni.stanford.edu                   n/a   \n3                                               *       jd '94, phd '97   \n4                                               *                   n/a   \n...                                           ...                   ...   \n3995                                            *      phd '96, mba '87   \n3996        kabutops.steel1285@stanfordalumni.org                bs '93   \n3997                                            *       phd '84, jd '93   \n3998     larvitar.electric9778@stanfordalumni.org  mba '92, '98, jd '86   \n3999                                            *       bs '94, phd '97   \n\n         bus_email_address    bus_country                       email_switch  \\\n0                      n/a            n/a                                n/a   \n1                      n/a          china                                n/a   \n2                      n/a         kuwait                                n/a   \n3                      n/a          japan           pinsirfire4582@gmail.com   \n4                      n/a            n/a        hice7313@stanfordalumni.org   \n...                    ...            ...                                ...   \n3995                   n/a            n/a     smeargleelectric9444@gmail.com   \n3996                   n/a          china    k.steel5317@alumni.stanford.edu   \n3997                   n/a            n/a                                n/a   \n3998                   n/a  united states  l.electric7920@stanfordalumni.org   \n3999  u.dark7601@gmail.com         kuwait      u.dark1814@stanfordalumni.org   \n\n                         saa_email_address gsb_email_address  \\\n0                                        *               n/a   \n1          w.grass5053@alumni.stanford.edu               n/a   \n2                                        *               n/a   \n3                                        *               n/a   \n4                                      n/a               n/a   \n...                                    ...               ...   \n3995                                     *               n/a   \n3996                                   n/a               n/a   \n3997      slowkingd5563@stanfordalumni.org               n/a   \n3998                                   n/a               n/a   \n3999  ursaring.dark7398@stanfordalumni.org               n/a   \n\n     other_email_address  \n0                    n/a  \n1                    n/a  \n2                    n/a  \n3                    n/a  \n4                    n/a  \n...                  ...  \n3995                 n/a  \n3996                 n/a  \n3997                 n/a  \n3998                 n/a  \n3999                 n/a  \n\n[4000 rows x 11 columns]",
      "text/html": "<div>\n<style scoped>\n    .dataframe tbody tr th:only-of-type {\n        vertical-align: middle;\n    }\n\n    .dataframe tbody tr th {\n        vertical-align: top;\n    }\n\n    .dataframe thead th {\n        text-align: right;\n    }\n</style>\n<table border=\"1\" class=\"dataframe\">\n  <thead>\n    <tr style=\"text-align: right;\">\n      <th></th>\n      <th>first_name</th>\n      <th>last_name</th>\n      <th>home_country</th>\n      <th>home_email_address</th>\n      <th>short_degree_string</th>\n      <th>bus_email_address</th>\n      <th>bus_country</th>\n      <th>email_switch</th>\n      <th>saa_email_address</th>\n      <th>gsb_email_address</th>\n      <th>other_email_address</th>\n    </tr>\n  </thead>\n  <tbody>\n    <tr>\n      <th>0</th>\n      <td>growlithe</td>\n      <td>ice</td>\n      <td>*</td>\n      <td>n/a</td>\n      <td>n/a</td>\n      <td>n/a</td>\n      <td>n/a</td>\n      <td>n/a</td>\n      <td>*</td>\n      <td>n/a</td>\n      <td>n/a</td>\n    </tr>\n    <tr>\n      <th>1</th>\n      <td>weedle</td>\n      <td>grass</td>\n      <td>china</td>\n      <td>weedleg4046@stanfordalumni.org</td>\n      <td>'82</td>\n      <td>n/a</td>\n      <td>china</td>\n      <td>n/a</td>\n      <td>w.grass5053@alumni.stanford.edu</td>\n      <td>n/a</td>\n      <td>n/a</td>\n    </tr>\n    <tr>\n      <th>2</th>\n      <td>aerodactyl</td>\n      <td>electric</td>\n      <td>kuwait</td>\n      <td>aerodactyl.electric2974@alumni.stanford.edu</td>\n      <td>n/a</td>\n      <td>n/a</td>\n      <td>kuwait</td>\n      <td>n/a</td>\n      <td>*</td>\n      <td>n/a</td>\n      <td>n/a</td>\n    </tr>\n    <tr>\n      <th>3</th>\n      <td>pinsir</td>\n      <td>fire</td>\n      <td>n/a</td>\n      <td>*</td>\n      <td>jd '94, phd '97</td>\n      <td>n/a</td>\n      <td>japan</td>\n      <td>pinsirfire4582@gmail.com</td>\n      <td>*</td>\n      <td>n/a</td>\n      <td>n/a</td>\n    </tr>\n    <tr>\n      <th>4</th>\n      <td>horsea</td>\n      <td>ice</td>\n      <td>usa</td>\n      <td>*</td>\n      <td>n/a</td>\n      <td>n/a</td>\n      <td>n/a</td>\n      <td>hice7313@stanfordalumni.org</td>\n      <td>n/a</td>\n      <td>n/a</td>\n      <td>n/a</td>\n    </tr>\n    <tr>\n      <th>...</th>\n      <td>...</td>\n      <td>...</td>\n      <td>...</td>\n      <td>...</td>\n      <td>...</td>\n      <td>...</td>\n      <td>...</td>\n      <td>...</td>\n      <td>...</td>\n      <td>...</td>\n      <td>...</td>\n    </tr>\n    <tr>\n      <th>3995</th>\n      <td>smeargle</td>\n      <td>electric</td>\n      <td>japan</td>\n      <td>*</td>\n      <td>phd '96, mba '87</td>\n      <td>n/a</td>\n      <td>n/a</td>\n      <td>smeargleelectric9444@gmail.com</td>\n      <td>*</td>\n      <td>n/a</td>\n      <td>n/a</td>\n    </tr>\n    <tr>\n      <th>3996</th>\n      <td>kabutops</td>\n      <td>steel</td>\n      <td>n/a</td>\n      <td>kabutops.steel1285@stanfordalumni.org</td>\n      <td>bs '93</td>\n      <td>n/a</td>\n      <td>china</td>\n      <td>k.steel5317@alumni.stanford.edu</td>\n      <td>n/a</td>\n      <td>n/a</td>\n      <td>n/a</td>\n    </tr>\n    <tr>\n      <th>3997</th>\n      <td>slowking</td>\n      <td>dragon</td>\n      <td>kuwait</td>\n      <td>*</td>\n      <td>phd '84, jd '93</td>\n      <td>n/a</td>\n      <td>n/a</td>\n      <td>n/a</td>\n      <td>slowkingd5563@stanfordalumni.org</td>\n      <td>n/a</td>\n      <td>n/a</td>\n    </tr>\n    <tr>\n      <th>3998</th>\n      <td>larvitar</td>\n      <td>electric</td>\n      <td>japan</td>\n      <td>larvitar.electric9778@stanfordalumni.org</td>\n      <td>mba '92, '98, jd '86</td>\n      <td>n/a</td>\n      <td>united states</td>\n      <td>l.electric7920@stanfordalumni.org</td>\n      <td>n/a</td>\n      <td>n/a</td>\n      <td>n/a</td>\n    </tr>\n    <tr>\n      <th>3999</th>\n      <td>ursaring</td>\n      <td>dark</td>\n      <td>usa</td>\n      <td>*</td>\n      <td>bs '94, phd '97</td>\n      <td>u.dark7601@gmail.com</td>\n      <td>kuwait</td>\n      <td>u.dark1814@stanfordalumni.org</td>\n      <td>ursaring.dark7398@stanfordalumni.org</td>\n      <td>n/a</td>\n      <td>n/a</td>\n    </tr>\n  </tbody>\n</table>\n<p>4000 rows × 11 columns</p>\n</div>"
     },
     "execution_count": 12,
     "metadata": {},
     "output_type": "execute_result"
    }
   ],
   "source": [
    "#clean column names for easier handling\n",
    "for col in df_saa.columns:    \n",
    "    df_saa[col] = df_saa[col].astype(str).str.lower().str.strip()\n",
    "df_saa"
   ]
  },
  {
   "cell_type": "code",
   "execution_count": 13,
   "metadata": {
    "ExecuteTime": {
     "end_time": "2022-06-27T19:20:49.569948Z",
     "start_time": "2022-06-27T19:20:49.515488Z"
    },
    "pycharm": {
     "name": "#%%\n"
    }
   },
   "outputs": [
    {
     "data": {
      "text/plain": "      first_name last_name home_country       home_email_address  \\\n0      growlithe       ice            *                      n/a   \n1         weedle     grass        china              weedleg4046   \n2     aerodactyl  electric       kuwait  aerodactyl.electric2974   \n3         pinsir      fire          n/a                      n/a   \n4         horsea       ice          usa                      n/a   \n...          ...       ...          ...                      ...   \n3995    smeargle  electric        japan                      n/a   \n3996    kabutops     steel          n/a       kabutops.steel1285   \n3997    slowking    dragon       kuwait                      n/a   \n3998    larvitar  electric        japan    larvitar.electric9778   \n3999    ursaring      dark          usa                      n/a   \n\n       short_degree_string bus_email_address    bus_country  \\\n0                      n/a               n/a            n/a   \n1                      '82               n/a          china   \n2                      n/a               n/a         kuwait   \n3          jd '94, phd '97               n/a          japan   \n4                      n/a               n/a            n/a   \n...                    ...               ...            ...   \n3995      phd '96, mba '87               n/a            n/a   \n3996                bs '93               n/a          china   \n3997       phd '84, jd '93               n/a            n/a   \n3998  mba '92, '98, jd '86               n/a  united states   \n3999       bs '94, phd '97        u.dark7601         kuwait   \n\n              email_switch  saa_email_address gsb_email_address  \\\n0                      n/a                n/a               n/a   \n1                      n/a        w.grass5053               n/a   \n2                      n/a                n/a               n/a   \n3           pinsirfire4582                n/a               n/a   \n4                 hice7313                n/a               n/a   \n...                    ...                ...               ...   \n3995  smeargleelectric9444                n/a               n/a   \n3996           k.steel5317                n/a               n/a   \n3997                   n/a      slowkingd5563               n/a   \n3998        l.electric7920                n/a               n/a   \n3999            u.dark1814  ursaring.dark7398               n/a   \n\n     other_email_address  \n0                    n/a  \n1                    n/a  \n2                    n/a  \n3                    n/a  \n4                    n/a  \n...                  ...  \n3995                 n/a  \n3996                 n/a  \n3997                 n/a  \n3998                 n/a  \n3999                 n/a  \n\n[4000 rows x 11 columns]",
      "text/html": "<div>\n<style scoped>\n    .dataframe tbody tr th:only-of-type {\n        vertical-align: middle;\n    }\n\n    .dataframe tbody tr th {\n        vertical-align: top;\n    }\n\n    .dataframe thead th {\n        text-align: right;\n    }\n</style>\n<table border=\"1\" class=\"dataframe\">\n  <thead>\n    <tr style=\"text-align: right;\">\n      <th></th>\n      <th>first_name</th>\n      <th>last_name</th>\n      <th>home_country</th>\n      <th>home_email_address</th>\n      <th>short_degree_string</th>\n      <th>bus_email_address</th>\n      <th>bus_country</th>\n      <th>email_switch</th>\n      <th>saa_email_address</th>\n      <th>gsb_email_address</th>\n      <th>other_email_address</th>\n    </tr>\n  </thead>\n  <tbody>\n    <tr>\n      <th>0</th>\n      <td>growlithe</td>\n      <td>ice</td>\n      <td>*</td>\n      <td>n/a</td>\n      <td>n/a</td>\n      <td>n/a</td>\n      <td>n/a</td>\n      <td>n/a</td>\n      <td>n/a</td>\n      <td>n/a</td>\n      <td>n/a</td>\n    </tr>\n    <tr>\n      <th>1</th>\n      <td>weedle</td>\n      <td>grass</td>\n      <td>china</td>\n      <td>weedleg4046</td>\n      <td>'82</td>\n      <td>n/a</td>\n      <td>china</td>\n      <td>n/a</td>\n      <td>w.grass5053</td>\n      <td>n/a</td>\n      <td>n/a</td>\n    </tr>\n    <tr>\n      <th>2</th>\n      <td>aerodactyl</td>\n      <td>electric</td>\n      <td>kuwait</td>\n      <td>aerodactyl.electric2974</td>\n      <td>n/a</td>\n      <td>n/a</td>\n      <td>kuwait</td>\n      <td>n/a</td>\n      <td>n/a</td>\n      <td>n/a</td>\n      <td>n/a</td>\n    </tr>\n    <tr>\n      <th>3</th>\n      <td>pinsir</td>\n      <td>fire</td>\n      <td>n/a</td>\n      <td>n/a</td>\n      <td>jd '94, phd '97</td>\n      <td>n/a</td>\n      <td>japan</td>\n      <td>pinsirfire4582</td>\n      <td>n/a</td>\n      <td>n/a</td>\n      <td>n/a</td>\n    </tr>\n    <tr>\n      <th>4</th>\n      <td>horsea</td>\n      <td>ice</td>\n      <td>usa</td>\n      <td>n/a</td>\n      <td>n/a</td>\n      <td>n/a</td>\n      <td>n/a</td>\n      <td>hice7313</td>\n      <td>n/a</td>\n      <td>n/a</td>\n      <td>n/a</td>\n    </tr>\n    <tr>\n      <th>...</th>\n      <td>...</td>\n      <td>...</td>\n      <td>...</td>\n      <td>...</td>\n      <td>...</td>\n      <td>...</td>\n      <td>...</td>\n      <td>...</td>\n      <td>...</td>\n      <td>...</td>\n      <td>...</td>\n    </tr>\n    <tr>\n      <th>3995</th>\n      <td>smeargle</td>\n      <td>electric</td>\n      <td>japan</td>\n      <td>n/a</td>\n      <td>phd '96, mba '87</td>\n      <td>n/a</td>\n      <td>n/a</td>\n      <td>smeargleelectric9444</td>\n      <td>n/a</td>\n      <td>n/a</td>\n      <td>n/a</td>\n    </tr>\n    <tr>\n      <th>3996</th>\n      <td>kabutops</td>\n      <td>steel</td>\n      <td>n/a</td>\n      <td>kabutops.steel1285</td>\n      <td>bs '93</td>\n      <td>n/a</td>\n      <td>china</td>\n      <td>k.steel5317</td>\n      <td>n/a</td>\n      <td>n/a</td>\n      <td>n/a</td>\n    </tr>\n    <tr>\n      <th>3997</th>\n      <td>slowking</td>\n      <td>dragon</td>\n      <td>kuwait</td>\n      <td>n/a</td>\n      <td>phd '84, jd '93</td>\n      <td>n/a</td>\n      <td>n/a</td>\n      <td>n/a</td>\n      <td>slowkingd5563</td>\n      <td>n/a</td>\n      <td>n/a</td>\n    </tr>\n    <tr>\n      <th>3998</th>\n      <td>larvitar</td>\n      <td>electric</td>\n      <td>japan</td>\n      <td>larvitar.electric9778</td>\n      <td>mba '92, '98, jd '86</td>\n      <td>n/a</td>\n      <td>united states</td>\n      <td>l.electric7920</td>\n      <td>n/a</td>\n      <td>n/a</td>\n      <td>n/a</td>\n    </tr>\n    <tr>\n      <th>3999</th>\n      <td>ursaring</td>\n      <td>dark</td>\n      <td>usa</td>\n      <td>n/a</td>\n      <td>bs '94, phd '97</td>\n      <td>u.dark7601</td>\n      <td>kuwait</td>\n      <td>u.dark1814</td>\n      <td>ursaring.dark7398</td>\n      <td>n/a</td>\n      <td>n/a</td>\n    </tr>\n  </tbody>\n</table>\n<p>4000 rows × 11 columns</p>\n</div>"
     },
     "execution_count": 13,
     "metadata": {},
     "output_type": "execute_result"
    }
   ],
   "source": [
    "#remove email domains using removeEmailDomain helper function\n",
    "email_cols = ['home_email_address', 'bus_email_address', 'email_switch',\n",
    "              'saa_email_address', 'gsb_email_address', 'other_email_address']\n",
    "for email in email_cols:\n",
    "    df_saa[email] = df_saa[email].apply(removeEmailDomain)\n",
    "df_saa"
   ]
  },
  {
   "cell_type": "code",
   "execution_count": 14,
   "metadata": {
    "ExecuteTime": {
     "end_time": "2022-06-27T19:20:52.175143Z",
     "start_time": "2022-06-27T19:20:52.096354Z"
    },
    "pycharm": {
     "name": "#%%\n"
    }
   },
   "outputs": [
    {
     "data": {
      "text/plain": "      first_name last_name home_country       home_email_address  \\\n0      growlithe       ice            *                      n/a   \n1         weedle     grass        china              weedleg4046   \n2     aerodactyl  electric       kuwait  aerodactyl.electric2974   \n3         pinsir      fire          n/a                      n/a   \n4         horsea       ice          usa                      n/a   \n...          ...       ...          ...                      ...   \n3995    smeargle  electric        japan                      n/a   \n3996    kabutops     steel          n/a       kabutops.steel1285   \n3997    slowking    dragon       kuwait                      n/a   \n3998    larvitar  electric        japan    larvitar.electric9778   \n3999    ursaring      dark          usa                      n/a   \n\n     short_degree_string bus_email_address    bus_country  \\\n0                    n/a               n/a            n/a   \n1                                      n/a          china   \n2                    n/a               n/a         kuwait   \n3                 jd phd               n/a          japan   \n4                    n/a               n/a            n/a   \n...                  ...               ...            ...   \n3995             phd mba               n/a            n/a   \n3996                  bs               n/a          china   \n3997              phd jd               n/a            n/a   \n3998              mba jd               n/a  united states   \n3999              bs phd        u.dark7601         kuwait   \n\n              email_switch  saa_email_address gsb_email_address  \\\n0                      n/a                n/a               n/a   \n1                      n/a        w.grass5053               n/a   \n2                      n/a                n/a               n/a   \n3           pinsirfire4582                n/a               n/a   \n4                 hice7313                n/a               n/a   \n...                    ...                ...               ...   \n3995  smeargleelectric9444                n/a               n/a   \n3996           k.steel5317                n/a               n/a   \n3997                   n/a      slowkingd5563               n/a   \n3998        l.electric7920                n/a               n/a   \n3999            u.dark1814  ursaring.dark7398               n/a   \n\n     other_email_address  \n0                    n/a  \n1                    n/a  \n2                    n/a  \n3                    n/a  \n4                    n/a  \n...                  ...  \n3995                 n/a  \n3996                 n/a  \n3997                 n/a  \n3998                 n/a  \n3999                 n/a  \n\n[4000 rows x 11 columns]",
      "text/html": "<div>\n<style scoped>\n    .dataframe tbody tr th:only-of-type {\n        vertical-align: middle;\n    }\n\n    .dataframe tbody tr th {\n        vertical-align: top;\n    }\n\n    .dataframe thead th {\n        text-align: right;\n    }\n</style>\n<table border=\"1\" class=\"dataframe\">\n  <thead>\n    <tr style=\"text-align: right;\">\n      <th></th>\n      <th>first_name</th>\n      <th>last_name</th>\n      <th>home_country</th>\n      <th>home_email_address</th>\n      <th>short_degree_string</th>\n      <th>bus_email_address</th>\n      <th>bus_country</th>\n      <th>email_switch</th>\n      <th>saa_email_address</th>\n      <th>gsb_email_address</th>\n      <th>other_email_address</th>\n    </tr>\n  </thead>\n  <tbody>\n    <tr>\n      <th>0</th>\n      <td>growlithe</td>\n      <td>ice</td>\n      <td>*</td>\n      <td>n/a</td>\n      <td>n/a</td>\n      <td>n/a</td>\n      <td>n/a</td>\n      <td>n/a</td>\n      <td>n/a</td>\n      <td>n/a</td>\n      <td>n/a</td>\n    </tr>\n    <tr>\n      <th>1</th>\n      <td>weedle</td>\n      <td>grass</td>\n      <td>china</td>\n      <td>weedleg4046</td>\n      <td></td>\n      <td>n/a</td>\n      <td>china</td>\n      <td>n/a</td>\n      <td>w.grass5053</td>\n      <td>n/a</td>\n      <td>n/a</td>\n    </tr>\n    <tr>\n      <th>2</th>\n      <td>aerodactyl</td>\n      <td>electric</td>\n      <td>kuwait</td>\n      <td>aerodactyl.electric2974</td>\n      <td>n/a</td>\n      <td>n/a</td>\n      <td>kuwait</td>\n      <td>n/a</td>\n      <td>n/a</td>\n      <td>n/a</td>\n      <td>n/a</td>\n    </tr>\n    <tr>\n      <th>3</th>\n      <td>pinsir</td>\n      <td>fire</td>\n      <td>n/a</td>\n      <td>n/a</td>\n      <td>jd phd</td>\n      <td>n/a</td>\n      <td>japan</td>\n      <td>pinsirfire4582</td>\n      <td>n/a</td>\n      <td>n/a</td>\n      <td>n/a</td>\n    </tr>\n    <tr>\n      <th>4</th>\n      <td>horsea</td>\n      <td>ice</td>\n      <td>usa</td>\n      <td>n/a</td>\n      <td>n/a</td>\n      <td>n/a</td>\n      <td>n/a</td>\n      <td>hice7313</td>\n      <td>n/a</td>\n      <td>n/a</td>\n      <td>n/a</td>\n    </tr>\n    <tr>\n      <th>...</th>\n      <td>...</td>\n      <td>...</td>\n      <td>...</td>\n      <td>...</td>\n      <td>...</td>\n      <td>...</td>\n      <td>...</td>\n      <td>...</td>\n      <td>...</td>\n      <td>...</td>\n      <td>...</td>\n    </tr>\n    <tr>\n      <th>3995</th>\n      <td>smeargle</td>\n      <td>electric</td>\n      <td>japan</td>\n      <td>n/a</td>\n      <td>phd mba</td>\n      <td>n/a</td>\n      <td>n/a</td>\n      <td>smeargleelectric9444</td>\n      <td>n/a</td>\n      <td>n/a</td>\n      <td>n/a</td>\n    </tr>\n    <tr>\n      <th>3996</th>\n      <td>kabutops</td>\n      <td>steel</td>\n      <td>n/a</td>\n      <td>kabutops.steel1285</td>\n      <td>bs</td>\n      <td>n/a</td>\n      <td>china</td>\n      <td>k.steel5317</td>\n      <td>n/a</td>\n      <td>n/a</td>\n      <td>n/a</td>\n    </tr>\n    <tr>\n      <th>3997</th>\n      <td>slowking</td>\n      <td>dragon</td>\n      <td>kuwait</td>\n      <td>n/a</td>\n      <td>phd jd</td>\n      <td>n/a</td>\n      <td>n/a</td>\n      <td>n/a</td>\n      <td>slowkingd5563</td>\n      <td>n/a</td>\n      <td>n/a</td>\n    </tr>\n    <tr>\n      <th>3998</th>\n      <td>larvitar</td>\n      <td>electric</td>\n      <td>japan</td>\n      <td>larvitar.electric9778</td>\n      <td>mba jd</td>\n      <td>n/a</td>\n      <td>united states</td>\n      <td>l.electric7920</td>\n      <td>n/a</td>\n      <td>n/a</td>\n      <td>n/a</td>\n    </tr>\n    <tr>\n      <th>3999</th>\n      <td>ursaring</td>\n      <td>dark</td>\n      <td>usa</td>\n      <td>n/a</td>\n      <td>bs phd</td>\n      <td>u.dark7601</td>\n      <td>kuwait</td>\n      <td>u.dark1814</td>\n      <td>ursaring.dark7398</td>\n      <td>n/a</td>\n      <td>n/a</td>\n    </tr>\n  </tbody>\n</table>\n<p>4000 rows × 11 columns</p>\n</div>"
     },
     "execution_count": 14,
     "metadata": {},
     "output_type": "execute_result"
    }
   ],
   "source": [
    "# Cleaning degree string column using cleanDegreeStr helper function\n",
    "df_saa.short_degree_string = df_saa.short_degree_string.apply(cleanDegreeStr)\n",
    "df_saa"
   ]
  },
  {
   "cell_type": "markdown",
   "metadata": {
    "ExecuteTime": {
     "end_time": "2022-06-27T02:02:42.333127Z",
     "start_time": "2022-06-27T02:02:42.317123Z"
    },
    "pycharm": {
     "name": "#%% md\n"
    }
   },
   "source": [
    "# Preprocess Mailchimp dataframe"
   ]
  },
  {
   "cell_type": "code",
   "execution_count": 15,
   "metadata": {
    "pycharm": {
     "name": "#%%\n"
    }
   },
   "outputs": [
    {
     "data": {
      "text/plain": "                         Email Address First Name Last Name  Board Member  \\\n0         slakoth.normal3945@gmail.com    Slakoth    Normal         False   \n1                 e.rock7454@gmail.com     Espeon      Rock          True   \n2  rhydonghost7966@alumni.stanford.edu     Rhydon     Ghost         False   \n3      porygong9247@stanfordalumni.org    Porygon     Grass         False   \n4           tangelagrass1376@gmail.com    Tangela     Grass         False   \n5             c.electric7518@gmail.com    Chansey     Steel          True   \n6          blissey.ghost4154@gmail.com    Blissey     Ghost         False   \n\n  Gender      Chapter  Reunion Year  \\\n0    NaN        Texas           NaN   \n1      F      DC Area           NaN   \n2      M     Bay Area           NaN   \n3      M     Bay Area           NaN   \n4    NaN  New England           NaN   \n5      F     Other US           NaN   \n6      M  New England           NaN   \n\n                                        Country Degree  MEMBER_RATING  \\\n0                                           USA    NaN            NaN   \n1                                 United States    NaN            NaN   \n2                                           USA    MBA            NaN   \n3                                         Japan     MS            NaN   \n4                                 United States    NaN            NaN   \n5                                           USA    NaN            NaN   \n6  Macao Special Administrative Region of China    NaN            NaN   \n\n   OPTIN_TIME  OPTIN_IP  CONFIRM_TIME  CONFIRM_IP  LATITUDE  LONGITUDE  \\\n0         NaN       NaN           NaN         NaN       NaN        NaN   \n1         NaN       NaN           NaN         NaN       NaN        NaN   \n2         NaN       NaN           NaN         NaN       NaN        NaN   \n3         NaN       NaN           NaN         NaN       NaN        NaN   \n4         NaN       NaN           NaN         NaN       NaN        NaN   \n5         NaN       NaN           NaN         NaN       NaN        NaN   \n6         NaN       NaN           NaN         NaN       NaN        NaN   \n\n   GMTOFF  DSTOFF  TIMEZONE  CC  REGION  CLEAN_TIME  CLEAN_CAMPAIGN_TITLE  \\\n0     NaN     NaN       NaN NaN     NaN         NaN                   NaN   \n1     NaN     NaN       NaN NaN     NaN         NaN                   NaN   \n2     NaN     NaN       NaN NaN     NaN         NaN                   NaN   \n3     NaN     NaN       NaN NaN     NaN         NaN                   NaN   \n4     NaN     NaN       NaN NaN     NaN         NaN                   NaN   \n5     NaN     NaN       NaN NaN     NaN         NaN                   NaN   \n6     NaN     NaN       NaN NaN     NaN         NaN                   NaN   \n\n   CLEAN_CAMPAIGN_ID  LEID  EUID  NOTES  TAGS  \n0                NaN   NaN   NaN    NaN   NaN  \n1                NaN   NaN   NaN    NaN   NaN  \n2                NaN   NaN   NaN    NaN   NaN  \n3                NaN   NaN   NaN    NaN   NaN  \n4                NaN   NaN   NaN    NaN   NaN  \n5                NaN   NaN   NaN    NaN   NaN  \n6                NaN   NaN   NaN    NaN   NaN  ",
      "text/html": "<div>\n<style scoped>\n    .dataframe tbody tr th:only-of-type {\n        vertical-align: middle;\n    }\n\n    .dataframe tbody tr th {\n        vertical-align: top;\n    }\n\n    .dataframe thead th {\n        text-align: right;\n    }\n</style>\n<table border=\"1\" class=\"dataframe\">\n  <thead>\n    <tr style=\"text-align: right;\">\n      <th></th>\n      <th>Email Address</th>\n      <th>First Name</th>\n      <th>Last Name</th>\n      <th>Board Member</th>\n      <th>Gender</th>\n      <th>Chapter</th>\n      <th>Reunion Year</th>\n      <th>Country</th>\n      <th>Degree</th>\n      <th>MEMBER_RATING</th>\n      <th>OPTIN_TIME</th>\n      <th>OPTIN_IP</th>\n      <th>CONFIRM_TIME</th>\n      <th>CONFIRM_IP</th>\n      <th>LATITUDE</th>\n      <th>LONGITUDE</th>\n      <th>GMTOFF</th>\n      <th>DSTOFF</th>\n      <th>TIMEZONE</th>\n      <th>CC</th>\n      <th>REGION</th>\n      <th>CLEAN_TIME</th>\n      <th>CLEAN_CAMPAIGN_TITLE</th>\n      <th>CLEAN_CAMPAIGN_ID</th>\n      <th>LEID</th>\n      <th>EUID</th>\n      <th>NOTES</th>\n      <th>TAGS</th>\n    </tr>\n  </thead>\n  <tbody>\n    <tr>\n      <th>0</th>\n      <td>slakoth.normal3945@gmail.com</td>\n      <td>Slakoth</td>\n      <td>Normal</td>\n      <td>False</td>\n      <td>NaN</td>\n      <td>Texas</td>\n      <td>NaN</td>\n      <td>USA</td>\n      <td>NaN</td>\n      <td>NaN</td>\n      <td>NaN</td>\n      <td>NaN</td>\n      <td>NaN</td>\n      <td>NaN</td>\n      <td>NaN</td>\n      <td>NaN</td>\n      <td>NaN</td>\n      <td>NaN</td>\n      <td>NaN</td>\n      <td>NaN</td>\n      <td>NaN</td>\n      <td>NaN</td>\n      <td>NaN</td>\n      <td>NaN</td>\n      <td>NaN</td>\n      <td>NaN</td>\n      <td>NaN</td>\n      <td>NaN</td>\n    </tr>\n    <tr>\n      <th>1</th>\n      <td>e.rock7454@gmail.com</td>\n      <td>Espeon</td>\n      <td>Rock</td>\n      <td>True</td>\n      <td>F</td>\n      <td>DC Area</td>\n      <td>NaN</td>\n      <td>United States</td>\n      <td>NaN</td>\n      <td>NaN</td>\n      <td>NaN</td>\n      <td>NaN</td>\n      <td>NaN</td>\n      <td>NaN</td>\n      <td>NaN</td>\n      <td>NaN</td>\n      <td>NaN</td>\n      <td>NaN</td>\n      <td>NaN</td>\n      <td>NaN</td>\n      <td>NaN</td>\n      <td>NaN</td>\n      <td>NaN</td>\n      <td>NaN</td>\n      <td>NaN</td>\n      <td>NaN</td>\n      <td>NaN</td>\n      <td>NaN</td>\n    </tr>\n    <tr>\n      <th>2</th>\n      <td>rhydonghost7966@alumni.stanford.edu</td>\n      <td>Rhydon</td>\n      <td>Ghost</td>\n      <td>False</td>\n      <td>M</td>\n      <td>Bay Area</td>\n      <td>NaN</td>\n      <td>USA</td>\n      <td>MBA</td>\n      <td>NaN</td>\n      <td>NaN</td>\n      <td>NaN</td>\n      <td>NaN</td>\n      <td>NaN</td>\n      <td>NaN</td>\n      <td>NaN</td>\n      <td>NaN</td>\n      <td>NaN</td>\n      <td>NaN</td>\n      <td>NaN</td>\n      <td>NaN</td>\n      <td>NaN</td>\n      <td>NaN</td>\n      <td>NaN</td>\n      <td>NaN</td>\n      <td>NaN</td>\n      <td>NaN</td>\n      <td>NaN</td>\n    </tr>\n    <tr>\n      <th>3</th>\n      <td>porygong9247@stanfordalumni.org</td>\n      <td>Porygon</td>\n      <td>Grass</td>\n      <td>False</td>\n      <td>M</td>\n      <td>Bay Area</td>\n      <td>NaN</td>\n      <td>Japan</td>\n      <td>MS</td>\n      <td>NaN</td>\n      <td>NaN</td>\n      <td>NaN</td>\n      <td>NaN</td>\n      <td>NaN</td>\n      <td>NaN</td>\n      <td>NaN</td>\n      <td>NaN</td>\n      <td>NaN</td>\n      <td>NaN</td>\n      <td>NaN</td>\n      <td>NaN</td>\n      <td>NaN</td>\n      <td>NaN</td>\n      <td>NaN</td>\n      <td>NaN</td>\n      <td>NaN</td>\n      <td>NaN</td>\n      <td>NaN</td>\n    </tr>\n    <tr>\n      <th>4</th>\n      <td>tangelagrass1376@gmail.com</td>\n      <td>Tangela</td>\n      <td>Grass</td>\n      <td>False</td>\n      <td>NaN</td>\n      <td>New England</td>\n      <td>NaN</td>\n      <td>United States</td>\n      <td>NaN</td>\n      <td>NaN</td>\n      <td>NaN</td>\n      <td>NaN</td>\n      <td>NaN</td>\n      <td>NaN</td>\n      <td>NaN</td>\n      <td>NaN</td>\n      <td>NaN</td>\n      <td>NaN</td>\n      <td>NaN</td>\n      <td>NaN</td>\n      <td>NaN</td>\n      <td>NaN</td>\n      <td>NaN</td>\n      <td>NaN</td>\n      <td>NaN</td>\n      <td>NaN</td>\n      <td>NaN</td>\n      <td>NaN</td>\n    </tr>\n    <tr>\n      <th>5</th>\n      <td>c.electric7518@gmail.com</td>\n      <td>Chansey</td>\n      <td>Steel</td>\n      <td>True</td>\n      <td>F</td>\n      <td>Other US</td>\n      <td>NaN</td>\n      <td>USA</td>\n      <td>NaN</td>\n      <td>NaN</td>\n      <td>NaN</td>\n      <td>NaN</td>\n      <td>NaN</td>\n      <td>NaN</td>\n      <td>NaN</td>\n      <td>NaN</td>\n      <td>NaN</td>\n      <td>NaN</td>\n      <td>NaN</td>\n      <td>NaN</td>\n      <td>NaN</td>\n      <td>NaN</td>\n      <td>NaN</td>\n      <td>NaN</td>\n      <td>NaN</td>\n      <td>NaN</td>\n      <td>NaN</td>\n      <td>NaN</td>\n    </tr>\n    <tr>\n      <th>6</th>\n      <td>blissey.ghost4154@gmail.com</td>\n      <td>Blissey</td>\n      <td>Ghost</td>\n      <td>False</td>\n      <td>M</td>\n      <td>New England</td>\n      <td>NaN</td>\n      <td>Macao Special Administrative Region of China</td>\n      <td>NaN</td>\n      <td>NaN</td>\n      <td>NaN</td>\n      <td>NaN</td>\n      <td>NaN</td>\n      <td>NaN</td>\n      <td>NaN</td>\n      <td>NaN</td>\n      <td>NaN</td>\n      <td>NaN</td>\n      <td>NaN</td>\n      <td>NaN</td>\n      <td>NaN</td>\n      <td>NaN</td>\n      <td>NaN</td>\n      <td>NaN</td>\n      <td>NaN</td>\n      <td>NaN</td>\n      <td>NaN</td>\n      <td>NaN</td>\n    </tr>\n  </tbody>\n</table>\n</div>"
     },
     "execution_count": 15,
     "metadata": {},
     "output_type": "execute_result"
    }
   ],
   "source": [
    "df_mailchimp_original = pd.read_csv('./data/Fake_MailChimp_cleaned_Pokemon.csv')\n",
    "df_mailchimp_original"
   ]
  },
  {
   "cell_type": "markdown",
   "metadata": {
    "pycharm": {
     "name": "#%% md\n"
    }
   },
   "source": [
    "The mailchimp dataset contains information that is not found in the SAA as such it is not helpful to keep them in our dataframe and unnecessary since we know that the dataset contains ONLY BOUNCED individuals. "
   ]
  },
  {
   "cell_type": "code",
   "execution_count": 16,
   "metadata": {
    "ExecuteTime": {
     "end_time": "2022-06-27T19:21:18.359289Z",
     "start_time": "2022-06-27T19:21:18.348346Z"
    },
    "pycharm": {
     "name": "#%%\n"
    }
   },
   "outputs": [
    {
     "data": {
      "text/plain": "  First Name Last Name                        Email Address Degree  \\\n0    Slakoth    Normal         slakoth.normal3945@gmail.com    NaN   \n1     Espeon      Rock                 e.rock7454@gmail.com    NaN   \n2     Rhydon     Ghost  rhydonghost7966@alumni.stanford.edu    MBA   \n3    Porygon     Grass      porygong9247@stanfordalumni.org     MS   \n4    Tangela     Grass           tangelagrass1376@gmail.com    NaN   \n5    Chansey     Steel             c.electric7518@gmail.com    NaN   \n6    Blissey     Ghost          blissey.ghost4154@gmail.com    NaN   \n\n                                        Country  \n0                                           USA  \n1                                 United States  \n2                                           USA  \n3                                         Japan  \n4                                 United States  \n5                                           USA  \n6  Macao Special Administrative Region of China  ",
      "text/html": "<div>\n<style scoped>\n    .dataframe tbody tr th:only-of-type {\n        vertical-align: middle;\n    }\n\n    .dataframe tbody tr th {\n        vertical-align: top;\n    }\n\n    .dataframe thead th {\n        text-align: right;\n    }\n</style>\n<table border=\"1\" class=\"dataframe\">\n  <thead>\n    <tr style=\"text-align: right;\">\n      <th></th>\n      <th>First Name</th>\n      <th>Last Name</th>\n      <th>Email Address</th>\n      <th>Degree</th>\n      <th>Country</th>\n    </tr>\n  </thead>\n  <tbody>\n    <tr>\n      <th>0</th>\n      <td>Slakoth</td>\n      <td>Normal</td>\n      <td>slakoth.normal3945@gmail.com</td>\n      <td>NaN</td>\n      <td>USA</td>\n    </tr>\n    <tr>\n      <th>1</th>\n      <td>Espeon</td>\n      <td>Rock</td>\n      <td>e.rock7454@gmail.com</td>\n      <td>NaN</td>\n      <td>United States</td>\n    </tr>\n    <tr>\n      <th>2</th>\n      <td>Rhydon</td>\n      <td>Ghost</td>\n      <td>rhydonghost7966@alumni.stanford.edu</td>\n      <td>MBA</td>\n      <td>USA</td>\n    </tr>\n    <tr>\n      <th>3</th>\n      <td>Porygon</td>\n      <td>Grass</td>\n      <td>porygong9247@stanfordalumni.org</td>\n      <td>MS</td>\n      <td>Japan</td>\n    </tr>\n    <tr>\n      <th>4</th>\n      <td>Tangela</td>\n      <td>Grass</td>\n      <td>tangelagrass1376@gmail.com</td>\n      <td>NaN</td>\n      <td>United States</td>\n    </tr>\n    <tr>\n      <th>5</th>\n      <td>Chansey</td>\n      <td>Steel</td>\n      <td>c.electric7518@gmail.com</td>\n      <td>NaN</td>\n      <td>USA</td>\n    </tr>\n    <tr>\n      <th>6</th>\n      <td>Blissey</td>\n      <td>Ghost</td>\n      <td>blissey.ghost4154@gmail.com</td>\n      <td>NaN</td>\n      <td>Macao Special Administrative Region of China</td>\n    </tr>\n  </tbody>\n</table>\n</div>"
     },
     "execution_count": 16,
     "metadata": {},
     "output_type": "execute_result"
    }
   ],
   "source": [
    "# Filter necessary columns\n",
    "df_mailchimp = df_mailchimp_original.filter(['First Name', 'Last Name', 'Email Address',\n",
    "                                         'Degree', 'Country'])\n",
    "df_mailchimp"
   ]
  },
  {
   "cell_type": "code",
   "execution_count": 17,
   "metadata": {
    "ExecuteTime": {
     "end_time": "2022-06-27T19:21:20.632831Z",
     "start_time": "2022-06-27T19:21:20.615878Z"
    },
    "pycharm": {
     "name": "#%%\n"
    }
   },
   "outputs": [
    {
     "data": {
      "text/plain": "  First Name Last Name                        Email Address Degree  \\\n0    Slakoth    Normal         slakoth.normal3945@gmail.com    n/a   \n1     Espeon      Rock                 e.rock7454@gmail.com    n/a   \n2     Rhydon     Ghost  rhydonghost7966@alumni.stanford.edu    MBA   \n3    Porygon     Grass      porygong9247@stanfordalumni.org     MS   \n4    Tangela     Grass           tangelagrass1376@gmail.com    n/a   \n5    Chansey     Steel             c.electric7518@gmail.com    n/a   \n6    Blissey     Ghost          blissey.ghost4154@gmail.com    n/a   \n\n                                        Country  \n0                                           USA  \n1                                 United States  \n2                                           USA  \n3                                         Japan  \n4                                 United States  \n5                                           USA  \n6  Macao Special Administrative Region of China  ",
      "text/html": "<div>\n<style scoped>\n    .dataframe tbody tr th:only-of-type {\n        vertical-align: middle;\n    }\n\n    .dataframe tbody tr th {\n        vertical-align: top;\n    }\n\n    .dataframe thead th {\n        text-align: right;\n    }\n</style>\n<table border=\"1\" class=\"dataframe\">\n  <thead>\n    <tr style=\"text-align: right;\">\n      <th></th>\n      <th>First Name</th>\n      <th>Last Name</th>\n      <th>Email Address</th>\n      <th>Degree</th>\n      <th>Country</th>\n    </tr>\n  </thead>\n  <tbody>\n    <tr>\n      <th>0</th>\n      <td>Slakoth</td>\n      <td>Normal</td>\n      <td>slakoth.normal3945@gmail.com</td>\n      <td>n/a</td>\n      <td>USA</td>\n    </tr>\n    <tr>\n      <th>1</th>\n      <td>Espeon</td>\n      <td>Rock</td>\n      <td>e.rock7454@gmail.com</td>\n      <td>n/a</td>\n      <td>United States</td>\n    </tr>\n    <tr>\n      <th>2</th>\n      <td>Rhydon</td>\n      <td>Ghost</td>\n      <td>rhydonghost7966@alumni.stanford.edu</td>\n      <td>MBA</td>\n      <td>USA</td>\n    </tr>\n    <tr>\n      <th>3</th>\n      <td>Porygon</td>\n      <td>Grass</td>\n      <td>porygong9247@stanfordalumni.org</td>\n      <td>MS</td>\n      <td>Japan</td>\n    </tr>\n    <tr>\n      <th>4</th>\n      <td>Tangela</td>\n      <td>Grass</td>\n      <td>tangelagrass1376@gmail.com</td>\n      <td>n/a</td>\n      <td>United States</td>\n    </tr>\n    <tr>\n      <th>5</th>\n      <td>Chansey</td>\n      <td>Steel</td>\n      <td>c.electric7518@gmail.com</td>\n      <td>n/a</td>\n      <td>USA</td>\n    </tr>\n    <tr>\n      <th>6</th>\n      <td>Blissey</td>\n      <td>Ghost</td>\n      <td>blissey.ghost4154@gmail.com</td>\n      <td>n/a</td>\n      <td>Macao Special Administrative Region of China</td>\n    </tr>\n  </tbody>\n</table>\n</div>"
     },
     "execution_count": 17,
     "metadata": {},
     "output_type": "execute_result"
    }
   ],
   "source": [
    "# Replace nulls with 'n/a'\n",
    "df_mailchimp.fillna('n/a',inplace=True)\n",
    "df_mailchimp"
   ]
  },
  {
   "cell_type": "code",
   "execution_count": 18,
   "metadata": {
    "ExecuteTime": {
     "end_time": "2022-06-27T19:21:23.210755Z",
     "start_time": "2022-06-27T19:21:23.184824Z"
    },
    "pycharm": {
     "name": "#%%\n"
    }
   },
   "outputs": [
    {
     "data": {
      "text/plain": "  First Name Last Name                        Email Address Degree  \\\n0    slakoth    normal         slakoth.normal3945@gmail.com    n/a   \n1     espeon      rock                 e.rock7454@gmail.com    n/a   \n2     rhydon     ghost  rhydonghost7966@alumni.stanford.edu    mba   \n3    porygon     grass      porygong9247@stanfordalumni.org     ms   \n4    tangela     grass           tangelagrass1376@gmail.com    n/a   \n5    chansey     steel             c.electric7518@gmail.com    n/a   \n6    blissey     ghost          blissey.ghost4154@gmail.com    n/a   \n\n                                        Country  \n0                                           USA  \n1                                 United States  \n2                                           USA  \n3                                         Japan  \n4                                 United States  \n5                                           USA  \n6  Macao Special Administrative Region of China  ",
      "text/html": "<div>\n<style scoped>\n    .dataframe tbody tr th:only-of-type {\n        vertical-align: middle;\n    }\n\n    .dataframe tbody tr th {\n        vertical-align: top;\n    }\n\n    .dataframe thead th {\n        text-align: right;\n    }\n</style>\n<table border=\"1\" class=\"dataframe\">\n  <thead>\n    <tr style=\"text-align: right;\">\n      <th></th>\n      <th>First Name</th>\n      <th>Last Name</th>\n      <th>Email Address</th>\n      <th>Degree</th>\n      <th>Country</th>\n    </tr>\n  </thead>\n  <tbody>\n    <tr>\n      <th>0</th>\n      <td>slakoth</td>\n      <td>normal</td>\n      <td>slakoth.normal3945@gmail.com</td>\n      <td>n/a</td>\n      <td>USA</td>\n    </tr>\n    <tr>\n      <th>1</th>\n      <td>espeon</td>\n      <td>rock</td>\n      <td>e.rock7454@gmail.com</td>\n      <td>n/a</td>\n      <td>United States</td>\n    </tr>\n    <tr>\n      <th>2</th>\n      <td>rhydon</td>\n      <td>ghost</td>\n      <td>rhydonghost7966@alumni.stanford.edu</td>\n      <td>mba</td>\n      <td>USA</td>\n    </tr>\n    <tr>\n      <th>3</th>\n      <td>porygon</td>\n      <td>grass</td>\n      <td>porygong9247@stanfordalumni.org</td>\n      <td>ms</td>\n      <td>Japan</td>\n    </tr>\n    <tr>\n      <th>4</th>\n      <td>tangela</td>\n      <td>grass</td>\n      <td>tangelagrass1376@gmail.com</td>\n      <td>n/a</td>\n      <td>United States</td>\n    </tr>\n    <tr>\n      <th>5</th>\n      <td>chansey</td>\n      <td>steel</td>\n      <td>c.electric7518@gmail.com</td>\n      <td>n/a</td>\n      <td>USA</td>\n    </tr>\n    <tr>\n      <th>6</th>\n      <td>blissey</td>\n      <td>ghost</td>\n      <td>blissey.ghost4154@gmail.com</td>\n      <td>n/a</td>\n      <td>Macao Special Administrative Region of China</td>\n    </tr>\n  </tbody>\n</table>\n</div>"
     },
     "execution_count": 18,
     "metadata": {},
     "output_type": "execute_result"
    }
   ],
   "source": [
    "#clean column names for easier handling\n",
    "for col in ['First Name','Last Name','Email Address','Degree']:\n",
    "    df_mailchimp[col] = df_mailchimp[col].str.lower().str.strip()\n",
    "df_mailchimp"
   ]
  },
  {
   "cell_type": "code",
   "execution_count": 19,
   "metadata": {
    "ExecuteTime": {
     "end_time": "2022-06-27T19:21:24.471672Z",
     "start_time": "2022-06-27T19:21:24.449988Z"
    },
    "scrolled": true,
    "pycharm": {
     "name": "#%%\n"
    }
   },
   "outputs": [
    {
     "data": {
      "text/plain": "  First Name Last Name       Email Address Degree  \\\n0    slakoth    normal  slakoth.normal3945    n/a   \n1     espeon      rock          e.rock7454    n/a   \n2     rhydon     ghost     rhydonghost7966    mba   \n3    porygon     grass        porygong9247     ms   \n4    tangela     grass    tangelagrass1376    n/a   \n5    chansey     steel      c.electric7518    n/a   \n6    blissey     ghost   blissey.ghost4154    n/a   \n\n                                        Country  \n0                                           USA  \n1                                 United States  \n2                                           USA  \n3                                         Japan  \n4                                 United States  \n5                                           USA  \n6  Macao Special Administrative Region of China  ",
      "text/html": "<div>\n<style scoped>\n    .dataframe tbody tr th:only-of-type {\n        vertical-align: middle;\n    }\n\n    .dataframe tbody tr th {\n        vertical-align: top;\n    }\n\n    .dataframe thead th {\n        text-align: right;\n    }\n</style>\n<table border=\"1\" class=\"dataframe\">\n  <thead>\n    <tr style=\"text-align: right;\">\n      <th></th>\n      <th>First Name</th>\n      <th>Last Name</th>\n      <th>Email Address</th>\n      <th>Degree</th>\n      <th>Country</th>\n    </tr>\n  </thead>\n  <tbody>\n    <tr>\n      <th>0</th>\n      <td>slakoth</td>\n      <td>normal</td>\n      <td>slakoth.normal3945</td>\n      <td>n/a</td>\n      <td>USA</td>\n    </tr>\n    <tr>\n      <th>1</th>\n      <td>espeon</td>\n      <td>rock</td>\n      <td>e.rock7454</td>\n      <td>n/a</td>\n      <td>United States</td>\n    </tr>\n    <tr>\n      <th>2</th>\n      <td>rhydon</td>\n      <td>ghost</td>\n      <td>rhydonghost7966</td>\n      <td>mba</td>\n      <td>USA</td>\n    </tr>\n    <tr>\n      <th>3</th>\n      <td>porygon</td>\n      <td>grass</td>\n      <td>porygong9247</td>\n      <td>ms</td>\n      <td>Japan</td>\n    </tr>\n    <tr>\n      <th>4</th>\n      <td>tangela</td>\n      <td>grass</td>\n      <td>tangelagrass1376</td>\n      <td>n/a</td>\n      <td>United States</td>\n    </tr>\n    <tr>\n      <th>5</th>\n      <td>chansey</td>\n      <td>steel</td>\n      <td>c.electric7518</td>\n      <td>n/a</td>\n      <td>USA</td>\n    </tr>\n    <tr>\n      <th>6</th>\n      <td>blissey</td>\n      <td>ghost</td>\n      <td>blissey.ghost4154</td>\n      <td>n/a</td>\n      <td>Macao Special Administrative Region of China</td>\n    </tr>\n  </tbody>\n</table>\n</div>"
     },
     "execution_count": 19,
     "metadata": {},
     "output_type": "execute_result"
    }
   ],
   "source": [
    "#remove email domains using removeEmailDomain helper function\n",
    "df_mailchimp['Email Address'] = df_mailchimp['Email Address'].apply(removeEmailDomain)\n",
    "df_mailchimp"
   ]
  },
  {
   "cell_type": "code",
   "execution_count": 20,
   "metadata": {
    "ExecuteTime": {
     "end_time": "2022-06-27T19:21:37.350103Z",
     "start_time": "2022-06-27T19:21:37.340066Z"
    },
    "scrolled": false,
    "pycharm": {
     "name": "#%%\n"
    }
   },
   "outputs": [],
   "source": [
    "# Convert Country to 3 digit code\n",
    "# df_mailchimp.Country = df_mailchimp.Country.apply(mapCountry)\n",
    "# df_mailchimp"
   ]
  },
  {
   "cell_type": "markdown",
   "metadata": {
    "pycharm": {
     "name": "#%% md\n"
    }
   },
   "source": [
    "Converting to 3-char country code is time consuming. Reserving that conversion after subsetting."
   ]
  },
  {
   "cell_type": "code",
   "execution_count": 21,
   "metadata": {
    "ExecuteTime": {
     "end_time": "2022-06-27T19:21:38.076495Z",
     "start_time": "2022-06-27T19:21:38.062168Z"
    },
    "pycharm": {
     "name": "#%%\n"
    }
   },
   "outputs": [
    {
     "data": {
      "text/plain": "  First Name Last Name       Email Address Degree  \\\n0    slakoth    normal  slakoth.normal3945    n/a   \n1     espeon      rock          e.rock7454    n/a   \n2     rhydon     ghost     rhydonghost7966    mba   \n3    porygon     grass        porygong9247     ms   \n4    tangela     grass    tangelagrass1376    n/a   \n5    chansey     steel      c.electric7518    n/a   \n6    blissey     ghost   blissey.ghost4154    n/a   \n\n                                        Country  \n0                                           USA  \n1                                 United States  \n2                                           USA  \n3                                         Japan  \n4                                 United States  \n5                                           USA  \n6  Macao Special Administrative Region of China  ",
      "text/html": "<div>\n<style scoped>\n    .dataframe tbody tr th:only-of-type {\n        vertical-align: middle;\n    }\n\n    .dataframe tbody tr th {\n        vertical-align: top;\n    }\n\n    .dataframe thead th {\n        text-align: right;\n    }\n</style>\n<table border=\"1\" class=\"dataframe\">\n  <thead>\n    <tr style=\"text-align: right;\">\n      <th></th>\n      <th>First Name</th>\n      <th>Last Name</th>\n      <th>Email Address</th>\n      <th>Degree</th>\n      <th>Country</th>\n    </tr>\n  </thead>\n  <tbody>\n    <tr>\n      <th>0</th>\n      <td>slakoth</td>\n      <td>normal</td>\n      <td>slakoth.normal3945</td>\n      <td>n/a</td>\n      <td>USA</td>\n    </tr>\n    <tr>\n      <th>1</th>\n      <td>espeon</td>\n      <td>rock</td>\n      <td>e.rock7454</td>\n      <td>n/a</td>\n      <td>United States</td>\n    </tr>\n    <tr>\n      <th>2</th>\n      <td>rhydon</td>\n      <td>ghost</td>\n      <td>rhydonghost7966</td>\n      <td>mba</td>\n      <td>USA</td>\n    </tr>\n    <tr>\n      <th>3</th>\n      <td>porygon</td>\n      <td>grass</td>\n      <td>porygong9247</td>\n      <td>ms</td>\n      <td>Japan</td>\n    </tr>\n    <tr>\n      <th>4</th>\n      <td>tangela</td>\n      <td>grass</td>\n      <td>tangelagrass1376</td>\n      <td>n/a</td>\n      <td>United States</td>\n    </tr>\n    <tr>\n      <th>5</th>\n      <td>chansey</td>\n      <td>steel</td>\n      <td>c.electric7518</td>\n      <td>n/a</td>\n      <td>USA</td>\n    </tr>\n    <tr>\n      <th>6</th>\n      <td>blissey</td>\n      <td>ghost</td>\n      <td>blissey.ghost4154</td>\n      <td>n/a</td>\n      <td>Macao Special Administrative Region of China</td>\n    </tr>\n  </tbody>\n</table>\n</div>"
     },
     "execution_count": 21,
     "metadata": {},
     "output_type": "execute_result"
    }
   ],
   "source": [
    "# Cleaning degree string column using cleanDegreeStr helper function\n",
    "df_mailchimp.Degree = df_mailchimp.Degree.apply(cleanDegreeStr)\n",
    "df_mailchimp"
   ]
  },
  {
   "cell_type": "markdown",
   "metadata": {
    "ExecuteTime": {
     "end_time": "2022-06-27T03:28:12.271586Z",
     "start_time": "2022-06-27T03:28:12.241580Z"
    },
    "pycharm": {
     "name": "#%% md\n"
    }
   },
   "source": [
    "# Find Best Match for each MailChimp record"
   ]
  },
  {
   "cell_type": "markdown",
   "metadata": {
    "pycharm": {
     "name": "#%% md\n"
    }
   },
   "source": [
    "Finding the best match for each mail chimp record is a 3 step process:\n",
    "- Map the MailChimp record to the Stanford Alumni dataframe\n",
    "- Subset the entire dataframe by the first name*\n",
    "- Calculate the cosine similarity for the resulting subset\n",
    "\n",
    "Few edge cases to note:\n",
    "- Subset by just the first name, in case a user has changed their last name but change their emails or contact info\n",
    "- We check for similarity of the 'bounced' MailChimp email handle against *all* possible email fields\n",
    "- We check for similarity of the 'bounced' MailChimp country field against *all* possible country fields\n",
    "\n",
    "*last names can change due to marriage as such we decided to only focus on first name. We acknowledge that individuals can also change their first name as well, but we came to the conclusion that it would only affect a small portion of individuals in the database. Should this statistic change in the future then new considerations on how to filter should be discussed."
   ]
  },
  {
   "cell_type": "code",
   "execution_count": 22,
   "metadata": {
    "ExecuteTime": {
     "end_time": "2022-06-27T19:21:49.152400Z",
     "start_time": "2022-06-27T19:21:49.142558Z"
    },
    "pycharm": {
     "name": "#%%\n"
    }
   },
   "outputs": [],
   "source": [
    "def map_MailChimpData_to_SAA_DF(mc_rec_idx,df_mc=df_mailchimp):\n",
    "    '''\n",
    "    Creates a SAA df for the mailchimp individual. Because SAA has multiple\n",
    "    fields for email addresses and mailchimp only has one. The one email is then\n",
    "    filled in for all the different email addresses.\n",
    "    \n",
    "    '''\n",
    "    mc_rec = df_mc.iloc[mc_rec_idx]\n",
    "    target_dict = {'first_name': mc_rec['First Name'], \n",
    "                   'last_name': mc_rec['Last Name'],\n",
    "                   \n",
    "                   'home_email_address': mc_rec['Email Address'],\n",
    "                   'bus_email_address': mc_rec['Email Address'],\n",
    "                   'email_switch': mc_rec['Email Address'],\n",
    "                   'saa_email_address': mc_rec['Email Address'],\n",
    "                   'gsb_email_address': mc_rec['Email Address'],\n",
    "                   'other_email_address': mc_rec['Email Address'],\n",
    "                   \n",
    "                    'home_country': mc_rec['Country'],                   \n",
    "                    'bus_country': mc_rec['Country'],          \n",
    "                   \n",
    "                    'short_degree_string': mc_rec['Degree']\n",
    "                  \n",
    "                  }\n",
    "    df =  pd.DataFrame(target_dict,index=['mc_'+str(mc_rec_idx)])\n",
    "    return df"
   ]
  },
  {
   "cell_type": "code",
   "execution_count": 23,
   "metadata": {
    "ExecuteTime": {
     "end_time": "2022-06-27T19:27:51.209686Z",
     "start_time": "2022-06-27T19:27:51.184103Z"
    },
    "pycharm": {
     "name": "#%%\n"
    }
   },
   "outputs": [
    {
     "data": {
      "text/plain": "first_name                        slakoth\nlast_name                          normal\nhome_email_address     slakoth.normal3945\nbus_email_address      slakoth.normal3945\nemail_switch           slakoth.normal3945\nsaa_email_address      slakoth.normal3945\ngsb_email_address      slakoth.normal3945\nother_email_address    slakoth.normal3945\nhome_country                          USA\nbus_country                           USA\nshort_degree_string                   n/a\nName: mc_0, dtype: object"
     },
     "execution_count": 23,
     "metadata": {},
     "output_type": "execute_result"
    }
   ],
   "source": [
    "# verifying our function worked as desired\n",
    "map_MailChimpData_to_SAA_DF(0).iloc[0]"
   ]
  },
  {
   "cell_type": "code",
   "execution_count": 24,
   "metadata": {
    "ExecuteTime": {
     "end_time": "2022-06-27T17:49:25.600085Z",
     "start_time": "2022-06-27T17:49:25.595084Z"
    },
    "pycharm": {
     "name": "#%%\n"
    }
   },
   "outputs": [
    {
     "name": "stdout",
     "output_type": "stream",
     "text": [
      "(7, 5)\n"
     ]
    }
   ],
   "source": [
    "print(df_mailchimp.shape)"
   ]
  },
  {
   "cell_type": "markdown",
   "source": [
    "## Expected Result\n",
    "\n",
    "The result returned is a dictionary of\n",
    "- Dataframe of data in order of score (key: `df`)\n",
    "- List of index of records in stanford alumni dataframe in order of score (key: `idx`)\n",
    "- List of cosin similarity scores (key: `score`)"
   ],
   "metadata": {
    "collapsed": false,
    "pycharm": {
     "name": "#%% md\n"
    }
   }
  },
  {
   "cell_type": "markdown",
   "source": [
    "We are making it into a dictionary in order for us to be able to access the different aspects of the data such as the score,dataframe etc.. Not only that but potentially this may be helpful to UI/UX designers."
   ],
   "metadata": {
    "collapsed": false,
    "pycharm": {
     "name": "#%% md\n"
    }
   }
  },
  {
   "cell_type": "code",
   "execution_count": 34,
   "metadata": {
    "ExecuteTime": {
     "end_time": "2022-06-27T19:50:17.703138Z",
     "start_time": "2022-06-27T19:49:57.766461Z"
    },
    "scrolled": false,
    "pycharm": {
     "name": "#%%\n"
    }
   },
   "outputs": [],
   "source": [
    "results_dict = {}\n",
    "\n",
    "for i in range(0,df_mailchimp.shape[0]):\n",
    "    user_dict={}\n",
    "    #map the data of a mailchimp record to the format in SAA df\n",
    "    df_mapped_mc_rec = map_MailChimpData_to_SAA_DF(i)\n",
    "    \n",
    "    #subsetting the original SAA df by the first name\n",
    "    df_saa_subset = df_saa[df_saa['first_name'] == df_mapped_mc_rec.iloc[0]['first_name']]\n",
    "    \n",
    "    #Concattenating the 2 dataframes together\n",
    "    df_mc_and_saa_subset = pd.concat([df_mapped_mc_rec,df_saa_subset], axis = 0)\n",
    "    \n",
    "    #Changing degree column to vectorized columns\n",
    "    df_mc_and_saa_subset = parseDegreeCol(df=df_mc_and_saa_subset,deg_colName='short_degree_string')\n",
    "    \n",
    "    #Map the country to their 3 digit codes\n",
    "    df_mc_and_saa_subset.home_country = df_mc_and_saa_subset.home_country.apply(mapCountry)\n",
    "    df_mc_and_saa_subset.bus_country = df_mc_and_saa_subset.bus_country.apply(mapCountry)\n",
    "\n",
    "    #one hot encoding our dataframe\n",
    "    ohe_df = ohe(df_mc_and_saa_subset, df_mc_and_saa_subset.columns)\n",
    "    #dropping off the columns that have been ohe since they are still present\n",
    "    ohe_df.drop(columns = df_mc_and_saa_subset.columns, inplace = True)\n",
    "    \n",
    "    # setting our y for cosine similarity\n",
    "    y = np.array(ohe_df.iloc[0])\n",
    "    y = y.reshape(1,-1)\n",
    "    \n",
    "    # using Cosine Similarity\n",
    "    cos_sim = cosine_similarity(ohe_df, y)\n",
    "    \n",
    "    #converting the cosine score array into a df\n",
    "    cos_sim = pd.DataFrame(data=cos_sim, index=ohe_df.index).sort_values(by=0, ascending=False) #[1:]\n",
    "    \n",
    "    #saving the cos_sim index which should be the SAA indexes\n",
    "    results = list(cos_sim.index)\n",
    "    \n",
    "    #locating these indexes in our subset\n",
    "    results_df = df_mc_and_saa_subset.loc[results]\n",
    "\n",
    "    # save the cosine df as a value to the cosine_sim_result\n",
    "    user_dict['cosine_sim_result'] = results_df\n",
    "    \n",
    "    #original data that can be found the SAA database that matches with the MailChimp\n",
    "    user_dict['SAA_query_result'] = df_saa_original.iloc[results[1:]]\n",
    "    \n",
    "    # creates a dictonary \n",
    "    results_dict[i] = user_dict"
   ]
  },
  {
   "cell_type": "code",
   "execution_count": 35,
   "metadata": {
    "pycharm": {
     "name": "#%%\n"
    }
   },
   "outputs": [
    {
     "data": {
      "text/plain": "{'cosine_sim_result':      first_name last_name home_email_address  bus_email_address  \\\n mc_6    blissey     ghost  blissey.ghost4154  blissey.ghost4154   \n 600     blissey     ghost                n/a                n/a   \n 754     blissey      rock                n/a                n/a   \n 802     blissey     steel                n/a                n/a   \n 1600    blissey    dragon                n/a                n/a   \n 390     blissey     fairy         bfairy6293                n/a   \n 850     blissey       ice                n/a                n/a   \n 977     blissey       ice                n/a                n/a   \n 1430    blissey      rock                n/a                n/a   \n 1648    blissey      fire        blisseyf465                n/a   \n 2402    blissey       ice           bice5800                n/a   \n 858     blissey      rock                n/a   blissey.rock4438   \n 1545    blissey      dark       blisseyd5981                n/a   \n 1935    blissey     water                n/a    blisseywater628   \n 3811    blissey    poison                n/a                n/a   \n \n            email_switch  saa_email_address  gsb_email_address  \\\n mc_6  blissey.ghost4154  blissey.ghost4154  blissey.ghost4154   \n 600   blissey.ghost4154                n/a                n/a   \n 754        blisseyr2075                n/a                n/a   \n 802        blisseys3334                n/a                n/a   \n 1600                n/a        bdragon9208                n/a   \n 390        blisseyf5884                n/a                n/a   \n 850            bice9725           bice7796                n/a   \n 977        blisseyi5337                n/a          b.ice9706   \n 1430                n/a                n/a                n/a   \n 1648                n/a                n/a                n/a   \n 2402                n/a    blissey.ice4795                n/a   \n 858        blisseyr3225                n/a                n/a   \n 1545                n/a                n/a                n/a   \n 1935        b.water9408         bwater5537                n/a   \n 3811                n/a                n/a                n/a   \n \n      other_email_address home_country bus_country  bs  jd  ma  mba  md  ms  \\\n mc_6   blissey.ghost4154          MAC         MAC   0   0   0    0   0   0   \n 600                  n/a          USA         n/a   0   0   0    0   0   0   \n 754                  n/a          CHN         n/a   0   0   0    0   0   0   \n 802                  n/a          KWT         n/a   0   0   0    0   0   0   \n 1600                 n/a          JPN         USA   0   0   0    0   0   0   \n 390                  n/a          KWT         n/a   0   0   0    1   0   0   \n 850                  n/a          JPN         KWT   0   0   0    0   0   1   \n 977                  n/a          CHN         KWT   0   0   0    0   0   1   \n 1430                 n/a          USA         KWT   0   0   0    0   0   0   \n 1648                 n/a          USA         JPN   0   0   0    0   0   1   \n 2402                 n/a          KWT         CHN   1   0   0    0   0   0   \n 858                  n/a          n/a         USA   0   0   1    0   0   0   \n 1545                 n/a          KWT         USA   0   1   1    0   0   0   \n 1935                 n/a          JPN         JPN   0   0   1    0   0   0   \n 3811                 n/a          n/a         USA   1   0   0    0   1   0   \n \n       phd  \n mc_6    0  \n 600     0  \n 754     0  \n 802     0  \n 1600    0  \n 390     0  \n 850     0  \n 977     0  \n 1430    1  \n 1648    0  \n 2402    0  \n 858     1  \n 1545    0  \n 1935    1  \n 3811    1  ,\n 'SAA_query_result':       pref_mail_name  pref_class_year home_city home_state_code home_country  \\\n 600              NaN              NaN     Dubai             NaN          USA   \n 754              NaN           2011.0         *               *        China   \n 802              NaN           2017.0     Seoul             NaN       Kuwait   \n 1600             NaN              NaN       NaN             NaN        Japan   \n 390              NaN              NaN   Chicago              IL       Kuwait   \n 850              NaN           1995.0     Tokyo             NaN        Japan   \n 977              NaN              NaN       NaN             NaN        China   \n 1430             NaN              NaN    London             NaN          USA   \n 1648             NaN              NaN   Beijing             NaN          USA   \n 2402             NaN           2001.0     Seoul             NaN       Kuwait   \n 858              NaN              NaN   Beijing             NaN            *   \n 1545             NaN           2000.0       NaN             NaN       Kuwait   \n 1935             NaN              NaN       NaN             NaN        Japan   \n 3811             NaN              NaN   Beijing             NaN          NaN   \n \n       home_phone_area_code home_phone_number               home_email_address  \\\n 600                    NaN                 *                              NaN   \n 754                    NaN               NaN                                *   \n 802                    NaN                 *                              NaN   \n 1600                   NaN                 *                                *   \n 390                    NaN               NaN    bfairy6293@stanfordalumni.org   \n 850                    NaN                 *                              NaN   \n 977                    NaN                 *                              NaN   \n 1430                   NaN      639 3158-644                                *   \n 1648                   NaN               NaN  blisseyf465@alumni.stanford.edu   \n 2402                   NaN      611 7404-598               bice5800@gmail.com   \n 858                    NaN               NaN                                *   \n 1545                   NaN                 *           blisseyd5981@gmail.com   \n 1935                   NaN               NaN                              NaN   \n 3811                   NaN               NaN                              NaN   \n \n       bus_city  bus_state_code    bus_country  bus_phone_area_code  \\\n 600        NaN             NaN            NaN                  NaN   \n 754        NaN             NaN              *                  NaN   \n 802        NaN             NaN              *                  NaN   \n 1600       NaN             NaN  United States                  NaN   \n 390        NaN             NaN            NaN                  NaN   \n 850        NaN             NaN         Kuwait                  NaN   \n 977        NaN             NaN         Kuwait                  NaN   \n 1430       NaN             NaN         Kuwait                  NaN   \n 1648       NaN             NaN          Japan                  NaN   \n 2402       NaN             NaN          China                  NaN   \n 858        NaN             NaN  United States                  NaN   \n 1545       NaN             NaN  United States                  NaN   \n 1935       NaN             NaN          Japan                  NaN   \n 3811       NaN             NaN  United States                  NaN   \n \n       bus_phone_number                     bus_email_address first_name  \\\n 600                NaN                                   NaN    Blissey   \n 754                NaN                                   NaN    Blissey   \n 802                NaN                                   NaN    Blissey   \n 1600               NaN                                   NaN    Blissey   \n 390                NaN                                   NaN    Blissey   \n 850                NaN                                   NaN    Blissey   \n 977                NaN                                   NaN    Blissey   \n 1430               NaN                                   NaN    Blissey   \n 1648               NaN                                   NaN    Blissey   \n 2402               NaN                                   NaN    Blissey   \n 858                NaN  blissey.rock4438@alumni.stanford.edu    Blissey   \n 1545               NaN                                   NaN    Blissey   \n 1935               NaN   blisseywater628@alumni.stanford.edu    Blissey   \n 3811               NaN                                   NaN    Blissey   \n \n      last_name  pref_name_sort                           email_switch  \\\n 600      Ghost             NaN  blissey.ghost4154@alumni.stanford.edu   \n 754       Rock             NaN        blisseyr2075@stanfordalumni.org   \n 802      Steel             NaN        blisseys3334@stanfordalumni.org   \n 1600    Dragon             NaN                                    NaN   \n 390      Fairy             NaN                 blisseyf5884@gmail.com   \n 850        Ice             NaN                     bice9725@gmail.com   \n 977        Ice             NaN        blisseyi5337@stanfordalumni.org   \n 1430      Rock             NaN                                    NaN   \n 1648      Fire             NaN                                    NaN   \n 2402       Ice             NaN                                    NaN   \n 858       Rock             NaN        blisseyr3225@stanfordalumni.org   \n 1545      Dark             NaN                                    NaN   \n 1935     Water             NaN        b.water9408@alumni.stanford.edu   \n 3811    Poison             NaN                                    NaN   \n \n                         saa_email_address              gsb_email_address  \\\n 600                                     *                            NaN   \n 754                                   NaN                            NaN   \n 802                                     *                            NaN   \n 1600       bdragon9208@stanfordalumni.org                            NaN   \n 390                                   NaN                            NaN   \n 850           bice7796@stanfordalumni.org                            NaN   \n 977                                     *  b.ice9706@alumni.stanford.edu   \n 1430                                  NaN                            NaN   \n 1648                                    *                            NaN   \n 2402  blissey.ice4795@alumni.stanford.edu                            NaN   \n 858                                     *                            NaN   \n 1545                                    *                            NaN   \n 1935        bwater5537@stanfordalumni.org                            NaN   \n 3811                                  NaN                            NaN   \n \n       other_email_address  pref_phone_area_code  pref_phone_number  \\\n 600                   NaN                   NaN                NaN   \n 754                   NaN                   NaN                NaN   \n 802                   NaN                   NaN                NaN   \n 1600                  NaN                   NaN                NaN   \n 390                   NaN                   NaN                NaN   \n 850                   NaN                   NaN                NaN   \n 977                   NaN                   NaN                NaN   \n 1430                  NaN                   NaN                NaN   \n 1648                  NaN                   NaN                NaN   \n 2402                  NaN                   NaN                NaN   \n 858                   NaN                   NaN                NaN   \n 1545                  NaN                   NaN                NaN   \n 1935                  NaN                   NaN                NaN   \n 3811                  NaN                   NaN                NaN   \n \n       pref_phone_addr_type  memb_status_desc      short_degree_string  \\\n 600                    NaN               NaN                      NaN   \n 754                    NaN               NaN                      NaN   \n 802                    NaN               NaN                      NaN   \n 1600                   NaN               NaN                      NaN   \n 390                    NaN               NaN                  MBA '91   \n 850                    NaN               NaN              '95, MS '86   \n 977                    NaN               NaN                   MS '94   \n 1430                   NaN               NaN                  PhD '90   \n 1648                   NaN               NaN                   MS '98   \n 2402                   NaN               NaN                   BS '90   \n 858                    NaN               NaN          MA '97, PhD '94   \n 1545                   NaN               NaN           JD '97, MA '87   \n 1935                   NaN               NaN     PhD '95, '92, MA '84   \n 3811                   NaN               NaN  BS '89, PhD '89, MD '86   \n \n       parent_degree_string  short_degree_string_spouse  \\\n 600                    NaN                         NaN   \n 754                    NaN                         NaN   \n 802                    NaN                         NaN   \n 1600                   NaN                         NaN   \n 390                    NaN                         NaN   \n 850                    NaN                         NaN   \n 977                    NaN                         NaN   \n 1430                   NaN                         NaN   \n 1648                   NaN                         NaN   \n 2402                   NaN                         NaN   \n 858                    NaN                         NaN   \n 1545                   NaN                         NaN   \n 1935                   NaN                         NaN   \n 3811                   NaN                         NaN   \n \n       parent_degree_string_spouse  primary_sort_name  plan_name  primary_ind  \n 600                           NaN                NaN        NaN          NaN  \n 754                           NaN                NaN        NaN          NaN  \n 802                           NaN                NaN        NaN          NaN  \n 1600                          NaN                NaN        NaN          NaN  \n 390                           NaN                NaN        NaN          NaN  \n 850                           NaN                NaN        NaN          NaN  \n 977                           NaN                NaN        NaN          NaN  \n 1430                          NaN                NaN        NaN          NaN  \n 1648                          NaN                NaN        NaN          NaN  \n 2402                          NaN                NaN        NaN          NaN  \n 858                           NaN                NaN        NaN          NaN  \n 1545                          NaN                NaN        NaN          NaN  \n 1935                          NaN                NaN        NaN          NaN  \n 3811                          NaN                NaN        NaN          NaN  }"
     },
     "execution_count": 35,
     "metadata": {},
     "output_type": "execute_result"
    }
   ],
   "source": [
    "#inspecting user_dict\n",
    "user_dict"
   ]
  },
  {
   "cell_type": "code",
   "execution_count": 37,
   "outputs": [
    {
     "data": {
      "text/plain": "     first_name last_name  home_email_address   bus_email_address  \\\nmc_0    slakoth    normal  slakoth.normal3945  slakoth.normal3945   \n1290    slakoth    normal                 n/a                 n/a   \n1967    slakoth     ghost   slakoth.ghost5782                 n/a   \n74      slakoth    normal  slakoth.normal3945                 n/a   \n2052    slakoth     water        slakothw1017                 n/a   \n2353    slakoth    poison                 n/a        s.poison6761   \n503     slakoth      rock                 n/a                 n/a   \n776     slakoth    ground                 n/a                 n/a   \n1095    slakoth  fighting                 n/a                 n/a   \n1485    slakoth    ground          sground648         sground2975   \n2709    slakoth    dragon         s.dragon440                 n/a   \n3789    slakoth     ghost                 n/a                 n/a   \n2326    slakoth     water                 n/a                 n/a   \n2587    slakoth     grass                 n/a                 n/a   \n\n             email_switch   saa_email_address   gsb_email_address  \\\nmc_0   slakoth.normal3945  slakoth.normal3945  slakoth.normal3945   \n1290         s.normal5961                 n/a                 n/a   \n1967          slakothg316          sghost4008                 n/a   \n74                    n/a                 n/a                 n/a   \n2052          slakothw808                 n/a                 n/a   \n2353                  n/a                 n/a                 n/a   \n503             srock5364                 n/a                 n/a   \n776                   n/a                 n/a                 n/a   \n1095  slakothfighting1488       s.fighting883                 n/a   \n1485          sground5309   slakothground1530                 n/a   \n2709                  n/a         sdragon3285                 n/a   \n3789                  n/a                 n/a                 n/a   \n2326          s.water4650                 n/a                 n/a   \n2587                  n/a                 n/a                 n/a   \n\n     other_email_address home_country bus_country  ba  bs  jd  ma  mba  md  \\\nmc_0  slakoth.normal3945          USA         USA   0   0   0   0    0   0   \n1290                 n/a          USA         n/a   0   0   0   0    0   0   \n1967                 n/a          USA         n/a   0   0   0   0    0   0   \n74                   n/a          USA         JPN   1   0   0   0    1   0   \n2052                 n/a          KWT         USA   0   0   0   1    0   0   \n2353                 n/a          n/a         USA   0   0   0   0    1   0   \n503                  n/a          n/a         CHN   0   1   0   0    0   0   \n776                  n/a          n/a         n/a   1   0   0   0    0   0   \n1095                 n/a          USA         n/a   0   0   1   0    0   1   \n1485                 n/a          n/a         USA   0   0   0   0    0   1   \n2709                 n/a          n/a         USA   0   0   0   2    1   0   \n3789                 n/a          JPN         n/a   0   0   0   0    2   0   \n2326                 n/a          KWT         CHN   0   0   0   0    1   0   \n2587                 n/a          n/a         CHN   1   0   0   0    0   0   \n\n      ms  phd  \nmc_0   0    0  \n1290   0    0  \n1967   0    0  \n74     0    1  \n2052   0    0  \n2353   0    0  \n503    0    0  \n776    0    0  \n1095   0    0  \n1485   1    0  \n2709   0    0  \n3789   0    0  \n2326   0    1  \n2587   0    1  ",
      "text/html": "<div>\n<style scoped>\n    .dataframe tbody tr th:only-of-type {\n        vertical-align: middle;\n    }\n\n    .dataframe tbody tr th {\n        vertical-align: top;\n    }\n\n    .dataframe thead th {\n        text-align: right;\n    }\n</style>\n<table border=\"1\" class=\"dataframe\">\n  <thead>\n    <tr style=\"text-align: right;\">\n      <th></th>\n      <th>first_name</th>\n      <th>last_name</th>\n      <th>home_email_address</th>\n      <th>bus_email_address</th>\n      <th>email_switch</th>\n      <th>saa_email_address</th>\n      <th>gsb_email_address</th>\n      <th>other_email_address</th>\n      <th>home_country</th>\n      <th>bus_country</th>\n      <th>ba</th>\n      <th>bs</th>\n      <th>jd</th>\n      <th>ma</th>\n      <th>mba</th>\n      <th>md</th>\n      <th>ms</th>\n      <th>phd</th>\n    </tr>\n  </thead>\n  <tbody>\n    <tr>\n      <th>mc_0</th>\n      <td>slakoth</td>\n      <td>normal</td>\n      <td>slakoth.normal3945</td>\n      <td>slakoth.normal3945</td>\n      <td>slakoth.normal3945</td>\n      <td>slakoth.normal3945</td>\n      <td>slakoth.normal3945</td>\n      <td>slakoth.normal3945</td>\n      <td>USA</td>\n      <td>USA</td>\n      <td>0</td>\n      <td>0</td>\n      <td>0</td>\n      <td>0</td>\n      <td>0</td>\n      <td>0</td>\n      <td>0</td>\n      <td>0</td>\n    </tr>\n    <tr>\n      <th>1290</th>\n      <td>slakoth</td>\n      <td>normal</td>\n      <td>n/a</td>\n      <td>n/a</td>\n      <td>s.normal5961</td>\n      <td>n/a</td>\n      <td>n/a</td>\n      <td>n/a</td>\n      <td>USA</td>\n      <td>n/a</td>\n      <td>0</td>\n      <td>0</td>\n      <td>0</td>\n      <td>0</td>\n      <td>0</td>\n      <td>0</td>\n      <td>0</td>\n      <td>0</td>\n    </tr>\n    <tr>\n      <th>1967</th>\n      <td>slakoth</td>\n      <td>ghost</td>\n      <td>slakoth.ghost5782</td>\n      <td>n/a</td>\n      <td>slakothg316</td>\n      <td>sghost4008</td>\n      <td>n/a</td>\n      <td>n/a</td>\n      <td>USA</td>\n      <td>n/a</td>\n      <td>0</td>\n      <td>0</td>\n      <td>0</td>\n      <td>0</td>\n      <td>0</td>\n      <td>0</td>\n      <td>0</td>\n      <td>0</td>\n    </tr>\n    <tr>\n      <th>74</th>\n      <td>slakoth</td>\n      <td>normal</td>\n      <td>slakoth.normal3945</td>\n      <td>n/a</td>\n      <td>n/a</td>\n      <td>n/a</td>\n      <td>n/a</td>\n      <td>n/a</td>\n      <td>USA</td>\n      <td>JPN</td>\n      <td>1</td>\n      <td>0</td>\n      <td>0</td>\n      <td>0</td>\n      <td>1</td>\n      <td>0</td>\n      <td>0</td>\n      <td>1</td>\n    </tr>\n    <tr>\n      <th>2052</th>\n      <td>slakoth</td>\n      <td>water</td>\n      <td>slakothw1017</td>\n      <td>n/a</td>\n      <td>slakothw808</td>\n      <td>n/a</td>\n      <td>n/a</td>\n      <td>n/a</td>\n      <td>KWT</td>\n      <td>USA</td>\n      <td>0</td>\n      <td>0</td>\n      <td>0</td>\n      <td>1</td>\n      <td>0</td>\n      <td>0</td>\n      <td>0</td>\n      <td>0</td>\n    </tr>\n    <tr>\n      <th>2353</th>\n      <td>slakoth</td>\n      <td>poison</td>\n      <td>n/a</td>\n      <td>s.poison6761</td>\n      <td>n/a</td>\n      <td>n/a</td>\n      <td>n/a</td>\n      <td>n/a</td>\n      <td>n/a</td>\n      <td>USA</td>\n      <td>0</td>\n      <td>0</td>\n      <td>0</td>\n      <td>0</td>\n      <td>1</td>\n      <td>0</td>\n      <td>0</td>\n      <td>0</td>\n    </tr>\n    <tr>\n      <th>503</th>\n      <td>slakoth</td>\n      <td>rock</td>\n      <td>n/a</td>\n      <td>n/a</td>\n      <td>srock5364</td>\n      <td>n/a</td>\n      <td>n/a</td>\n      <td>n/a</td>\n      <td>n/a</td>\n      <td>CHN</td>\n      <td>0</td>\n      <td>1</td>\n      <td>0</td>\n      <td>0</td>\n      <td>0</td>\n      <td>0</td>\n      <td>0</td>\n      <td>0</td>\n    </tr>\n    <tr>\n      <th>776</th>\n      <td>slakoth</td>\n      <td>ground</td>\n      <td>n/a</td>\n      <td>n/a</td>\n      <td>n/a</td>\n      <td>n/a</td>\n      <td>n/a</td>\n      <td>n/a</td>\n      <td>n/a</td>\n      <td>n/a</td>\n      <td>1</td>\n      <td>0</td>\n      <td>0</td>\n      <td>0</td>\n      <td>0</td>\n      <td>0</td>\n      <td>0</td>\n      <td>0</td>\n    </tr>\n    <tr>\n      <th>1095</th>\n      <td>slakoth</td>\n      <td>fighting</td>\n      <td>n/a</td>\n      <td>n/a</td>\n      <td>slakothfighting1488</td>\n      <td>s.fighting883</td>\n      <td>n/a</td>\n      <td>n/a</td>\n      <td>USA</td>\n      <td>n/a</td>\n      <td>0</td>\n      <td>0</td>\n      <td>1</td>\n      <td>0</td>\n      <td>0</td>\n      <td>1</td>\n      <td>0</td>\n      <td>0</td>\n    </tr>\n    <tr>\n      <th>1485</th>\n      <td>slakoth</td>\n      <td>ground</td>\n      <td>sground648</td>\n      <td>sground2975</td>\n      <td>sground5309</td>\n      <td>slakothground1530</td>\n      <td>n/a</td>\n      <td>n/a</td>\n      <td>n/a</td>\n      <td>USA</td>\n      <td>0</td>\n      <td>0</td>\n      <td>0</td>\n      <td>0</td>\n      <td>0</td>\n      <td>1</td>\n      <td>1</td>\n      <td>0</td>\n    </tr>\n    <tr>\n      <th>2709</th>\n      <td>slakoth</td>\n      <td>dragon</td>\n      <td>s.dragon440</td>\n      <td>n/a</td>\n      <td>n/a</td>\n      <td>sdragon3285</td>\n      <td>n/a</td>\n      <td>n/a</td>\n      <td>n/a</td>\n      <td>USA</td>\n      <td>0</td>\n      <td>0</td>\n      <td>0</td>\n      <td>2</td>\n      <td>1</td>\n      <td>0</td>\n      <td>0</td>\n      <td>0</td>\n    </tr>\n    <tr>\n      <th>3789</th>\n      <td>slakoth</td>\n      <td>ghost</td>\n      <td>n/a</td>\n      <td>n/a</td>\n      <td>n/a</td>\n      <td>n/a</td>\n      <td>n/a</td>\n      <td>n/a</td>\n      <td>JPN</td>\n      <td>n/a</td>\n      <td>0</td>\n      <td>0</td>\n      <td>0</td>\n      <td>0</td>\n      <td>2</td>\n      <td>0</td>\n      <td>0</td>\n      <td>0</td>\n    </tr>\n    <tr>\n      <th>2326</th>\n      <td>slakoth</td>\n      <td>water</td>\n      <td>n/a</td>\n      <td>n/a</td>\n      <td>s.water4650</td>\n      <td>n/a</td>\n      <td>n/a</td>\n      <td>n/a</td>\n      <td>KWT</td>\n      <td>CHN</td>\n      <td>0</td>\n      <td>0</td>\n      <td>0</td>\n      <td>0</td>\n      <td>1</td>\n      <td>0</td>\n      <td>0</td>\n      <td>1</td>\n    </tr>\n    <tr>\n      <th>2587</th>\n      <td>slakoth</td>\n      <td>grass</td>\n      <td>n/a</td>\n      <td>n/a</td>\n      <td>n/a</td>\n      <td>n/a</td>\n      <td>n/a</td>\n      <td>n/a</td>\n      <td>n/a</td>\n      <td>CHN</td>\n      <td>1</td>\n      <td>0</td>\n      <td>0</td>\n      <td>0</td>\n      <td>0</td>\n      <td>0</td>\n      <td>0</td>\n      <td>1</td>\n    </tr>\n  </tbody>\n</table>\n</div>"
     },
     "execution_count": 37,
     "metadata": {},
     "output_type": "execute_result"
    }
   ],
   "source": [
    "#testing the results_dict\n",
    "#need index of the mailchimp record you want the score for before you can access the table\n",
    "results_dict[0]['cosine_sim_result']"
   ],
   "metadata": {
    "collapsed": false,
    "pycharm": {
     "name": "#%%\n"
    }
   }
  },
  {
   "cell_type": "code",
   "execution_count": 38,
   "metadata": {
    "scrolled": true,
    "pycharm": {
     "name": "#%%\n"
    }
   },
   "outputs": [
    {
     "data": {
      "text/plain": "      pref_mail_name  pref_class_year home_city home_state_code  \\\n1290             NaN              NaN     Seoul             NaN   \n1967             NaN              NaN    London             NaN   \n74               NaN              NaN     Seoul             NaN   \n2052             NaN              NaN         *               *   \n2353             NaN           2001.0       NaN             NaN   \n503              NaN           2018.0   Beijing             NaN   \n776              NaN              NaN     Seoul             NaN   \n1095             NaN              NaN    London             NaN   \n1485             NaN              NaN  Shanghai             NaN   \n2709             NaN              NaN       NaN             NaN   \n3789             NaN              NaN     Tokyo             NaN   \n2326             NaN              NaN     Seoul             NaN   \n2587             NaN           2014.0     Tokyo             NaN   \n\n       home_country  home_phone_area_code home_phone_number  \\\n1290            USA                   NaN      735 1117-916   \n1967  United States                   NaN               NaN   \n74              USA                   NaN                 *   \n2052         Kuwait                   NaN      339 5237-035   \n2353            NaN                   NaN                 *   \n503             NaN                   NaN                 *   \n776             NaN                   NaN               NaN   \n1095            USA                   NaN               NaN   \n1485            NaN                   NaN               NaN   \n2709            NaN                   NaN               NaN   \n3789          Japan                   NaN      440 3348-239   \n2326         Kuwait                   NaN               NaN   \n2587              *                   NaN               NaN   \n\n                          home_email_address  bus_city  bus_state_code  \\\n1290                                       *       NaN             NaN   \n1967    slakoth.ghost5782@stanfordalumni.org       NaN             NaN   \n74    slakoth.normal3945@alumni.stanford.edu       NaN             NaN   \n2052                  slakothw1017@gmail.com       NaN             NaN   \n2353                                     NaN       NaN             NaN   \n503                                        *       NaN             NaN   \n776                                      NaN       NaN             NaN   \n1095                                       *       NaN             NaN   \n1485           sground648@stanfordalumni.org       NaN             NaN   \n2709         s.dragon440@alumni.stanford.edu       NaN             NaN   \n3789                                     NaN       NaN             NaN   \n2326                                       *       NaN             NaN   \n2587                                     NaN       NaN             NaN   \n\n        bus_country  bus_phone_area_code  bus_phone_number  \\\n1290            NaN                  NaN               NaN   \n1967            NaN                  NaN               NaN   \n74            Japan                  NaN               NaN   \n2052            USA                  NaN               NaN   \n2353            USA                  NaN               NaN   \n503           China                  NaN               NaN   \n776             NaN                  NaN               NaN   \n1095            NaN                  NaN               NaN   \n1485            USA                  NaN               NaN   \n2709  United States                  NaN               NaN   \n3789              *                  NaN               NaN   \n2326          China                  NaN               NaN   \n2587          China                  NaN               NaN   \n\n                    bus_email_address first_name last_name  pref_name_sort  \\\n1290                              NaN    Slakoth    Normal             NaN   \n1967                              NaN    Slakoth     Ghost             NaN   \n74                                NaN    Slakoth    Normal             NaN   \n2052                              NaN    Slakoth     Water             NaN   \n2353  s.poison6761@stanfordalumni.org    Slakoth    Poison             NaN   \n503                               NaN    Slakoth      Rock             NaN   \n776                               NaN    Slakoth    Ground             NaN   \n1095                              NaN    Slakoth  Fighting             NaN   \n1485   sground2975@stanfordalumni.org    Slakoth    Ground             NaN   \n2709                              NaN    Slakoth    Dragon             NaN   \n3789                              NaN    Slakoth     Ghost             NaN   \n2326                              NaN    Slakoth     Water             NaN   \n2587                              NaN    Slakoth     Grass             NaN   \n\n                          email_switch                     saa_email_address  \\\n1290  s.normal5961@alumni.stanford.edu                                   NaN   \n1967   slakothg316@alumni.stanford.edu         sghost4008@stanfordalumni.org   \n74                                 NaN                                   NaN   \n2052    slakothw808@stanfordalumni.org                                   NaN   \n2353                               NaN                                   NaN   \n503       srock5364@stanfordalumni.org                                   NaN   \n776                                NaN                                   NaN   \n1095     slakothfighting1488@gmail.com     s.fighting883@alumni.stanford.edu   \n1485    sground5309@stanfordalumni.org  slakothground1530@stanfordalumni.org   \n2709                               NaN        sdragon3285@stanfordalumni.org   \n3789                               NaN                                   NaN   \n2326    s.water4650@stanfordalumni.org                                     *   \n2587                               NaN                                   NaN   \n\n     gsb_email_address  other_email_address  pref_phone_area_code  \\\n1290               NaN                  NaN                   NaN   \n1967               NaN                  NaN                   NaN   \n74                 NaN                  NaN                   NaN   \n2052               NaN                  NaN                   NaN   \n2353               NaN                  NaN                   NaN   \n503                NaN                  NaN                   NaN   \n776                NaN                  NaN                   NaN   \n1095               NaN                  NaN                   NaN   \n1485               NaN                  NaN                   NaN   \n2709               NaN                  NaN                   NaN   \n3789               NaN                  NaN                   NaN   \n2326               NaN                  NaN                   NaN   \n2587               NaN                  NaN                   NaN   \n\n      pref_phone_number  pref_phone_addr_type  memb_status_desc  \\\n1290                NaN                   NaN               NaN   \n1967                NaN                   NaN               NaN   \n74                  NaN                   NaN               NaN   \n2052                NaN                   NaN               NaN   \n2353                NaN                   NaN               NaN   \n503                 NaN                   NaN               NaN   \n776                 NaN                   NaN               NaN   \n1095                NaN                   NaN               NaN   \n1485                NaN                   NaN               NaN   \n2709                NaN                   NaN               NaN   \n3789                NaN                   NaN               NaN   \n2326                NaN                   NaN               NaN   \n2587                NaN                   NaN               NaN   \n\n           short_degree_string  parent_degree_string  \\\n1290                       NaN                   NaN   \n1967                       NaN                   NaN   \n74    BA '99, PhD '85, MBA '89                   NaN   \n2052               '98, MA '94                   NaN   \n2353                   MBA '91                   NaN   \n503                     BS '82                   NaN   \n776                     BA '90                   NaN   \n1095       MD '99, '80, JD '88                   NaN   \n1485            MD '80, MS '93                   NaN   \n2709   MA '93, MBA '87, MA '98                   NaN   \n3789     MBA '84, MBA '84, '99                   NaN   \n2326          MBA '84, PhD '96                   NaN   \n2587      PhD '87, BA '83, '99                   NaN   \n\n      short_degree_string_spouse  parent_degree_string_spouse  \\\n1290                         NaN                          NaN   \n1967                         NaN                          NaN   \n74                           NaN                          NaN   \n2052                         NaN                          NaN   \n2353                         NaN                          NaN   \n503                          NaN                          NaN   \n776                          NaN                          NaN   \n1095                         NaN                          NaN   \n1485                         NaN                          NaN   \n2709                         NaN                          NaN   \n3789                         NaN                          NaN   \n2326                         NaN                          NaN   \n2587                         NaN                          NaN   \n\n      primary_sort_name  plan_name  primary_ind  \n1290                NaN        NaN          NaN  \n1967                NaN        NaN          NaN  \n74                  NaN        NaN          NaN  \n2052                NaN        NaN          NaN  \n2353                NaN        NaN          NaN  \n503                 NaN        NaN          NaN  \n776                 NaN        NaN          NaN  \n1095                NaN        NaN          NaN  \n1485                NaN        NaN          NaN  \n2709                NaN        NaN          NaN  \n3789                NaN        NaN          NaN  \n2326                NaN        NaN          NaN  \n2587                NaN        NaN          NaN  ",
      "text/html": "<div>\n<style scoped>\n    .dataframe tbody tr th:only-of-type {\n        vertical-align: middle;\n    }\n\n    .dataframe tbody tr th {\n        vertical-align: top;\n    }\n\n    .dataframe thead th {\n        text-align: right;\n    }\n</style>\n<table border=\"1\" class=\"dataframe\">\n  <thead>\n    <tr style=\"text-align: right;\">\n      <th></th>\n      <th>pref_mail_name</th>\n      <th>pref_class_year</th>\n      <th>home_city</th>\n      <th>home_state_code</th>\n      <th>home_country</th>\n      <th>home_phone_area_code</th>\n      <th>home_phone_number</th>\n      <th>home_email_address</th>\n      <th>bus_city</th>\n      <th>bus_state_code</th>\n      <th>bus_country</th>\n      <th>bus_phone_area_code</th>\n      <th>bus_phone_number</th>\n      <th>bus_email_address</th>\n      <th>first_name</th>\n      <th>last_name</th>\n      <th>pref_name_sort</th>\n      <th>email_switch</th>\n      <th>saa_email_address</th>\n      <th>gsb_email_address</th>\n      <th>other_email_address</th>\n      <th>pref_phone_area_code</th>\n      <th>pref_phone_number</th>\n      <th>pref_phone_addr_type</th>\n      <th>memb_status_desc</th>\n      <th>short_degree_string</th>\n      <th>parent_degree_string</th>\n      <th>short_degree_string_spouse</th>\n      <th>parent_degree_string_spouse</th>\n      <th>primary_sort_name</th>\n      <th>plan_name</th>\n      <th>primary_ind</th>\n    </tr>\n  </thead>\n  <tbody>\n    <tr>\n      <th>1290</th>\n      <td>NaN</td>\n      <td>NaN</td>\n      <td>Seoul</td>\n      <td>NaN</td>\n      <td>USA</td>\n      <td>NaN</td>\n      <td>735 1117-916</td>\n      <td>*</td>\n      <td>NaN</td>\n      <td>NaN</td>\n      <td>NaN</td>\n      <td>NaN</td>\n      <td>NaN</td>\n      <td>NaN</td>\n      <td>Slakoth</td>\n      <td>Normal</td>\n      <td>NaN</td>\n      <td>s.normal5961@alumni.stanford.edu</td>\n      <td>NaN</td>\n      <td>NaN</td>\n      <td>NaN</td>\n      <td>NaN</td>\n      <td>NaN</td>\n      <td>NaN</td>\n      <td>NaN</td>\n      <td>NaN</td>\n      <td>NaN</td>\n      <td>NaN</td>\n      <td>NaN</td>\n      <td>NaN</td>\n      <td>NaN</td>\n      <td>NaN</td>\n    </tr>\n    <tr>\n      <th>1967</th>\n      <td>NaN</td>\n      <td>NaN</td>\n      <td>London</td>\n      <td>NaN</td>\n      <td>United States</td>\n      <td>NaN</td>\n      <td>NaN</td>\n      <td>slakoth.ghost5782@stanfordalumni.org</td>\n      <td>NaN</td>\n      <td>NaN</td>\n      <td>NaN</td>\n      <td>NaN</td>\n      <td>NaN</td>\n      <td>NaN</td>\n      <td>Slakoth</td>\n      <td>Ghost</td>\n      <td>NaN</td>\n      <td>slakothg316@alumni.stanford.edu</td>\n      <td>sghost4008@stanfordalumni.org</td>\n      <td>NaN</td>\n      <td>NaN</td>\n      <td>NaN</td>\n      <td>NaN</td>\n      <td>NaN</td>\n      <td>NaN</td>\n      <td>NaN</td>\n      <td>NaN</td>\n      <td>NaN</td>\n      <td>NaN</td>\n      <td>NaN</td>\n      <td>NaN</td>\n      <td>NaN</td>\n    </tr>\n    <tr>\n      <th>74</th>\n      <td>NaN</td>\n      <td>NaN</td>\n      <td>Seoul</td>\n      <td>NaN</td>\n      <td>USA</td>\n      <td>NaN</td>\n      <td>*</td>\n      <td>slakoth.normal3945@alumni.stanford.edu</td>\n      <td>NaN</td>\n      <td>NaN</td>\n      <td>Japan</td>\n      <td>NaN</td>\n      <td>NaN</td>\n      <td>NaN</td>\n      <td>Slakoth</td>\n      <td>Normal</td>\n      <td>NaN</td>\n      <td>NaN</td>\n      <td>NaN</td>\n      <td>NaN</td>\n      <td>NaN</td>\n      <td>NaN</td>\n      <td>NaN</td>\n      <td>NaN</td>\n      <td>NaN</td>\n      <td>BA '99, PhD '85, MBA '89</td>\n      <td>NaN</td>\n      <td>NaN</td>\n      <td>NaN</td>\n      <td>NaN</td>\n      <td>NaN</td>\n      <td>NaN</td>\n    </tr>\n    <tr>\n      <th>2052</th>\n      <td>NaN</td>\n      <td>NaN</td>\n      <td>*</td>\n      <td>*</td>\n      <td>Kuwait</td>\n      <td>NaN</td>\n      <td>339 5237-035</td>\n      <td>slakothw1017@gmail.com</td>\n      <td>NaN</td>\n      <td>NaN</td>\n      <td>USA</td>\n      <td>NaN</td>\n      <td>NaN</td>\n      <td>NaN</td>\n      <td>Slakoth</td>\n      <td>Water</td>\n      <td>NaN</td>\n      <td>slakothw808@stanfordalumni.org</td>\n      <td>NaN</td>\n      <td>NaN</td>\n      <td>NaN</td>\n      <td>NaN</td>\n      <td>NaN</td>\n      <td>NaN</td>\n      <td>NaN</td>\n      <td>'98, MA '94</td>\n      <td>NaN</td>\n      <td>NaN</td>\n      <td>NaN</td>\n      <td>NaN</td>\n      <td>NaN</td>\n      <td>NaN</td>\n    </tr>\n    <tr>\n      <th>2353</th>\n      <td>NaN</td>\n      <td>2001.0</td>\n      <td>NaN</td>\n      <td>NaN</td>\n      <td>NaN</td>\n      <td>NaN</td>\n      <td>*</td>\n      <td>NaN</td>\n      <td>NaN</td>\n      <td>NaN</td>\n      <td>USA</td>\n      <td>NaN</td>\n      <td>NaN</td>\n      <td>s.poison6761@stanfordalumni.org</td>\n      <td>Slakoth</td>\n      <td>Poison</td>\n      <td>NaN</td>\n      <td>NaN</td>\n      <td>NaN</td>\n      <td>NaN</td>\n      <td>NaN</td>\n      <td>NaN</td>\n      <td>NaN</td>\n      <td>NaN</td>\n      <td>NaN</td>\n      <td>MBA '91</td>\n      <td>NaN</td>\n      <td>NaN</td>\n      <td>NaN</td>\n      <td>NaN</td>\n      <td>NaN</td>\n      <td>NaN</td>\n    </tr>\n    <tr>\n      <th>503</th>\n      <td>NaN</td>\n      <td>2018.0</td>\n      <td>Beijing</td>\n      <td>NaN</td>\n      <td>NaN</td>\n      <td>NaN</td>\n      <td>*</td>\n      <td>*</td>\n      <td>NaN</td>\n      <td>NaN</td>\n      <td>China</td>\n      <td>NaN</td>\n      <td>NaN</td>\n      <td>NaN</td>\n      <td>Slakoth</td>\n      <td>Rock</td>\n      <td>NaN</td>\n      <td>srock5364@stanfordalumni.org</td>\n      <td>NaN</td>\n      <td>NaN</td>\n      <td>NaN</td>\n      <td>NaN</td>\n      <td>NaN</td>\n      <td>NaN</td>\n      <td>NaN</td>\n      <td>BS '82</td>\n      <td>NaN</td>\n      <td>NaN</td>\n      <td>NaN</td>\n      <td>NaN</td>\n      <td>NaN</td>\n      <td>NaN</td>\n    </tr>\n    <tr>\n      <th>776</th>\n      <td>NaN</td>\n      <td>NaN</td>\n      <td>Seoul</td>\n      <td>NaN</td>\n      <td>NaN</td>\n      <td>NaN</td>\n      <td>NaN</td>\n      <td>NaN</td>\n      <td>NaN</td>\n      <td>NaN</td>\n      <td>NaN</td>\n      <td>NaN</td>\n      <td>NaN</td>\n      <td>NaN</td>\n      <td>Slakoth</td>\n      <td>Ground</td>\n      <td>NaN</td>\n      <td>NaN</td>\n      <td>NaN</td>\n      <td>NaN</td>\n      <td>NaN</td>\n      <td>NaN</td>\n      <td>NaN</td>\n      <td>NaN</td>\n      <td>NaN</td>\n      <td>BA '90</td>\n      <td>NaN</td>\n      <td>NaN</td>\n      <td>NaN</td>\n      <td>NaN</td>\n      <td>NaN</td>\n      <td>NaN</td>\n    </tr>\n    <tr>\n      <th>1095</th>\n      <td>NaN</td>\n      <td>NaN</td>\n      <td>London</td>\n      <td>NaN</td>\n      <td>USA</td>\n      <td>NaN</td>\n      <td>NaN</td>\n      <td>*</td>\n      <td>NaN</td>\n      <td>NaN</td>\n      <td>NaN</td>\n      <td>NaN</td>\n      <td>NaN</td>\n      <td>NaN</td>\n      <td>Slakoth</td>\n      <td>Fighting</td>\n      <td>NaN</td>\n      <td>slakothfighting1488@gmail.com</td>\n      <td>s.fighting883@alumni.stanford.edu</td>\n      <td>NaN</td>\n      <td>NaN</td>\n      <td>NaN</td>\n      <td>NaN</td>\n      <td>NaN</td>\n      <td>NaN</td>\n      <td>MD '99, '80, JD '88</td>\n      <td>NaN</td>\n      <td>NaN</td>\n      <td>NaN</td>\n      <td>NaN</td>\n      <td>NaN</td>\n      <td>NaN</td>\n    </tr>\n    <tr>\n      <th>1485</th>\n      <td>NaN</td>\n      <td>NaN</td>\n      <td>Shanghai</td>\n      <td>NaN</td>\n      <td>NaN</td>\n      <td>NaN</td>\n      <td>NaN</td>\n      <td>sground648@stanfordalumni.org</td>\n      <td>NaN</td>\n      <td>NaN</td>\n      <td>USA</td>\n      <td>NaN</td>\n      <td>NaN</td>\n      <td>sground2975@stanfordalumni.org</td>\n      <td>Slakoth</td>\n      <td>Ground</td>\n      <td>NaN</td>\n      <td>sground5309@stanfordalumni.org</td>\n      <td>slakothground1530@stanfordalumni.org</td>\n      <td>NaN</td>\n      <td>NaN</td>\n      <td>NaN</td>\n      <td>NaN</td>\n      <td>NaN</td>\n      <td>NaN</td>\n      <td>MD '80, MS '93</td>\n      <td>NaN</td>\n      <td>NaN</td>\n      <td>NaN</td>\n      <td>NaN</td>\n      <td>NaN</td>\n      <td>NaN</td>\n    </tr>\n    <tr>\n      <th>2709</th>\n      <td>NaN</td>\n      <td>NaN</td>\n      <td>NaN</td>\n      <td>NaN</td>\n      <td>NaN</td>\n      <td>NaN</td>\n      <td>NaN</td>\n      <td>s.dragon440@alumni.stanford.edu</td>\n      <td>NaN</td>\n      <td>NaN</td>\n      <td>United States</td>\n      <td>NaN</td>\n      <td>NaN</td>\n      <td>NaN</td>\n      <td>Slakoth</td>\n      <td>Dragon</td>\n      <td>NaN</td>\n      <td>NaN</td>\n      <td>sdragon3285@stanfordalumni.org</td>\n      <td>NaN</td>\n      <td>NaN</td>\n      <td>NaN</td>\n      <td>NaN</td>\n      <td>NaN</td>\n      <td>NaN</td>\n      <td>MA '93, MBA '87, MA '98</td>\n      <td>NaN</td>\n      <td>NaN</td>\n      <td>NaN</td>\n      <td>NaN</td>\n      <td>NaN</td>\n      <td>NaN</td>\n    </tr>\n    <tr>\n      <th>3789</th>\n      <td>NaN</td>\n      <td>NaN</td>\n      <td>Tokyo</td>\n      <td>NaN</td>\n      <td>Japan</td>\n      <td>NaN</td>\n      <td>440 3348-239</td>\n      <td>NaN</td>\n      <td>NaN</td>\n      <td>NaN</td>\n      <td>*</td>\n      <td>NaN</td>\n      <td>NaN</td>\n      <td>NaN</td>\n      <td>Slakoth</td>\n      <td>Ghost</td>\n      <td>NaN</td>\n      <td>NaN</td>\n      <td>NaN</td>\n      <td>NaN</td>\n      <td>NaN</td>\n      <td>NaN</td>\n      <td>NaN</td>\n      <td>NaN</td>\n      <td>NaN</td>\n      <td>MBA '84, MBA '84, '99</td>\n      <td>NaN</td>\n      <td>NaN</td>\n      <td>NaN</td>\n      <td>NaN</td>\n      <td>NaN</td>\n      <td>NaN</td>\n    </tr>\n    <tr>\n      <th>2326</th>\n      <td>NaN</td>\n      <td>NaN</td>\n      <td>Seoul</td>\n      <td>NaN</td>\n      <td>Kuwait</td>\n      <td>NaN</td>\n      <td>NaN</td>\n      <td>*</td>\n      <td>NaN</td>\n      <td>NaN</td>\n      <td>China</td>\n      <td>NaN</td>\n      <td>NaN</td>\n      <td>NaN</td>\n      <td>Slakoth</td>\n      <td>Water</td>\n      <td>NaN</td>\n      <td>s.water4650@stanfordalumni.org</td>\n      <td>*</td>\n      <td>NaN</td>\n      <td>NaN</td>\n      <td>NaN</td>\n      <td>NaN</td>\n      <td>NaN</td>\n      <td>NaN</td>\n      <td>MBA '84, PhD '96</td>\n      <td>NaN</td>\n      <td>NaN</td>\n      <td>NaN</td>\n      <td>NaN</td>\n      <td>NaN</td>\n      <td>NaN</td>\n    </tr>\n    <tr>\n      <th>2587</th>\n      <td>NaN</td>\n      <td>2014.0</td>\n      <td>Tokyo</td>\n      <td>NaN</td>\n      <td>*</td>\n      <td>NaN</td>\n      <td>NaN</td>\n      <td>NaN</td>\n      <td>NaN</td>\n      <td>NaN</td>\n      <td>China</td>\n      <td>NaN</td>\n      <td>NaN</td>\n      <td>NaN</td>\n      <td>Slakoth</td>\n      <td>Grass</td>\n      <td>NaN</td>\n      <td>NaN</td>\n      <td>NaN</td>\n      <td>NaN</td>\n      <td>NaN</td>\n      <td>NaN</td>\n      <td>NaN</td>\n      <td>NaN</td>\n      <td>NaN</td>\n      <td>PhD '87, BA '83, '99</td>\n      <td>NaN</td>\n      <td>NaN</td>\n      <td>NaN</td>\n      <td>NaN</td>\n      <td>NaN</td>\n      <td>NaN</td>\n    </tr>\n  </tbody>\n</table>\n</div>"
     },
     "execution_count": 38,
     "metadata": {},
     "output_type": "execute_result"
    }
   ],
   "source": [
    "#testing the results_dict\n",
    "results_dict[0]['SAA_query_result']"
   ]
  },
  {
   "cell_type": "markdown",
   "metadata": {
    "pycharm": {
     "name": "#%% md\n"
    }
   },
   "source": [
    "# App"
   ]
  },
  {
   "cell_type": "markdown",
   "metadata": {
    "pycharm": {
     "name": "#%% md\n"
    }
   },
   "source": [
    "- app made to be used locally, not deploying it on the streamlit.\n",
    "- What shows up first is the Mailchimp dataset"
   ]
  },
  {
   "cell_type": "markdown",
   "metadata": {
    "pycharm": {
     "name": "#%% md\n"
    }
   },
   "source": [
    "# Next Steps"
   ]
  },
  {
   "cell_type": "markdown",
   "metadata": {
    "pycharm": {
     "name": "#%% md\n"
    }
   },
   "source": [
    "- The model can be further optimized and tuned to account for the rare issues that arises from the datasets.\n",
    "\n",
    "\n",
    "- Use the Salesforce information through its API. This filtering and model only used the dataset from Mailchimp which is in sync with the Salesforce database. Unfortunately, the Mailchimp data has very limited information compared to its mother database Salesforce as such the information used to match is very limited. As such, being able to potentially match the individual on the bounced Mailchimp data to the Salesforce to increase the potential areas of matches will likely yield better matches to the Stanford Database.\n",
    "\n",
    "\n",
    "- Further investigation of Mailchimp and Salesforce platform. Due to time restraint, we were unable to look into how both of these platforms integrate with each other and work. We would want to investigate if there is a way for us do an API call from Salesforce to Mailchimp. This way, we can potentially get a list of bounced individuals from Mailchimp in Salesforce and implement our model there as there is developer console available on Salesforce.\n",
    "\n",
    "\n",
    "- Take a proactive approach. We would suggest using the salesforce dataset to check for recent grads or to-be-graduates to reach out before they lose their student emails and ask for updated contact information and their subsequent plans after graduation. It would be easier to update records proactively when we still have accurate contact information. For subsequent plans after graduation, this would be to keeping location information of members to more accurately send regional events and functions. "
   ]
  },
  {
   "cell_type": "markdown",
   "metadata": {
    "pycharm": {
     "name": "#%% md\n"
    }
   },
   "source": [
    "# Additional Notes"
   ]
  },
  {
   "cell_type": "markdown",
   "metadata": {
    "pycharm": {
     "name": "#%% md\n"
    }
   },
   "source": [
    "- Mailchimp gets live data from Salesforce each time it produces a report. As such, an individual's information on Mailchimp reflects that of Salesforce. Unfortunately, information that Mailchimp produces does not get sent to the Salesforce database as such within Salesforce, there is no saved information on whether an email has been bounced on MailChimp. As such, we'd have to use a more local method to get additional information on an individual from the Salesforce. Unless if it is possible to create a specialized report on Mailchimp which contained most of the Salesforce information. But that would need to be investigated further.\n",
    "\n",
    "\n",
    "- We recently found that Salesforce and Mailchimp each have a REST API that can be used to pull information. However, further discussion will need to be had about these APIs since Stanford Pride is using a Non-Profit Version of Salesforce. As such, limitations might be apply by the platforms. Both of these APIs would need heavy investigation on what their limitations would be for Stanford Pride.\n",
    "    - [SalesForce API Documentation](https://developer.salesforce.com/docs/atlas.en-us.api_rest.meta/api_rest/intro_what_is_rest_api.htm)\n",
    "    - [MailChimp API Documentation](https://mailchimp.com/developer/)"
   ]
  }
 ],
 "metadata": {
  "kernelspec": {
   "display_name": "learn-env",
   "language": "python",
   "name": "learn-env"
  },
  "language_info": {
   "codemirror_mode": {
    "name": "ipython",
    "version": 3
   },
   "file_extension": ".py",
   "mimetype": "text/x-python",
   "name": "python",
   "nbconvert_exporter": "python",
   "pygments_lexer": "ipython3",
   "version": "3.8.5"
  },
  "toc": {
   "base_numbering": 1,
   "nav_menu": {},
   "number_sections": true,
   "sideBar": true,
   "skip_h1_title": false,
   "title_cell": "Table of Contents",
   "title_sidebar": "Contents",
   "toc_cell": false,
   "toc_position": {},
   "toc_section_display": true,
   "toc_window_display": false
  },
  "varInspector": {
   "cols": {
    "lenName": 16,
    "lenType": 16,
    "lenVar": 40
   },
   "kernels_config": {
    "python": {
     "delete_cmd_postfix": "",
     "delete_cmd_prefix": "del ",
     "library": "var_list.py",
     "varRefreshCmd": "print(var_dic_list())"
    },
    "r": {
     "delete_cmd_postfix": ") ",
     "delete_cmd_prefix": "rm(",
     "library": "var_list.r",
     "varRefreshCmd": "cat(var_dic_list()) "
    }
   },
   "position": {
    "height": "457.85px",
    "left": "1638.2px",
    "right": "20px",
    "top": "120px",
    "width": "373px"
   },
   "types_to_exclude": [
    "module",
    "function",
    "builtin_function_or_method",
    "instance",
    "_Feature"
   ],
   "window_display": false
  }
 },
 "nbformat": 4,
 "nbformat_minor": 4
}